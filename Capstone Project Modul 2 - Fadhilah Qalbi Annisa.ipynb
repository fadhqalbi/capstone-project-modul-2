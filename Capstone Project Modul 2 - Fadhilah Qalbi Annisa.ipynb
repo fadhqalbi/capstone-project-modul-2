{
 "cells": [
  {
   "cell_type": "markdown",
   "metadata": {},
   "source": [
    "# Import Library"
   ]
  },
  {
   "cell_type": "code",
   "execution_count": 1,
   "metadata": {},
   "outputs": [],
   "source": [
    "import pandas as pd\n",
    "import numpy as np\n",
    "import seaborn as sns\n",
    "\n",
    "import re\n",
    "\n",
    "from scipy.stats import normaltest\n",
    "from scipy.stats import kruskal\n",
    "\n",
    "import matplotlib.pyplot as plt\n",
    "import plotly.express as px\n",
    "import plotly.graph_objects as go\n",
    "\n",
    "import warnings\n",
    "warnings.filterwarnings(\"ignore\")"
   ]
  },
  {
   "cell_type": "markdown",
   "metadata": {},
   "source": [
    "## Deskripsi Dataset"
   ]
  },
  {
   "cell_type": "markdown",
   "metadata": {},
   "source": [
    "<br> Title: TSA Claims\n",
    "<br> Size: 13 kolom dan 204,267 baris\n",
    "<br> TSA Claims Database merupakan data pengajuan klaim di bandara pada tahun 2002-2015. Dataset ini berisikan informasi tentang:\n",
    "\n",
    "- Claim Number: Nomor klaim pelanggan\n",
    "- Date Received: Tanggal klaim diterima\n",
    "- Incident Date: Tanggal kejadian penyebab klaim\n",
    "- Airport Code: Kode bandara kejadian\n",
    "- Airport Name: Nama bandara kejadian\n",
    "- Airline Name: Nama maskapai penerbangan yang terkait\n",
    "- Claim Type: Jenis klaim yang diajukan\n",
    "- Claim Site: Lokasi pengajuan klaim\n",
    "- Item: Barang yang diklaim\n",
    "- Claim Amount: Nominal klaim yang diajukan\n",
    "- Status: Status klaim\n",
    "- Close Amount: Nominal klaim yang diberikan\n",
    "- Disposition: Penyelesaian klaim yang diajukan\n",
    "\n",
    "<br> Source: [Kaggle](https://www.kaggle.com/datasets/terminal-security-agency/tsa-claims-database)"
   ]
  },
  {
   "cell_type": "markdown",
   "metadata": {},
   "source": [
    "## Load Dataset"
   ]
  },
  {
   "cell_type": "code",
   "execution_count": 2,
   "metadata": {},
   "outputs": [
    {
     "data": {
      "text/html": [
       "<div>\n",
       "<style scoped>\n",
       "    .dataframe tbody tr th:only-of-type {\n",
       "        vertical-align: middle;\n",
       "    }\n",
       "\n",
       "    .dataframe tbody tr th {\n",
       "        vertical-align: top;\n",
       "    }\n",
       "\n",
       "    .dataframe thead th {\n",
       "        text-align: right;\n",
       "    }\n",
       "</style>\n",
       "<table border=\"1\" class=\"dataframe\">\n",
       "  <thead>\n",
       "    <tr style=\"text-align: right;\">\n",
       "      <th></th>\n",
       "      <th>Claim Number</th>\n",
       "      <th>Date Received</th>\n",
       "      <th>Incident Date</th>\n",
       "      <th>Airport Code</th>\n",
       "      <th>Airport Name</th>\n",
       "      <th>Airline Name</th>\n",
       "      <th>Claim Type</th>\n",
       "      <th>Claim Site</th>\n",
       "      <th>Item</th>\n",
       "      <th>Claim Amount</th>\n",
       "      <th>Status</th>\n",
       "      <th>Close Amount</th>\n",
       "      <th>Disposition</th>\n",
       "    </tr>\n",
       "  </thead>\n",
       "  <tbody>\n",
       "    <tr>\n",
       "      <th>0</th>\n",
       "      <td>0909802M</td>\n",
       "      <td>4-Jan-02</td>\n",
       "      <td>12/12/2002 0:00</td>\n",
       "      <td>EWR</td>\n",
       "      <td>Newark International Airport</td>\n",
       "      <td>Continental Airlines</td>\n",
       "      <td>Property Damage</td>\n",
       "      <td>Checkpoint</td>\n",
       "      <td>Other</td>\n",
       "      <td>$350.00</td>\n",
       "      <td>Approved</td>\n",
       "      <td>$350.00</td>\n",
       "      <td>Approve in Full</td>\n",
       "    </tr>\n",
       "    <tr>\n",
       "      <th>1</th>\n",
       "      <td>0202417M</td>\n",
       "      <td>2-Feb-02</td>\n",
       "      <td>1/16/2004 0:00</td>\n",
       "      <td>SEA</td>\n",
       "      <td>Seattle-Tacoma International</td>\n",
       "      <td>NaN</td>\n",
       "      <td>Property Damage</td>\n",
       "      <td>Checked Baggage</td>\n",
       "      <td>Luggage (all types including footlockers)</td>\n",
       "      <td>$100.00</td>\n",
       "      <td>Settled</td>\n",
       "      <td>$50.00</td>\n",
       "      <td>Settle</td>\n",
       "    </tr>\n",
       "    <tr>\n",
       "      <th>2</th>\n",
       "      <td>0202445M</td>\n",
       "      <td>4-Feb-02</td>\n",
       "      <td>11/26/2003 0:00</td>\n",
       "      <td>STL</td>\n",
       "      <td>Lambert St. Louis International</td>\n",
       "      <td>American Airlines</td>\n",
       "      <td>Property Damage</td>\n",
       "      <td>Checked Baggage</td>\n",
       "      <td>Cell Phones</td>\n",
       "      <td>$278.88</td>\n",
       "      <td>Settled</td>\n",
       "      <td>$227.92</td>\n",
       "      <td>Settle</td>\n",
       "    </tr>\n",
       "    <tr>\n",
       "      <th>3</th>\n",
       "      <td>0909816M</td>\n",
       "      <td>7-Feb-02</td>\n",
       "      <td>1/6/2003 0:00</td>\n",
       "      <td>MIA</td>\n",
       "      <td>Miami International Airport</td>\n",
       "      <td>American Airlines</td>\n",
       "      <td>Property Damage</td>\n",
       "      <td>Checkpoint</td>\n",
       "      <td>Luggage (all types including footlockers)</td>\n",
       "      <td>$50.00</td>\n",
       "      <td>Approved</td>\n",
       "      <td>$50.00</td>\n",
       "      <td>Approve in Full</td>\n",
       "    </tr>\n",
       "    <tr>\n",
       "      <th>4</th>\n",
       "      <td>2005032379513</td>\n",
       "      <td>18-Feb-02</td>\n",
       "      <td>2/5/2005 0:00</td>\n",
       "      <td>MCO</td>\n",
       "      <td>Orlando International Airport</td>\n",
       "      <td>Delta (Song)</td>\n",
       "      <td>Property Damage</td>\n",
       "      <td>Checkpoint</td>\n",
       "      <td>Baby - Strollers; car seats; playpen; etc.</td>\n",
       "      <td>$84.79</td>\n",
       "      <td>Approved</td>\n",
       "      <td>$84.79</td>\n",
       "      <td>Approve in Full</td>\n",
       "    </tr>\n",
       "  </tbody>\n",
       "</table>\n",
       "</div>"
      ],
      "text/plain": [
       "    Claim Number Date Received    Incident Date Airport Code  \\\n",
       "0       0909802M      4-Jan-02  12/12/2002 0:00          EWR   \n",
       "1       0202417M      2-Feb-02   1/16/2004 0:00          SEA   \n",
       "2       0202445M      4-Feb-02  11/26/2003 0:00          STL   \n",
       "3       0909816M      7-Feb-02    1/6/2003 0:00          MIA   \n",
       "4  2005032379513     18-Feb-02    2/5/2005 0:00          MCO   \n",
       "\n",
       "                      Airport Name          Airline Name       Claim Type  \\\n",
       "0     Newark International Airport  Continental Airlines  Property Damage   \n",
       "1     Seattle-Tacoma International                   NaN  Property Damage   \n",
       "2  Lambert St. Louis International     American Airlines  Property Damage   \n",
       "3      Miami International Airport     American Airlines  Property Damage   \n",
       "4    Orlando International Airport          Delta (Song)  Property Damage   \n",
       "\n",
       "        Claim Site                                        Item Claim Amount  \\\n",
       "0       Checkpoint                                       Other     $350.00    \n",
       "1  Checked Baggage   Luggage (all types including footlockers)     $100.00    \n",
       "2  Checked Baggage                                 Cell Phones     $278.88    \n",
       "3       Checkpoint   Luggage (all types including footlockers)      $50.00    \n",
       "4       Checkpoint  Baby - Strollers; car seats; playpen; etc.      $84.79    \n",
       "\n",
       "     Status Close Amount      Disposition  \n",
       "0  Approved     $350.00   Approve in Full  \n",
       "1   Settled      $50.00            Settle  \n",
       "2   Settled     $227.92            Settle  \n",
       "3  Approved      $50.00   Approve in Full  \n",
       "4  Approved      $84.79   Approve in Full  "
      ]
     },
     "execution_count": 2,
     "metadata": {},
     "output_type": "execute_result"
    }
   ],
   "source": [
    "df = pd.read_csv('tsa_claims.csv').reset_index(drop=True)\n",
    "df.head()"
   ]
  },
  {
   "cell_type": "markdown",
   "metadata": {},
   "source": [
    "## Eksplorasi Dataset"
   ]
  },
  {
   "cell_type": "markdown",
   "metadata": {},
   "source": [
    "### Informasi tentang Dataset (Kolom, Keterisian Data, Tipe Data)"
   ]
  },
  {
   "cell_type": "code",
   "execution_count": 3,
   "metadata": {},
   "outputs": [
    {
     "name": "stdout",
     "output_type": "stream",
     "text": [
      "<class 'pandas.core.frame.DataFrame'>\n",
      "RangeIndex: 204267 entries, 0 to 204266\n",
      "Data columns (total 13 columns):\n",
      " #   Column         Non-Null Count   Dtype \n",
      "---  ------         --------------   ----- \n",
      " 0   Claim Number   204267 non-null  object\n",
      " 1   Date Received  204004 non-null  object\n",
      " 2   Incident Date  202084 non-null  object\n",
      " 3   Airport Code   195743 non-null  object\n",
      " 4   Airport Name   195743 non-null  object\n",
      " 5   Airline Name   169893 non-null  object\n",
      " 6   Claim Type     196354 non-null  object\n",
      " 7   Claim Site     203527 non-null  object\n",
      " 8   Item           200301 non-null  object\n",
      " 9   Claim Amount   200224 non-null  object\n",
      " 10  Status         204262 non-null  object\n",
      " 11  Close Amount   135315 non-null  object\n",
      " 12  Disposition    131359 non-null  object\n",
      "dtypes: object(13)\n",
      "memory usage: 20.3+ MB\n"
     ]
    }
   ],
   "source": [
    "df.info() #Memeriksa isi data (banyak nilai null dan tipe data)"
   ]
  },
  {
   "cell_type": "markdown",
   "metadata": {},
   "source": [
    "### Data Duplikat"
   ]
  },
  {
   "cell_type": "code",
   "execution_count": 4,
   "metadata": {},
   "outputs": [
    {
     "data": {
      "text/html": [
       "<div>\n",
       "<style scoped>\n",
       "    .dataframe tbody tr th:only-of-type {\n",
       "        vertical-align: middle;\n",
       "    }\n",
       "\n",
       "    .dataframe tbody tr th {\n",
       "        vertical-align: top;\n",
       "    }\n",
       "\n",
       "    .dataframe thead th {\n",
       "        text-align: right;\n",
       "    }\n",
       "</style>\n",
       "<table border=\"1\" class=\"dataframe\">\n",
       "  <thead>\n",
       "    <tr style=\"text-align: right;\">\n",
       "      <th></th>\n",
       "      <th>Claim Number</th>\n",
       "      <th>Date Received</th>\n",
       "      <th>Incident Date</th>\n",
       "      <th>Airport Code</th>\n",
       "      <th>Airport Name</th>\n",
       "      <th>Airline Name</th>\n",
       "      <th>Claim Type</th>\n",
       "      <th>Claim Site</th>\n",
       "      <th>Item</th>\n",
       "      <th>Claim Amount</th>\n",
       "      <th>Status</th>\n",
       "      <th>Close Amount</th>\n",
       "      <th>Disposition</th>\n",
       "    </tr>\n",
       "  </thead>\n",
       "  <tbody>\n",
       "    <tr>\n",
       "      <th>16842</th>\n",
       "      <td>2004050450432</td>\n",
       "      <td>26-Sep-03</td>\n",
       "      <td>9/13/2003 0:00</td>\n",
       "      <td>NaN</td>\n",
       "      <td>NaN</td>\n",
       "      <td>NaN</td>\n",
       "      <td>Property Damage</td>\n",
       "      <td>Checked Baggage</td>\n",
       "      <td>DVD/CD Players</td>\n",
       "      <td>$31.96</td>\n",
       "      <td>Canceled</td>\n",
       "      <td>NaN</td>\n",
       "      <td>NaN</td>\n",
       "    </tr>\n",
       "    <tr>\n",
       "      <th>186744</th>\n",
       "      <td>2013081805991</td>\n",
       "      <td>13-Jan-14</td>\n",
       "      <td>21-Dec-12</td>\n",
       "      <td>HPN</td>\n",
       "      <td>Westchester County; White Plains</td>\n",
       "      <td>USAir</td>\n",
       "      <td>Personal Injury</td>\n",
       "      <td>Checked Baggage</td>\n",
       "      <td>Audio/Video; Jewelry &amp; Watches</td>\n",
       "      <td>$0.00</td>\n",
       "      <td>Deny</td>\n",
       "      <td>NaN</td>\n",
       "      <td>NaN</td>\n",
       "    </tr>\n",
       "    <tr>\n",
       "      <th>186836</th>\n",
       "      <td>2013053003894</td>\n",
       "      <td>18-Apr-14</td>\n",
       "      <td>22-Apr-13</td>\n",
       "      <td>ACY</td>\n",
       "      <td>Atlantic City International</td>\n",
       "      <td>-</td>\n",
       "      <td>Motor Vehicle</td>\n",
       "      <td>Motor Vehicle</td>\n",
       "      <td>Baggage/Cases/Purses</td>\n",
       "      <td>$2;233.86</td>\n",
       "      <td>Settle</td>\n",
       "      <td>NaN</td>\n",
       "      <td>NaN</td>\n",
       "    </tr>\n",
       "    <tr>\n",
       "      <th>186837</th>\n",
       "      <td>2013081205863</td>\n",
       "      <td>24-Apr-14</td>\n",
       "      <td>2-Aug-13</td>\n",
       "      <td>ZZX</td>\n",
       "      <td>Non TSA Airport (motor vehicle)</td>\n",
       "      <td>-</td>\n",
       "      <td>Personal Injury</td>\n",
       "      <td>Motor Vehicle</td>\n",
       "      <td>-</td>\n",
       "      <td>$20;000.00</td>\n",
       "      <td>Settle</td>\n",
       "      <td>NaN</td>\n",
       "      <td>NaN</td>\n",
       "    </tr>\n",
       "    <tr>\n",
       "      <th>186838</th>\n",
       "      <td>2013082906390</td>\n",
       "      <td>3-Jul-14</td>\n",
       "      <td>23-Jul-13</td>\n",
       "      <td>BNA</td>\n",
       "      <td>Nashville International</td>\n",
       "      <td>Southwest Airlines</td>\n",
       "      <td>Personal Injury</td>\n",
       "      <td>Checkpoint</td>\n",
       "      <td>Other</td>\n",
       "      <td>-</td>\n",
       "      <td>-</td>\n",
       "      <td>NaN</td>\n",
       "      <td>NaN</td>\n",
       "    </tr>\n",
       "    <tr>\n",
       "      <th>186842</th>\n",
       "      <td>2013103108490</td>\n",
       "      <td>22-May-14</td>\n",
       "      <td>26-Sep-13</td>\n",
       "      <td>ZZX</td>\n",
       "      <td>Non TSA Airport (motor vehicle)</td>\n",
       "      <td>-</td>\n",
       "      <td>Personal Injury</td>\n",
       "      <td>Motor Vehicle</td>\n",
       "      <td>-</td>\n",
       "      <td>-</td>\n",
       "      <td>-</td>\n",
       "      <td>NaN</td>\n",
       "      <td>NaN</td>\n",
       "    </tr>\n",
       "    <tr>\n",
       "      <th>186844</th>\n",
       "      <td>2013121110011</td>\n",
       "      <td>21-Jul-14</td>\n",
       "      <td>15-May-13</td>\n",
       "      <td>JAX</td>\n",
       "      <td>Jacksonville International</td>\n",
       "      <td>-</td>\n",
       "      <td>Personal Injury</td>\n",
       "      <td>Checkpoint</td>\n",
       "      <td>-</td>\n",
       "      <td>-</td>\n",
       "      <td>-</td>\n",
       "      <td>NaN</td>\n",
       "      <td>NaN</td>\n",
       "    </tr>\n",
       "    <tr>\n",
       "      <th>186846</th>\n",
       "      <td>2013123010324</td>\n",
       "      <td>21-May-14</td>\n",
       "      <td>30-Nov-13</td>\n",
       "      <td>MCO</td>\n",
       "      <td>Orlando International Airport</td>\n",
       "      <td>Delta Air Lines</td>\n",
       "      <td>Personal Injury</td>\n",
       "      <td>Checkpoint</td>\n",
       "      <td>-</td>\n",
       "      <td>$0.00</td>\n",
       "      <td>Deny</td>\n",
       "      <td>NaN</td>\n",
       "      <td>NaN</td>\n",
       "    </tr>\n",
       "    <tr>\n",
       "      <th>196321</th>\n",
       "      <td>2013050203487</td>\n",
       "      <td>27-Feb-15</td>\n",
       "      <td>21-Jan-13</td>\n",
       "      <td>BOS</td>\n",
       "      <td>Boston (Logan) International Airport</td>\n",
       "      <td>American Airlines</td>\n",
       "      <td>Personal Injury</td>\n",
       "      <td>Checkpoint</td>\n",
       "      <td>-</td>\n",
       "      <td>$0.00</td>\n",
       "      <td>Deny</td>\n",
       "      <td>NaN</td>\n",
       "      <td>NaN</td>\n",
       "    </tr>\n",
       "  </tbody>\n",
       "</table>\n",
       "</div>"
      ],
      "text/plain": [
       "         Claim Number Date Received   Incident Date Airport Code  \\\n",
       "16842   2004050450432     26-Sep-03  9/13/2003 0:00          NaN   \n",
       "186744  2013081805991     13-Jan-14       21-Dec-12          HPN   \n",
       "186836  2013053003894     18-Apr-14       22-Apr-13          ACY   \n",
       "186837  2013081205863     24-Apr-14        2-Aug-13          ZZX   \n",
       "186838  2013082906390      3-Jul-14       23-Jul-13          BNA   \n",
       "186842  2013103108490     22-May-14       26-Sep-13          ZZX   \n",
       "186844  2013121110011     21-Jul-14       15-May-13          JAX   \n",
       "186846  2013123010324     21-May-14       30-Nov-13          MCO   \n",
       "196321  2013050203487     27-Feb-15       21-Jan-13          BOS   \n",
       "\n",
       "                                Airport Name          Airline Name  \\\n",
       "16842                                    NaN                   NaN   \n",
       "186744      Westchester County; White Plains               USAir     \n",
       "186836           Atlantic City International                     -   \n",
       "186837       Non TSA Airport (motor vehicle)                     -   \n",
       "186838               Nashville International  Southwest Airlines     \n",
       "186842       Non TSA Airport (motor vehicle)                     -   \n",
       "186844            Jacksonville International                     -   \n",
       "186846         Orlando International Airport     Delta Air Lines     \n",
       "196321  Boston (Logan) International Airport     American Airlines   \n",
       "\n",
       "             Claim Type       Claim Site                            Item  \\\n",
       "16842   Property Damage  Checked Baggage                  DVD/CD Players   \n",
       "186744  Personal Injury  Checked Baggage  Audio/Video; Jewelry & Watches   \n",
       "186836    Motor Vehicle    Motor Vehicle            Baggage/Cases/Purses   \n",
       "186837  Personal Injury    Motor Vehicle                               -   \n",
       "186838  Personal Injury       Checkpoint                           Other   \n",
       "186842  Personal Injury    Motor Vehicle                               -   \n",
       "186844  Personal Injury       Checkpoint                               -   \n",
       "186846  Personal Injury       Checkpoint                               -   \n",
       "196321  Personal Injury       Checkpoint                               -   \n",
       "\n",
       "       Claim Amount    Status Close Amount Disposition  \n",
       "16842       $31.96   Canceled          NaN         NaN  \n",
       "186744       $0.00       Deny          NaN         NaN  \n",
       "186836   $2;233.86     Settle          NaN         NaN  \n",
       "186837  $20;000.00     Settle          NaN         NaN  \n",
       "186838            -         -          NaN         NaN  \n",
       "186842            -         -          NaN         NaN  \n",
       "186844            -         -          NaN         NaN  \n",
       "186846       $0.00       Deny          NaN         NaN  \n",
       "196321       $0.00       Deny          NaN         NaN  "
      ]
     },
     "execution_count": 4,
     "metadata": {},
     "output_type": "execute_result"
    }
   ],
   "source": [
    "df[df['Claim Number'].duplicated()] #Mengecek data yang terduplikasi"
   ]
  },
  {
   "cell_type": "markdown",
   "metadata": {},
   "source": [
    "Ada 9 data duplikat di dalam dataset"
   ]
  },
  {
   "cell_type": "markdown",
   "metadata": {},
   "source": [
    "### Nilai Kosong (Null) pada Dataset"
   ]
  },
  {
   "cell_type": "markdown",
   "metadata": {},
   "source": [
    "Untuk mempermudah melihat proporsi data kosong di setiap kolom data, maka jumlah null value akan dihitung sebagai persentase dari total semua data"
   ]
  },
  {
   "cell_type": "code",
   "execution_count": 5,
   "metadata": {},
   "outputs": [
    {
     "data": {
      "text/html": [
       "<div>\n",
       "<style scoped>\n",
       "    .dataframe tbody tr th:only-of-type {\n",
       "        vertical-align: middle;\n",
       "    }\n",
       "\n",
       "    .dataframe tbody tr th {\n",
       "        vertical-align: top;\n",
       "    }\n",
       "\n",
       "    .dataframe thead th {\n",
       "        text-align: right;\n",
       "    }\n",
       "</style>\n",
       "<table border=\"1\" class=\"dataframe\">\n",
       "  <thead>\n",
       "    <tr style=\"text-align: right;\">\n",
       "      <th></th>\n",
       "      <th>Banyak Null</th>\n",
       "      <th>Persentase Null</th>\n",
       "    </tr>\n",
       "  </thead>\n",
       "  <tbody>\n",
       "    <tr>\n",
       "      <th>Claim Number</th>\n",
       "      <td>0</td>\n",
       "      <td>0.000000</td>\n",
       "    </tr>\n",
       "    <tr>\n",
       "      <th>Date Received</th>\n",
       "      <td>263</td>\n",
       "      <td>0.128753</td>\n",
       "    </tr>\n",
       "    <tr>\n",
       "      <th>Incident Date</th>\n",
       "      <td>2183</td>\n",
       "      <td>1.068699</td>\n",
       "    </tr>\n",
       "    <tr>\n",
       "      <th>Airport Code</th>\n",
       "      <td>8524</td>\n",
       "      <td>4.172970</td>\n",
       "    </tr>\n",
       "    <tr>\n",
       "      <th>Airport Name</th>\n",
       "      <td>8524</td>\n",
       "      <td>4.172970</td>\n",
       "    </tr>\n",
       "    <tr>\n",
       "      <th>Airline Name</th>\n",
       "      <td>34374</td>\n",
       "      <td>16.827975</td>\n",
       "    </tr>\n",
       "    <tr>\n",
       "      <th>Claim Type</th>\n",
       "      <td>7913</td>\n",
       "      <td>3.873851</td>\n",
       "    </tr>\n",
       "    <tr>\n",
       "      <th>Claim Site</th>\n",
       "      <td>740</td>\n",
       "      <td>0.362271</td>\n",
       "    </tr>\n",
       "    <tr>\n",
       "      <th>Item</th>\n",
       "      <td>3966</td>\n",
       "      <td>1.941576</td>\n",
       "    </tr>\n",
       "    <tr>\n",
       "      <th>Claim Amount</th>\n",
       "      <td>4043</td>\n",
       "      <td>1.979272</td>\n",
       "    </tr>\n",
       "    <tr>\n",
       "      <th>Status</th>\n",
       "      <td>5</td>\n",
       "      <td>0.002448</td>\n",
       "    </tr>\n",
       "    <tr>\n",
       "      <th>Close Amount</th>\n",
       "      <td>68952</td>\n",
       "      <td>33.755820</td>\n",
       "    </tr>\n",
       "    <tr>\n",
       "      <th>Disposition</th>\n",
       "      <td>72908</td>\n",
       "      <td>35.692501</td>\n",
       "    </tr>\n",
       "  </tbody>\n",
       "</table>\n",
       "</div>"
      ],
      "text/plain": [
       "               Banyak Null  Persentase Null\n",
       "Claim Number             0         0.000000\n",
       "Date Received          263         0.128753\n",
       "Incident Date         2183         1.068699\n",
       "Airport Code          8524         4.172970\n",
       "Airport Name          8524         4.172970\n",
       "Airline Name         34374        16.827975\n",
       "Claim Type            7913         3.873851\n",
       "Claim Site             740         0.362271\n",
       "Item                  3966         1.941576\n",
       "Claim Amount          4043         1.979272\n",
       "Status                   5         0.002448\n",
       "Close Amount         68952        33.755820\n",
       "Disposition          72908        35.692501"
      ]
     },
     "execution_count": 5,
     "metadata": {},
     "output_type": "execute_result"
    }
   ],
   "source": [
    "# Memeriksa banyak nilai null dan persentasenya di dalam dataset\n",
    "num = df.isna().sum()\n",
    "res = pd.concat([num,num/len(df)*100],axis=1,keys=['Banyak Null','Persentase Null'])\n",
    "res"
   ]
  },
  {
   "cell_type": "markdown",
   "metadata": {},
   "source": [
    "Data kosong ditemukan pada hampir semua kolom, namun pada kolom 'Close Amount' dan 'Disposition' persentase data kosong ini mencapai 33.75% dan 35.69% dari total data sehingga diperlukan perlakuan untuk menangani data kosong ini karena tidak semua data null dapat dikeluarkan dari dataset."
   ]
  },
  {
   "cell_type": "markdown",
   "metadata": {},
   "source": [
    "### Ragam Nilai Dalam Setiap Kolom"
   ]
  },
  {
   "cell_type": "code",
   "execution_count": 6,
   "metadata": {},
   "outputs": [
    {
     "data": {
      "text/html": [
       "<div>\n",
       "<style scoped>\n",
       "    .dataframe tbody tr th:only-of-type {\n",
       "        vertical-align: middle;\n",
       "    }\n",
       "\n",
       "    .dataframe tbody tr th {\n",
       "        vertical-align: top;\n",
       "    }\n",
       "\n",
       "    .dataframe thead th {\n",
       "        text-align: right;\n",
       "    }\n",
       "</style>\n",
       "<table border=\"1\" class=\"dataframe\">\n",
       "  <thead>\n",
       "    <tr style=\"text-align: right;\">\n",
       "      <th></th>\n",
       "      <th>Column Name</th>\n",
       "      <th>Unique Values</th>\n",
       "    </tr>\n",
       "  </thead>\n",
       "  <tbody>\n",
       "    <tr>\n",
       "      <th>0</th>\n",
       "      <td>Claim Number</td>\n",
       "      <td>[0909802M, 0202417M, 0202445M, 0909816M, 2005032379513, 2005032479636, 2007050124750, 12772, 14268, 2004102965797, 2005071188575, 2005070788431, 14460, 13334, 0616771L, 15242, 15324, 15361, 0616636L, 0714534M, 0616540L, 16410, 0616723L, 2004092763985, 16403, 0702564M, 16759, 0616777L, 15352, 14907, 17892, 17846, 17201, 2004050550501, 18170, 18202, 18193, 18222, 18171, 18274, 0616726L, 18315, 16961, 17666, 18141, 18301, 0909839M, 15542, 18065, 18109, 18098, 18101, 18394, 0616699L, 18438, 18620, 21003, 21021, 0616631L, 18221, 0616675L, 18804, 0616760L, 18917, 18919, 21134, 19009, 0616624L, 20887, 21013, 19029, 18966, 19133, 23663, 0616802L, 15769, 18181, 23623, 0702504M, 0714563M, 0616579L, 23284, 18386, 18908, 23278, 21111, 21254, 0714547M, 19239, 19039, 19078, 20938, 21052, 21053, 21054, 21253, 0616528L, 19229, 20937, 0616610L, ...]</td>\n",
       "    </tr>\n",
       "    <tr>\n",
       "      <th>1</th>\n",
       "      <td>Date Received</td>\n",
       "      <td>[4-Jan-02, 2-Feb-02, 4-Feb-02, 7-Feb-02, 18-Feb-02, 30-Apr-02, 20-Jun-02, 25-Jun-02, 6-Jul-02, 7-Jul-02, 8-Jul-02, 12-Jul-02, 15-Jul-02, 18-Jul-02, 22-Jul-02, 24-Jul-02, 5-Aug-02, 8-Aug-02, 12-Aug-02, 19-Aug-02, 21-Aug-02, 9-Sep-02, 11-Sep-02, 16-Sep-02, 18-Sep-02, 19-Sep-02, 20-Sep-02, 23-Sep-02, 24-Sep-02, 25-Sep-02, 26-Sep-02, 27-Sep-02, 30-Sep-02, 2-Oct-02, 5-Oct-02, 7-Oct-02, 8-Oct-02, 9-Oct-02, 10-Oct-02, 11-Oct-02, 15-Oct-02, 17-Oct-02, 18-Oct-02, 19-Oct-02, 21-Oct-02, 22-Oct-02, 23-Oct-02, 25-Oct-02, 28-Oct-02, 29-Oct-02, 31-Oct-02, 1-Nov-02, 4-Nov-02, 5-Nov-02, 6-Nov-02, 7-Nov-02, 8-Nov-02, 9-Nov-02, 12-Nov-02, 13-Nov-02, 14-Nov-02, 15-Nov-02, 16-Nov-02, 18-Nov-02, 19-Nov-02, 20-Nov-02, 21-Nov-02, 22-Nov-02, 24-Nov-02, 25-Nov-02, 26-Nov-02, 27-Nov-02, 29-Nov-02, 2-Dec-02, 3-Dec-02, 4-Dec-02, 5-Dec-02, 6-Dec-02, 9-Dec-02, 10-Dec-02, 11-Dec-02, 12-Dec-02, 13-Dec-02, 16-Dec-02, 17-Dec-02, 18-Dec-02, 19-Dec-02, 20-Dec-02, 21-Dec-02, 23-Dec-02, 24-Dec-02, 26-Dec-02, 27-Dec-02, 30-Dec-02, 31-Dec-02, 2-Jan-03, 3-Jan-03, 5-Jan-03, 6-Jan-03, 7-Jan-03, ...]</td>\n",
       "    </tr>\n",
       "    <tr>\n",
       "      <th>2</th>\n",
       "      <td>Incident Date</td>\n",
       "      <td>[12/12/2002 0:00, 1/16/2004 0:00, 11/26/2003 0:00, 1/6/2003 0:00, 2/5/2005 0:00, 2/17/2005 0:00, 4/26/2007 0:00, 5/9/2002 0:00, 6/16/2002 0:00, 5/4/2002 0:00, 6/23/2005 0:00, 6/17/2005 0:00, 6/12/2002 0:00, 6/4/2002 0:00, nan, 5/31/2002 0:00, 3/11/2002 0:00, 3/6/2002 0:00, 7/10/2002 0:00, 7/26/2002 0:00, 7/19/2002 0:00, 6/22/2002 0:00, 7/12/2002 0:00, 7/13/2002 0:00, 6/28/2002 0:00, 8/23/2002 0:00, 8/30/2002 0:00, 8/19/2002 0:00, 8/5/2002 0:00, 8/2/2002 0:00, 8/12/2002 0:00, 7/28/2002 0:00, 7/23/2002 0:00, 8/16/2002 0:00, 8/13/2002 0:00, 9/1/2002 0:00, 8/14/2002 0:00, 12/31/2002 0:00, 7/1/2002 0:00, 8/20/2002 0:00, 8/21/2002 0:00, 8/24/2002 0:00, 7/27/2002 0:00, 8/31/2002 0:00, 8/15/2002 0:00, 9/12/2002 0:00, 8/29/2002 0:00, 9/10/2002 0:00, 7/31/2002 0:00, 8/3/2002 0:00, 8/21/2003 0:00, 9/3/2002 0:00, 9/26/2002 0:00, 8/22/2002 0:00, 8/7/2002 0:00, 7/18/2002 0:00, 9/8/2002 0:00, 9/9/2002 0:00, 9/25/2002 0:00, 4/10/2002 0:00, 10/7/2002 0:00, 9/29/2002 0:00, 9/20/2002 0:00, 9/24/2002 0:00, 9/27/2002 0:00, 9/22/2002 0:00, 9/15/2002 0:00, 10/2/2002 0:00, 9/28/2002 0:00, 9/13/2002 0:00, 9/14/2002 0:00, 8/9/2002 0:00, 10/19/2002 0:00, 10/3/2002 0:00, 9/21/2002 0:00, 10/14/2002 0:00, 10/13/2002 0:00, 8/28/2002 0:00, 10/1/2002 0:00, 10/6/2002 0:00, 10/8/2002 0:00, 9/18/2002 0:00, 10/10/2002 0:00, 10/9/2002 0:00, 10/20/2002 0:00, 9/11/2002 0:00, 10/16/2002 0:00, 10/5/2002 0:00, 10/15/2002 0:00, 10/27/2002 0:00, 10/18/2002 0:00, 10/22/2002 0:00, 10/21/2002 0:00, 10/23/2002 0:00, 10/7/2004 0:00, 7/24/2002 0:00, 10/28/2002 0:00, 9/19/2002 0:00, 10/26/2002 0:00, 9/30/2002 0:00, ...]</td>\n",
       "    </tr>\n",
       "    <tr>\n",
       "      <th>3</th>\n",
       "      <td>Airport Code</td>\n",
       "      <td>[EWR, SEA, STL, MIA, MCO, CAK, PHL, BWI, PHX, ATL, ORD, CLT, nan, SDF, RDU, BOS, PVD, CMH, MDW, BDL, JFK, DCA, BHM, TPA, CLE, COS, HOU, TSA, SAT, SYR, MOB, LAX, LGA, PIT, OAK, BNA, SLC, PBI, SMF, DTW, ORF, DFW, PSP, OKC, SAN, TOL, MSP, DEN, LAS, IAH, CVG, SJC, FNT, RIC, ELP, MEM, ABE, RSW, RNO, HNL, IAD, ABQ, PDX, ROC, SNA, AUS, MKE, PWM, FLL, LGB, ITO, GPT, BUR, LEX, JAX, TUL, MSO, TUS, BUF, BTR, ONT, MSY, DAB, DSM, BGM, CHA, CHS, JNU, MHT, IND, GEG, OMA, ISP, TYS, HSV, FWA, MDT, CLL, ALB, BGR, ...]</td>\n",
       "    </tr>\n",
       "    <tr>\n",
       "      <th>4</th>\n",
       "      <td>Airport Name</td>\n",
       "      <td>[Newark International Airport, Seattle-Tacoma International, Lambert St. Louis International, Miami International Airport, Orlando International Airport, Akron-Canton Regional, Philadelphia International Airport, Baltimore/Washington Intl Thurgood Marshall, Phoenix Sky Harbor International, Hartsfield-Jackson Atlanta International Airport, Chicago O'Hare International Airport, Charlotte/Douglas International Airport, nan, Louisville International, Raleigh-Durham International, Boston (Logan) International Airport, TF Green Airport; Providence, Port Columbus International, Midway International Airport, Bradley International Airport, John F. Kennedy International, Ronald Reagan Washington National Airport, Birmingham International Airport, Tampa International, Cleveland Hopkins International, Colorado Springs Municipal, William P. Hobby, TSA - Non-Specified Airport, San Antonio International, Syracuse-Hancock International, Mobile Regional, Los Angeles International Airport, LaGuardia, Pittsburgh International Airport, Metropolitan Oakland International, Nashville International, Salt Lake City International Airport, Palm Beach International, Sacramento International Airport, Detroit Metropolitan Wayne County Airport, Norfolk International, Dallas-Fort Worth International Airport, Palm Springs International, Will Rogers World, San Diego International, Toledo Express, Minneapolis/ St.Paul International Airport, Denver International Airport, McCarran International, Houston - George Bush Intercontinental Airport, Cincinnati/Northern Kentucky International, Norman Y Mineta San Jose International, Bishop International; Flint, Richmond International, El Paso International Airport, Memphis International Airport, Lehigh Valley International Airport; Allentown, Southwest Florida International, Reno/Tahoe International, Honolulu International Airport, Washington Dulles International, Albuquerque International Sunport Airport, Portland International, Greater Rochester International, John Wayne, Austin-Bergstrom International Airport, General Mitchell International Airport, Portland International Jetport, Ft. Lauderdale-Hollywood International, Long Beach, Hilo International, Gulfport-Biloxi International, Bob Hope, Blue Grass ;Lexington, Jacksonville International, Tulsa International Airport, Missoula International, Tucson International, Buffalo Niagara International, Baton Rouge Metropolitan, Ontario International, New Orleans International, Daytona Beach International, Des Moines International, Greater Binghamton Airport, Chattanooga Metropolitan, Charleston International, Juneau International, Manchester Regional Airport, Indianapolis International, Spokane International, Eppley Airfield, Long Island McArthur; Islip, Mcghee Tyson ;Knoxville, Huntsville International Airport, Ft. Wayne Municipal- Baer Field, Harrisburg International, Easterwood/College Station; TX, Albany International, Bangor International Airport, ...]</td>\n",
       "    </tr>\n",
       "    <tr>\n",
       "      <th>5</th>\n",
       "      <td>Airline Name</td>\n",
       "      <td>[Continental Airlines, nan, American Airlines, Delta (Song), Air Tran Airlines(do not use), USAir, Southwest Airlines, AirTran Airlines, Northwest Airlines, Delta Air Lines, America West, UAL, Virgin Atlantic, Jet Blue, Alaska Airlines, Aloha Airlines, Tran Meridian Airlines, Spirit Airlines, Frontier Airlines, American West, Air Canada, British Airways, America Trans Air, Aero Mexico, Hawaiian Airlines, Lufthansa, Horizon Air, Lan Airlines, Midwest Express Airlines, Qantus Airways, Frontier Aviation Inc, Korean Airlines, Air Jamaica, KLM Royal Dutch Airlines, Alitalia, Air France, Aer Lingus, Austrian Airlines, Japan Airlines, Sun Country Airlines Inc, Comair Inc, ATA Aerocondor, Tower Air, Singapore Airlines, Mexicana, Swiss Air, Aero Flot, Air 2000 Ltd Great Britain, Skywest Airlines Inc USA, Allegiant Air, TWA, American Eagle, Southeast Airlines, Cape Air, Air New Zealand, Air Phillipines, USA 3000 (U5), Iceland Air, Scandinavian Airlines Systems, China Airlines, Midway Airlines, Continental Express Inc, OMNI Air Express- (OY), Malaysian Airline System, Sun Jet International Airlines Inc, Britannia Airways Ltd, Northwest International Airways Ltd, Turkish Airlines, Air Pacific, Indian Airlines, Pan American Airways Corp., Thai Airways, Pakistan International Airlines Cor, All Nippon Airways, Sunworld International Airlines Inc, Pace Airlines, Western Pacific Airlines Inc Westpac, Virgin Express, Commercial Airways, China Eastern Airlines, Reno Air, Aloha Islandair Inc, Kuwait Airways, Mountain West, US Express, Cayman Airlines, LOT Polish Airlines, Wiggins Airways, British Midland Airways Ltd, Skywest Airlines Australia, Saudi Arabian Airlines, Royal Wings Airlines, South African Airways, Aeroflot Russian International, Canadian Airlines, EL AL Israeli Airlines, Kuwait Airlines, Egypt Air, Czech Airlines, Avianca, ...]</td>\n",
       "    </tr>\n",
       "    <tr>\n",
       "      <th>6</th>\n",
       "      <td>Claim Type</td>\n",
       "      <td>[Property Damage, Passenger Property Loss, nan, Personal Injury, Motor Vehicle, Passenger Theft, Employee Loss (MPCECA), -, Wrongful Death, Bus Terminal, Complaint, Compliment]</td>\n",
       "    </tr>\n",
       "    <tr>\n",
       "      <th>7</th>\n",
       "      <td>Claim Site</td>\n",
       "      <td>[Checkpoint, Checked Baggage, Other, Motor Vehicle, nan, Bus Station, -]</td>\n",
       "    </tr>\n",
       "    <tr>\n",
       "      <th>8</th>\n",
       "      <td>Item</td>\n",
       "      <td>[Other, Luggage (all types including footlockers), Cell Phones, Baby - Strollers; car seats; playpen; etc., Professional Equipment, Clothing - Shoes; belts; accessories; etc., Computer - Laptop, Jewelry - Fine, Eyeglasses - (including contact lenses), Photographic Film, Stereo Items &amp; Accessories, Currency, Cameras - Digital, nan, Cosmetics - Perfume; toilet articles; medicines; soaps; etc., Locks, PDA - Personal Data Assistants, Clothing - Shoes; belts; accessories; etc.; Locks, DVD/CD Players, Musical Instruments - Other - Over $250, Fish/Game, Clothing - Shoes; belts; accessories; etc.; Luggage (all types including footlockers); Luggage (all types including footlockers), Clothing - Shoes; belts; accessories; etc.; DVD/CD Players, Cameras - Digital; Clothing - Shoes; belts; accessories; etc.; Clothing - Shoes; belts; accessories; etc., Cameras - Digital; Jewelry - Fine, Medicines, Clothing - Shoes; belts; accessories; etc.; Cosmetics - Perfume; toilet articles; medicines; soaps; etc., Clothing - Shoes; belts; accessories; etc.; Other, Clothing - Shoes; belts; accessories; etc.; Luggage (all types including footlockers), Clothing - Shoes; belts; accessories; etc.; Clothing - Shoes; belts; accessories; etc.; Luggage (all types including footlockers), Currency; Jewelry - Fine, Jewelry - Fine; Other, Cameras - Digital; Cell Phones; Currency, Jewelry - Fine; Jewelry - Fine, Clothing - Shoes; belts; accessories; etc.; Jewelry - Fine, Jewelry - Fine; Locks, Cameras - Digital; Luggage (all types including footlockers), Clothing - Shoes; belts; accessories; etc.; Clothing - Shoes; belts; accessories; etc., Cosmetics - Perfume; toilet articles; medicines; soaps; etc.; Jewelry - Fine, Clothing - Shoes; belts; accessories; etc.; Cosmetics - Perfume; toilet articles; medicines; soaps; etc.; Jewelry - Fine, Cameras - Digital; Computer - Laptop, Cameras - Digital; Cell Phones; Eyeglasses - (including contact lenses); Stereo Items &amp; Accessories, Cosmetics - Perfume; toilet articles; medicines; soaps; etc.; Luggage (all types including footlockers), Cameras - Digital; Computer - Laptop; PDA - Personal Data Assistants, Cameras - Digital; Jewelry - Fine; Other; Watches - Expensive more than $100, Cameras - Digital; Computer - Laptop; Other; Other, Clothing - Shoes; belts; accessories; etc.; Jewelry - Fine; Other, DVD/CD Players; Jewelry - Fine, Clothing - Shoes; belts; accessories; etc.; Clothing - Shoes; belts; accessories; etc.; Cosmetics - Perfume; toilet articles; medicines; soaps; etc.; DVD/CD Players, Clothing - Shoes; belts; accessories; etc.; Cosmetics - Perfume; toilet articles; medicines; soaps; etc.; Luggage (all types including footlockers), Alcoholic beverages; Clothing - Shoes; belts; accessories; etc.; Luggage (all types including footlockers), Automobile Parts, Cameras - Digital; Cell Phones; DVD/CD Players; Jewelry - Fine, Cameras - Digital; Cameras - Digital; Cell Phones, Cell Phones; Other, Cameras - Digital; Stereo Items &amp; Accessories, Eyeglasses - (including contact lenses); Jewelry - Fine; Locks, Cameras - Digital; Clothing - Shoes; belts; accessories; etc., Eyeglasses - (including contact lenses); Jewelry - Fine, Cell Phones; Clothing - Shoes; belts; accessories; etc.; Luggage (all types including footlockers), Clothing - Shoes; belts; accessories; etc.; Currency, Cell Phones; Clothing - Shoes; belts; accessories; etc., DVD/CD Players; Medicines, Cosmetics - Perfume; toilet articles; medicines; soaps; etc.; Jewelry - Fine; Luggage (all types including footlockers), Clothing - Shoes; belts; accessories; etc.; Cosmetics - Perfume; toilet articles; medicines; soaps; etc.; Medicines, Cameras - Digital; Cell Phones; Photographic Film, Clothing - Shoes; belts; accessories; etc.; DVD/CD Players; Luggage (all types including footlockers), Computer - Laptop; PDA - Personal Data Assistants, Other; Other, Clothing - Shoes; belts; accessories; etc.; PDA - Personal Data Assistants, Clothing - Shoes; belts; accessories; etc.; Medicines; Medicines, Clothing - Shoes; belts; accessories; etc.; Computer - Laptop; Cosmetics - Perfume; toilet articles; medicines; soaps; etc.; Medicines, Cameras - Digital; Cameras - Digital; Clothing - Shoes; belts; accessories; etc.; Stereo Items &amp; Accessories, Luggage (all types including footlockers); Medicines, Clothing - Shoes; belts; accessories; etc.; Cosmetics - Perfume; toilet articles; medicines; soaps; etc.; Jewelry - Fine; Medicines, Computer - Laptop; Other, Cameras - Digital; Clothing - Shoes; belts; accessories; etc.; Locks, Luggage (all types including footlockers); Other, Cell Phones; PDA - Personal Data Assistants, Currency; Other, Clothing - Shoes; belts; accessories; etc.; Clothing - Shoes; belts; accessories; etc.; Jewelry - Fine; Other, Clothing - Shoes; belts; accessories; etc.; Cosmetics - Perfume; toilet articles; medicines; soaps; etc.; Other, Eyeglasses - (including contact lenses); Medicines, DVD/CD Players; Locks; Luggage (all types including footlockers); Luggage (all types including footlockers), Cameras - Digital; Clothing - Shoes; belts; accessories; etc.; Luggage (all types including footlockers); Photographic Film, Eyeglasses - (including contact lenses); Other, Cameras - Digital; DVD/CD Players; Other, Cameras - Digital; Cosmetics - Perfume; toilet articles; medicines; soaps; etc., Locks; Luggage (all types including footlockers); Other, Clothing - Shoes; belts; accessories; etc.; Eyeglasses - (including contact lenses), Clothing - Shoes; belts; accessories; etc.; Clothing - Shoes; belts; accessories; etc.; Jewelry - Fine, Clothing - Shoes; belts; accessories; etc.; DVD/CD Players; Jewelry - Fine; Other, Cameras - Digital; Clothing - Shoes; belts; accessories; etc.; Eyeglasses - (including contact lenses); Locks, Locks; Luggage (all types including footlockers), Medicines; Other, Watches - Expensive more than $100, Cosmetics - Perfume; toilet articles; medicines; soaps; etc.; Luggage (all types including footlockers); Other, Cosmetics - Perfume; toilet articles; medicines; soaps; etc.; Locks; Medicines, Clothing - Shoes; belts; accessories; etc.; Luggage (all types including footlockers); Other, Cell Phones; Other; Stereo Items &amp; Accessories, ...]</td>\n",
       "    </tr>\n",
       "    <tr>\n",
       "      <th>9</th>\n",
       "      <td>Claim Amount</td>\n",
       "      <td>[$350.00 , $100.00 , $278.88 , $50.00 , $84.79 , $459.01 , $106.52 , $75.00 , $2;270.09 , $4;457.29 , $79.95 , $43.49 , $16.71 , $450.00 , nan, $200.00 , $110;000.00 , $68.00 , $600.00 , $160.00 , $380.00 , $354.93 , $21.44 , $40.00 , $275.00 , $30.00 , $1;832.22 , $250.00 , $1;200.00 , $678.00 , $428.21 , $176.59 , $1;000.00 , $45.00 , $175.00 , $1;500.00 , $213.00 , $249.00 , $85.00 , $750.00 , $150.00 , $300.00 , $299.98 , $250;000.00 , $50;000.00 , $26.00 , $20.00 , $65.00 , $199.00 , $379.90 , $128.05 , $27.45 , $5;000.00 , $520.00 , $3;250.04 , $2;000.00 , $700.00 , $185.00 , $75.30 , $342.36 , $70.03 , $3;080.69 , $210.00 , $109.99 , $58.17 , $60.00 , $499.00 , $95.00 , $382.99 , $289.00 , $25.00 , $225.00 , $400.00 , $169.00 , $337.83 , $10.00 , $2.50 , $120.00 , $260.00 , $1;801.99 , $24.95 , $263.00 , $208.16 , $165.00 , $1;777.00 , $492.00 , $598.00 , $7;500.00 , $97.00 , $180.00 , $500.00 , $112.00 , $420.00 , $249.99 , $80.00 , $764.97 , $117.94 , $71.00 , $129.00 , $73.83 , ...]</td>\n",
       "    </tr>\n",
       "    <tr>\n",
       "      <th>10</th>\n",
       "      <td>Status</td>\n",
       "      <td>[Approved, Settled, Canceled, Denied, Insufficient; one of the following items required: sum certain; statement of fact; signature; location of incident; and date., In litigation, Closed as a contractor claim, In review, Claim entered, nan, Claim has been assigned for further investigation, Pending response from claimant, Deny, -, Settle, Approve in Full]</td>\n",
       "    </tr>\n",
       "    <tr>\n",
       "      <th>11</th>\n",
       "      <td>Close Amount</td>\n",
       "      <td>[$350.00 , $50.00 , $227.92 , $84.79 , $227.00 , $106.52 , $75.00 , nan, $79.95 , $43.49 , $17.00 , $0.00 , $337.40 , $149.08 , $301.69 , $21.00 , $275.00 , $30.00 , $40.00 , $678.00 , $207.99 , $171.99 , $801.90 , $53.38 , $74.55 , $225.00 , $210.00 , $26.00 , $20.00 , $65.00 , $364.07 , $457.80 , $3;250.00 , $100.00 , $700.00 , $144.00 , $237.00 , $70.00 , $3;080.69 , $58.00 , $60.00 , $499.00 , $95.00 , $382.99 , $231.00 , $600.00 , $25.00 , $293.84 , $234.70 , $1;000.00 , $10.00 , $291.67 , $150.00 , $82.90 , $120.00 , $270.00 , $263.00 , $208.00 , $202.50 , $250.00 , $165.00 , $1;777.00 , $492.00 , $35.00 , $112.00 , $420.00 , $200.00 , $162.00 , $80.00 , $726.74 , $71.00 , $450.00 , $197.00 , $74.00 , $280.00 , $52.50 , $1;470.69 , $167.00 , $244.00 , $204.00 , $27.50 , $78.80 , $1;760.00 , $500.00 , $2;342.00 , $37.00 , $49.00 , $229.00 , $775.16 , $742.25 , $435.00 , $45.00 , $15.00 , $223.00 , $569.50 , $116.06 , $782.65 , $75.91 , $332.50 , $31.00 , ...]</td>\n",
       "    </tr>\n",
       "    <tr>\n",
       "      <th>12</th>\n",
       "      <td>Disposition</td>\n",
       "      <td>[Approve in Full, Settle, nan, Deny]</td>\n",
       "    </tr>\n",
       "  </tbody>\n",
       "</table>\n",
       "</div>"
      ],
      "text/plain": [
       "      Column Name  \\\n",
       "0   Claim Number    \n",
       "1   Date Received   \n",
       "2   Incident Date   \n",
       "3   Airport Code    \n",
       "4   Airport Name    \n",
       "5   Airline Name    \n",
       "6   Claim Type      \n",
       "7   Claim Site      \n",
       "8   Item            \n",
       "9   Claim Amount    \n",
       "10  Status          \n",
       "11  Close Amount    \n",
       "12  Disposition     \n",
       "\n",
       "                                                                                                                                                                                                                                                                                                                                                                                                                                                                                                                                                                                                                                                                                                                                                                                                                                                                                                                                                                                                                                                                                                                                                                                                                                                                                                                                                                                                                                                                                                                                                                                                                                                                                                                                                                                                                                                                                                                                                                                                                                                                                                                                                                                                                                                                                                                                                                                                                                                                                                                                                                                                                                                                                                                                                                                                                                                                                                                                                                                                                                                                                                                                                                                                                                                                                                                                                                                                                                                                                                                                                                                                                                                                                                                                                                                                                                                                                                                                                                                                                                                                                                                                                                                                                                                                                                                                                                                                                                                                                                                                                                                                                                                                                                                                                                                                                                                                                                                                                                                                                                                                                                                                                                                                                                                                                                                                                                                                                                                                                                                                                                                                                                                                                                                                                                                                                                                                                                                                                                                                                                                                                                                                                                                                                                                                                                                                                                                                                                                                 Unique Values  \n",
       "0   [0909802M, 0202417M, 0202445M, 0909816M, 2005032379513, 2005032479636, 2007050124750, 12772, 14268, 2004102965797, 2005071188575, 2005070788431, 14460, 13334, 0616771L, 15242, 15324, 15361, 0616636L, 0714534M, 0616540L, 16410, 0616723L, 2004092763985, 16403, 0702564M, 16759, 0616777L, 15352, 14907, 17892, 17846, 17201, 2004050550501, 18170, 18202, 18193, 18222, 18171, 18274, 0616726L, 18315, 16961, 17666, 18141, 18301, 0909839M, 15542, 18065, 18109, 18098, 18101, 18394, 0616699L, 18438, 18620, 21003, 21021, 0616631L, 18221, 0616675L, 18804, 0616760L, 18917, 18919, 21134, 19009, 0616624L, 20887, 21013, 19029, 18966, 19133, 23663, 0616802L, 15769, 18181, 23623, 0702504M, 0714563M, 0616579L, 23284, 18386, 18908, 23278, 21111, 21254, 0714547M, 19239, 19039, 19078, 20938, 21052, 21053, 21054, 21253, 0616528L, 19229, 20937, 0616610L, ...]                                                                                                                                                                                                                                                                                                                                                                                                                                                                                                                                                                                                                                                                                                                                                                                                                                                                                                                                                                                                                                                                                                                                                                                                                                                                                                                                                                                                                                                                                                                                                                                                                                                                                                                                                                                                                                                                                                                                                                                                                                                                                                                                                                                                                                                                                                                                                                                                                                                                                                                                                                                                                                                                                                                                                                                                                                                                                                                                                                                                                                                                                                                                                                                                                                                                                                                                                                                                                                                                                                                                                                                                                                                                                                                                                                                                                                                                                                                                                                                                                                                                                                                                                                                                                                                                                                                                                                                                                                                                                                                                                                                                                                                                                                                                                                                                                                                                                                                                                                                                                                                                                                                                                                                                                                                                                                                                                                                                                                                                                                                                                                                                \n",
       "1   [4-Jan-02, 2-Feb-02, 4-Feb-02, 7-Feb-02, 18-Feb-02, 30-Apr-02, 20-Jun-02, 25-Jun-02, 6-Jul-02, 7-Jul-02, 8-Jul-02, 12-Jul-02, 15-Jul-02, 18-Jul-02, 22-Jul-02, 24-Jul-02, 5-Aug-02, 8-Aug-02, 12-Aug-02, 19-Aug-02, 21-Aug-02, 9-Sep-02, 11-Sep-02, 16-Sep-02, 18-Sep-02, 19-Sep-02, 20-Sep-02, 23-Sep-02, 24-Sep-02, 25-Sep-02, 26-Sep-02, 27-Sep-02, 30-Sep-02, 2-Oct-02, 5-Oct-02, 7-Oct-02, 8-Oct-02, 9-Oct-02, 10-Oct-02, 11-Oct-02, 15-Oct-02, 17-Oct-02, 18-Oct-02, 19-Oct-02, 21-Oct-02, 22-Oct-02, 23-Oct-02, 25-Oct-02, 28-Oct-02, 29-Oct-02, 31-Oct-02, 1-Nov-02, 4-Nov-02, 5-Nov-02, 6-Nov-02, 7-Nov-02, 8-Nov-02, 9-Nov-02, 12-Nov-02, 13-Nov-02, 14-Nov-02, 15-Nov-02, 16-Nov-02, 18-Nov-02, 19-Nov-02, 20-Nov-02, 21-Nov-02, 22-Nov-02, 24-Nov-02, 25-Nov-02, 26-Nov-02, 27-Nov-02, 29-Nov-02, 2-Dec-02, 3-Dec-02, 4-Dec-02, 5-Dec-02, 6-Dec-02, 9-Dec-02, 10-Dec-02, 11-Dec-02, 12-Dec-02, 13-Dec-02, 16-Dec-02, 17-Dec-02, 18-Dec-02, 19-Dec-02, 20-Dec-02, 21-Dec-02, 23-Dec-02, 24-Dec-02, 26-Dec-02, 27-Dec-02, 30-Dec-02, 31-Dec-02, 2-Jan-03, 3-Jan-03, 5-Jan-03, 6-Jan-03, 7-Jan-03, ...]                                                                                                                                                                                                                                                                                                                                                                                                                                                                                                                                                                                                                                                                                                                                                                                                                                                                                                                                                                                                                                                                                                                                                                                                                                                                                                                                                                                                                                                                                                                                                                                                                                                                                                                                                                                                                                                                                                                                                                                                                                                                                                                                                                                                                                                                                                                                                                                                                                                                                                                                                                                                                                                                                                                                                                                                                                                                                                                                                                                                                                                                                                                                                                                                                                                                                                                                                                                                                                                                                                                                                                                                                                                                                                                                                                                                                                                                                                                                                                                                                                                                                                                                                                                                                                                                                                                                                                                                                                                                                                                                                                                                                                                                                                                                                                                                                                                                                                                                                                                                                                                                                                                                                                                                                                                                                                                                                            \n",
       "2   [12/12/2002 0:00, 1/16/2004 0:00, 11/26/2003 0:00, 1/6/2003 0:00, 2/5/2005 0:00, 2/17/2005 0:00, 4/26/2007 0:00, 5/9/2002 0:00, 6/16/2002 0:00, 5/4/2002 0:00, 6/23/2005 0:00, 6/17/2005 0:00, 6/12/2002 0:00, 6/4/2002 0:00, nan, 5/31/2002 0:00, 3/11/2002 0:00, 3/6/2002 0:00, 7/10/2002 0:00, 7/26/2002 0:00, 7/19/2002 0:00, 6/22/2002 0:00, 7/12/2002 0:00, 7/13/2002 0:00, 6/28/2002 0:00, 8/23/2002 0:00, 8/30/2002 0:00, 8/19/2002 0:00, 8/5/2002 0:00, 8/2/2002 0:00, 8/12/2002 0:00, 7/28/2002 0:00, 7/23/2002 0:00, 8/16/2002 0:00, 8/13/2002 0:00, 9/1/2002 0:00, 8/14/2002 0:00, 12/31/2002 0:00, 7/1/2002 0:00, 8/20/2002 0:00, 8/21/2002 0:00, 8/24/2002 0:00, 7/27/2002 0:00, 8/31/2002 0:00, 8/15/2002 0:00, 9/12/2002 0:00, 8/29/2002 0:00, 9/10/2002 0:00, 7/31/2002 0:00, 8/3/2002 0:00, 8/21/2003 0:00, 9/3/2002 0:00, 9/26/2002 0:00, 8/22/2002 0:00, 8/7/2002 0:00, 7/18/2002 0:00, 9/8/2002 0:00, 9/9/2002 0:00, 9/25/2002 0:00, 4/10/2002 0:00, 10/7/2002 0:00, 9/29/2002 0:00, 9/20/2002 0:00, 9/24/2002 0:00, 9/27/2002 0:00, 9/22/2002 0:00, 9/15/2002 0:00, 10/2/2002 0:00, 9/28/2002 0:00, 9/13/2002 0:00, 9/14/2002 0:00, 8/9/2002 0:00, 10/19/2002 0:00, 10/3/2002 0:00, 9/21/2002 0:00, 10/14/2002 0:00, 10/13/2002 0:00, 8/28/2002 0:00, 10/1/2002 0:00, 10/6/2002 0:00, 10/8/2002 0:00, 9/18/2002 0:00, 10/10/2002 0:00, 10/9/2002 0:00, 10/20/2002 0:00, 9/11/2002 0:00, 10/16/2002 0:00, 10/5/2002 0:00, 10/15/2002 0:00, 10/27/2002 0:00, 10/18/2002 0:00, 10/22/2002 0:00, 10/21/2002 0:00, 10/23/2002 0:00, 10/7/2004 0:00, 7/24/2002 0:00, 10/28/2002 0:00, 9/19/2002 0:00, 10/26/2002 0:00, 9/30/2002 0:00, ...]                                                                                                                                                                                                                                                                                                                                                                                                                                                                                                                                                                                                                                                                                                                                                                                                                                                                                                                                                                                                                                                                                                                                                                                                                                                                                                                                                                                                                                                                                                                                                                                                                                                                                                                                                                                                                                                                                                                                                                                                                                                                                                                                                                                                                                                                                                                                                                                                                                                                                                                                                                                                                                                                                                                                                                                                                                                                                                                                                                                                                                                                                                                                                                                                                                                                                                                                                                                                                                                                                                                                                                                                                                                                                                                                                                                                                                                                                                                                                                                                                                                                                                                                                                                                                                                                                                                                                                                                                                                                                                                                                                                                                                                                                                                                                                                                                 \n",
       "3   [EWR, SEA, STL, MIA, MCO, CAK, PHL, BWI, PHX, ATL, ORD, CLT, nan, SDF, RDU, BOS, PVD, CMH, MDW, BDL, JFK, DCA, BHM, TPA, CLE, COS, HOU, TSA, SAT, SYR, MOB, LAX, LGA, PIT, OAK, BNA, SLC, PBI, SMF, DTW, ORF, DFW, PSP, OKC, SAN, TOL, MSP, DEN, LAS, IAH, CVG, SJC, FNT, RIC, ELP, MEM, ABE, RSW, RNO, HNL, IAD, ABQ, PDX, ROC, SNA, AUS, MKE, PWM, FLL, LGB, ITO, GPT, BUR, LEX, JAX, TUL, MSO, TUS, BUF, BTR, ONT, MSY, DAB, DSM, BGM, CHA, CHS, JNU, MHT, IND, GEG, OMA, ISP, TYS, HSV, FWA, MDT, CLL, ALB, BGR, ...]                                                                                                                                                                                                                                                                                                                                                                                                                                                                                                                                                                                                                                                                                                                                                                                                                                                                                                                                                                                                                                                                                                                                                                                                                                                                                                                                                                                                                                                                                                                                                                                                                                                                                                                                                                                                                                                                                                                                                                                                                                                                                                                                                                                                                                                                                                                                                                                                                                                                                                                                                                                                                                                                                                                                                                                                                                                                                                                                                                                                                                                                                                                                                                                                                                                                                                                                                                                                                                                                                                                                                                                                                                                                                                                                                                                                                                                                                                                                                                                                                                                                                                                                                                                                                                                                                                                                                                                                                                                                                                                                                                                                                                                                                                                                                                                                                                                                                                                                                                                                                                                                                                                                                                                                                                                                                                                                                                                                                                                                                                                                                                                                                                                                                                                                                                                                                                                                                                                                                   \n",
       "4   [Newark International Airport, Seattle-Tacoma International, Lambert St. Louis International, Miami International Airport, Orlando International Airport, Akron-Canton Regional, Philadelphia International Airport, Baltimore/Washington Intl Thurgood Marshall, Phoenix Sky Harbor International, Hartsfield-Jackson Atlanta International Airport, Chicago O'Hare International Airport, Charlotte/Douglas International Airport, nan, Louisville International, Raleigh-Durham International, Boston (Logan) International Airport, TF Green Airport; Providence, Port Columbus International, Midway International Airport, Bradley International Airport, John F. Kennedy International, Ronald Reagan Washington National Airport, Birmingham International Airport, Tampa International, Cleveland Hopkins International, Colorado Springs Municipal, William P. Hobby, TSA - Non-Specified Airport, San Antonio International, Syracuse-Hancock International, Mobile Regional, Los Angeles International Airport, LaGuardia, Pittsburgh International Airport, Metropolitan Oakland International, Nashville International, Salt Lake City International Airport, Palm Beach International, Sacramento International Airport, Detroit Metropolitan Wayne County Airport, Norfolk International, Dallas-Fort Worth International Airport, Palm Springs International, Will Rogers World, San Diego International, Toledo Express, Minneapolis/ St.Paul International Airport, Denver International Airport, McCarran International, Houston - George Bush Intercontinental Airport, Cincinnati/Northern Kentucky International, Norman Y Mineta San Jose International, Bishop International; Flint, Richmond International, El Paso International Airport, Memphis International Airport, Lehigh Valley International Airport; Allentown, Southwest Florida International, Reno/Tahoe International, Honolulu International Airport, Washington Dulles International, Albuquerque International Sunport Airport, Portland International, Greater Rochester International, John Wayne, Austin-Bergstrom International Airport, General Mitchell International Airport, Portland International Jetport, Ft. Lauderdale-Hollywood International, Long Beach, Hilo International, Gulfport-Biloxi International, Bob Hope, Blue Grass ;Lexington, Jacksonville International, Tulsa International Airport, Missoula International, Tucson International, Buffalo Niagara International, Baton Rouge Metropolitan, Ontario International, New Orleans International, Daytona Beach International, Des Moines International, Greater Binghamton Airport, Chattanooga Metropolitan, Charleston International, Juneau International, Manchester Regional Airport, Indianapolis International, Spokane International, Eppley Airfield, Long Island McArthur; Islip, Mcghee Tyson ;Knoxville, Huntsville International Airport, Ft. Wayne Municipal- Baer Field, Harrisburg International, Easterwood/College Station; TX, Albany International, Bangor International Airport, ...]                                                                                                                                                                                                                                                                                                                                                                                                                                                                                                                                                                                                                                                                                                                                                                                                                                                                                                                                                                                                                                                                                                                                                                                                                                                                                                                                                                                                                                                                                                                                                                                                                                                                                                                                                                                                                                                                                                                                                                                                                                                                                                                                                                                                                                                                                                                                                                                                                                                                                                                                                                                                                                                                                                                                                                                                                                                                                                                                                                                                                                                                                                                                                                                                                                                                                                                                                                                         \n",
       "5   [Continental Airlines, nan, American Airlines, Delta (Song), Air Tran Airlines(do not use), USAir, Southwest Airlines, AirTran Airlines, Northwest Airlines, Delta Air Lines, America West, UAL, Virgin Atlantic, Jet Blue, Alaska Airlines, Aloha Airlines, Tran Meridian Airlines, Spirit Airlines, Frontier Airlines, American West, Air Canada, British Airways, America Trans Air, Aero Mexico, Hawaiian Airlines, Lufthansa, Horizon Air, Lan Airlines, Midwest Express Airlines, Qantus Airways, Frontier Aviation Inc, Korean Airlines, Air Jamaica, KLM Royal Dutch Airlines, Alitalia, Air France, Aer Lingus, Austrian Airlines, Japan Airlines, Sun Country Airlines Inc, Comair Inc, ATA Aerocondor, Tower Air, Singapore Airlines, Mexicana, Swiss Air, Aero Flot, Air 2000 Ltd Great Britain, Skywest Airlines Inc USA, Allegiant Air, TWA, American Eagle, Southeast Airlines, Cape Air, Air New Zealand, Air Phillipines, USA 3000 (U5), Iceland Air, Scandinavian Airlines Systems, China Airlines, Midway Airlines, Continental Express Inc, OMNI Air Express- (OY), Malaysian Airline System, Sun Jet International Airlines Inc, Britannia Airways Ltd, Northwest International Airways Ltd, Turkish Airlines, Air Pacific, Indian Airlines, Pan American Airways Corp., Thai Airways, Pakistan International Airlines Cor, All Nippon Airways, Sunworld International Airlines Inc, Pace Airlines, Western Pacific Airlines Inc Westpac, Virgin Express, Commercial Airways, China Eastern Airlines, Reno Air, Aloha Islandair Inc, Kuwait Airways, Mountain West, US Express, Cayman Airlines, LOT Polish Airlines, Wiggins Airways, British Midland Airways Ltd, Skywest Airlines Australia, Saudi Arabian Airlines, Royal Wings Airlines, South African Airways, Aeroflot Russian International, Canadian Airlines, EL AL Israeli Airlines, Kuwait Airlines, Egypt Air, Czech Airlines, Avianca, ...]                                                                                                                                                                                                                                                                                                                                                                                                                                                                                                                                                                                                                                                                                                                                                                                                                                                                                                                                                                                                                                                                                                                                                                                                                                                                                                                                                                                                                                                                                                                                                                                                                                                                                                                                                                                                                                                                                                                                                                                                                                                                                                                                                                                                                                                                                                                                                                                                                                                                                                                                                                                                                                                                                                                                                                                                                                                                                                                                                                                                                                                                                                                                                                                                                                                                                                                                                                                                                                                                                                                                                                                                                                                                                                                                                                                                                                                                                                                                                                                                                                                                                                                                                                                                                                                                                                                                                                                                                                                                                                                                              \n",
       "6   [Property Damage, Passenger Property Loss, nan, Personal Injury, Motor Vehicle, Passenger Theft, Employee Loss (MPCECA), -, Wrongful Death, Bus Terminal, Complaint, Compliment]                                                                                                                                                                                                                                                                                                                                                                                                                                                                                                                                                                                                                                                                                                                                                                                                                                                                                                                                                                                                                                                                                                                                                                                                                                                                                                                                                                                                                                                                                                                                                                                                                                                                                                                                                                                                                                                                                                                                                                                                                                                                                                                                                                                                                                                                                                                                                                                                                                                                                                                                                                                                                                                                                                                                                                                                                                                                                                                                                                                                                                                                                                                                                                                                                                                                                                                                                                                                                                                                                                                                                                                                                                                                                                                                                                                                                                                                                                                                                                                                                                                                                                                                                                                                                                                                                                                                                                                                                                                                                                                                                                                                                                                                                                                                                                                                                                                                                                                                                                                                                                                                                                                                                                                                                                                                                                                                                                                                                                                                                                                                                                                                                                                                                                                                                                                                                                                                                                                                                                                                                                                                                                                                                                                                                                                                                            \n",
       "7   [Checkpoint, Checked Baggage, Other, Motor Vehicle, nan, Bus Station, -]                                                                                                                                                                                                                                                                                                                                                                                                                                                                                                                                                                                                                                                                                                                                                                                                                                                                                                                                                                                                                                                                                                                                                                                                                                                                                                                                                                                                                                                                                                                                                                                                                                                                                                                                                                                                                                                                                                                                                                                                                                                                                                                                                                                                                                                                                                                                                                                                                                                                                                                                                                                                                                                                                                                                                                                                                                                                                                                                                                                                                                                                                                                                                                                                                                                                                                                                                                                                                                                                                                                                                                                                                                                                                                                                                                                                                                                                                                                                                                                                                                                                                                                                                                                                                                                                                                                                                                                                                                                                                                                                                                                                                                                                                                                                                                                                                                                                                                                                                                                                                                                                                                                                                                                                                                                                                                                                                                                                                                                                                                                                                                                                                                                                                                                                                                                                                                                                                                                                                                                                                                                                                                                                                                                                                                                                                                                                                                                                    \n",
       "8   [Other, Luggage (all types including footlockers), Cell Phones, Baby - Strollers; car seats; playpen; etc., Professional Equipment, Clothing - Shoes; belts; accessories; etc., Computer - Laptop, Jewelry - Fine, Eyeglasses - (including contact lenses), Photographic Film, Stereo Items & Accessories, Currency, Cameras - Digital, nan, Cosmetics - Perfume; toilet articles; medicines; soaps; etc., Locks, PDA - Personal Data Assistants, Clothing - Shoes; belts; accessories; etc.; Locks, DVD/CD Players, Musical Instruments - Other - Over $250, Fish/Game, Clothing - Shoes; belts; accessories; etc.; Luggage (all types including footlockers); Luggage (all types including footlockers), Clothing - Shoes; belts; accessories; etc.; DVD/CD Players, Cameras - Digital; Clothing - Shoes; belts; accessories; etc.; Clothing - Shoes; belts; accessories; etc., Cameras - Digital; Jewelry - Fine, Medicines, Clothing - Shoes; belts; accessories; etc.; Cosmetics - Perfume; toilet articles; medicines; soaps; etc., Clothing - Shoes; belts; accessories; etc.; Other, Clothing - Shoes; belts; accessories; etc.; Luggage (all types including footlockers), Clothing - Shoes; belts; accessories; etc.; Clothing - Shoes; belts; accessories; etc.; Luggage (all types including footlockers), Currency; Jewelry - Fine, Jewelry - Fine; Other, Cameras - Digital; Cell Phones; Currency, Jewelry - Fine; Jewelry - Fine, Clothing - Shoes; belts; accessories; etc.; Jewelry - Fine, Jewelry - Fine; Locks, Cameras - Digital; Luggage (all types including footlockers), Clothing - Shoes; belts; accessories; etc.; Clothing - Shoes; belts; accessories; etc., Cosmetics - Perfume; toilet articles; medicines; soaps; etc.; Jewelry - Fine, Clothing - Shoes; belts; accessories; etc.; Cosmetics - Perfume; toilet articles; medicines; soaps; etc.; Jewelry - Fine, Cameras - Digital; Computer - Laptop, Cameras - Digital; Cell Phones; Eyeglasses - (including contact lenses); Stereo Items & Accessories, Cosmetics - Perfume; toilet articles; medicines; soaps; etc.; Luggage (all types including footlockers), Cameras - Digital; Computer - Laptop; PDA - Personal Data Assistants, Cameras - Digital; Jewelry - Fine; Other; Watches - Expensive more than $100, Cameras - Digital; Computer - Laptop; Other; Other, Clothing - Shoes; belts; accessories; etc.; Jewelry - Fine; Other, DVD/CD Players; Jewelry - Fine, Clothing - Shoes; belts; accessories; etc.; Clothing - Shoes; belts; accessories; etc.; Cosmetics - Perfume; toilet articles; medicines; soaps; etc.; DVD/CD Players, Clothing - Shoes; belts; accessories; etc.; Cosmetics - Perfume; toilet articles; medicines; soaps; etc.; Luggage (all types including footlockers), Alcoholic beverages; Clothing - Shoes; belts; accessories; etc.; Luggage (all types including footlockers), Automobile Parts, Cameras - Digital; Cell Phones; DVD/CD Players; Jewelry - Fine, Cameras - Digital; Cameras - Digital; Cell Phones, Cell Phones; Other, Cameras - Digital; Stereo Items & Accessories, Eyeglasses - (including contact lenses); Jewelry - Fine; Locks, Cameras - Digital; Clothing - Shoes; belts; accessories; etc., Eyeglasses - (including contact lenses); Jewelry - Fine, Cell Phones; Clothing - Shoes; belts; accessories; etc.; Luggage (all types including footlockers), Clothing - Shoes; belts; accessories; etc.; Currency, Cell Phones; Clothing - Shoes; belts; accessories; etc., DVD/CD Players; Medicines, Cosmetics - Perfume; toilet articles; medicines; soaps; etc.; Jewelry - Fine; Luggage (all types including footlockers), Clothing - Shoes; belts; accessories; etc.; Cosmetics - Perfume; toilet articles; medicines; soaps; etc.; Medicines, Cameras - Digital; Cell Phones; Photographic Film, Clothing - Shoes; belts; accessories; etc.; DVD/CD Players; Luggage (all types including footlockers), Computer - Laptop; PDA - Personal Data Assistants, Other; Other, Clothing - Shoes; belts; accessories; etc.; PDA - Personal Data Assistants, Clothing - Shoes; belts; accessories; etc.; Medicines; Medicines, Clothing - Shoes; belts; accessories; etc.; Computer - Laptop; Cosmetics - Perfume; toilet articles; medicines; soaps; etc.; Medicines, Cameras - Digital; Cameras - Digital; Clothing - Shoes; belts; accessories; etc.; Stereo Items & Accessories, Luggage (all types including footlockers); Medicines, Clothing - Shoes; belts; accessories; etc.; Cosmetics - Perfume; toilet articles; medicines; soaps; etc.; Jewelry - Fine; Medicines, Computer - Laptop; Other, Cameras - Digital; Clothing - Shoes; belts; accessories; etc.; Locks, Luggage (all types including footlockers); Other, Cell Phones; PDA - Personal Data Assistants, Currency; Other, Clothing - Shoes; belts; accessories; etc.; Clothing - Shoes; belts; accessories; etc.; Jewelry - Fine; Other, Clothing - Shoes; belts; accessories; etc.; Cosmetics - Perfume; toilet articles; medicines; soaps; etc.; Other, Eyeglasses - (including contact lenses); Medicines, DVD/CD Players; Locks; Luggage (all types including footlockers); Luggage (all types including footlockers), Cameras - Digital; Clothing - Shoes; belts; accessories; etc.; Luggage (all types including footlockers); Photographic Film, Eyeglasses - (including contact lenses); Other, Cameras - Digital; DVD/CD Players; Other, Cameras - Digital; Cosmetics - Perfume; toilet articles; medicines; soaps; etc., Locks; Luggage (all types including footlockers); Other, Clothing - Shoes; belts; accessories; etc.; Eyeglasses - (including contact lenses), Clothing - Shoes; belts; accessories; etc.; Clothing - Shoes; belts; accessories; etc.; Jewelry - Fine, Clothing - Shoes; belts; accessories; etc.; DVD/CD Players; Jewelry - Fine; Other, Cameras - Digital; Clothing - Shoes; belts; accessories; etc.; Eyeglasses - (including contact lenses); Locks, Locks; Luggage (all types including footlockers), Medicines; Other, Watches - Expensive more than $100, Cosmetics - Perfume; toilet articles; medicines; soaps; etc.; Luggage (all types including footlockers); Other, Cosmetics - Perfume; toilet articles; medicines; soaps; etc.; Locks; Medicines, Clothing - Shoes; belts; accessories; etc.; Luggage (all types including footlockers); Other, Cell Phones; Other; Stereo Items & Accessories, ...]  \n",
       "9   [$350.00 , $100.00 , $278.88 , $50.00 , $84.79 , $459.01 , $106.52 , $75.00 , $2;270.09 , $4;457.29 , $79.95 , $43.49 , $16.71 , $450.00 , nan, $200.00 , $110;000.00 , $68.00 , $600.00 , $160.00 , $380.00 , $354.93 , $21.44 , $40.00 , $275.00 , $30.00 , $1;832.22 , $250.00 , $1;200.00 , $678.00 , $428.21 , $176.59 , $1;000.00 , $45.00 , $175.00 , $1;500.00 , $213.00 , $249.00 , $85.00 , $750.00 , $150.00 , $300.00 , $299.98 , $250;000.00 , $50;000.00 , $26.00 , $20.00 , $65.00 , $199.00 , $379.90 , $128.05 , $27.45 , $5;000.00 , $520.00 , $3;250.04 , $2;000.00 , $700.00 , $185.00 , $75.30 , $342.36 , $70.03 , $3;080.69 , $210.00 , $109.99 , $58.17 , $60.00 , $499.00 , $95.00 , $382.99 , $289.00 , $25.00 , $225.00 , $400.00 , $169.00 , $337.83 , $10.00 , $2.50 , $120.00 , $260.00 , $1;801.99 , $24.95 , $263.00 , $208.16 , $165.00 , $1;777.00 , $492.00 , $598.00 , $7;500.00 , $97.00 , $180.00 , $500.00 , $112.00 , $420.00 , $249.99 , $80.00 , $764.97 , $117.94 , $71.00 , $129.00 , $73.83 , ...]                                                                                                                                                                                                                                                                                                                                                                                                                                                                                                                                                                                                                                                                                                                                                                                                                                                                                                                                                                                                                                                                                                                                                                                                                                                                                                                                                                                                                                                                                                                                                                                                                                                                                                                                                                                                                                                                                                                                                                                                                                                                                                                                                                                                                                                                                                                                                                                                                                                                                                                                                                                                                                                                                                                                                                                                                                                                                                                                                                                                                                                                                                                                                                                                                                                                                                                                                                                                                                                                                                                                                                                                                                                                                                                                                                                                                                                                                                                                                                                                                                                                                                                                                                                                                                                                                                                                                                                                                                                                                                                                                                                                                                                                                                                                                                                                                                                                                                                                                                                                                                                                                                                                                                                                                                                                                                                                                                                                                             \n",
       "10  [Approved, Settled, Canceled, Denied, Insufficient; one of the following items required: sum certain; statement of fact; signature; location of incident; and date., In litigation, Closed as a contractor claim, In review, Claim entered, nan, Claim has been assigned for further investigation, Pending response from claimant, Deny, -, Settle, Approve in Full]                                                                                                                                                                                                                                                                                                                                                                                                                                                                                                                                                                                                                                                                                                                                                                                                                                                                                                                                                                                                                                                                                                                                                                                                                                                                                                                                                                                                                                                                                                                                                                                                                                                                                                                                                                                                                                                                                                                                                                                                                                                                                                                                                                                                                                                                                                                                                                                                                                                                                                                                                                                                                                                                                                                                                                                                                                                                                                                                                                                                                                                                                                                                                                                                                                                                                                                                                                                                                                                                                                                                                                                                                                                                                                                                                                                                                                                                                                                                                                                                                                                                                                                                                                                                                                                                                                                                                                                                                                                                                                                                                                                                                                                                                                                                                                                                                                                                                                                                                                                                                                                                                                                                                                                                                                                                                                                                                                                                                                                                                                                                                                                                                                                                                                                                                                                                                                                                                                                                                                                                                                                                                                       \n",
       "11  [$350.00 , $50.00 , $227.92 , $84.79 , $227.00 , $106.52 , $75.00 , nan, $79.95 , $43.49 , $17.00 , $0.00 , $337.40 , $149.08 , $301.69 , $21.00 , $275.00 , $30.00 , $40.00 , $678.00 , $207.99 , $171.99 , $801.90 , $53.38 , $74.55 , $225.00 , $210.00 , $26.00 , $20.00 , $65.00 , $364.07 , $457.80 , $3;250.00 , $100.00 , $700.00 , $144.00 , $237.00 , $70.00 , $3;080.69 , $58.00 , $60.00 , $499.00 , $95.00 , $382.99 , $231.00 , $600.00 , $25.00 , $293.84 , $234.70 , $1;000.00 , $10.00 , $291.67 , $150.00 , $82.90 , $120.00 , $270.00 , $263.00 , $208.00 , $202.50 , $250.00 , $165.00 , $1;777.00 , $492.00 , $35.00 , $112.00 , $420.00 , $200.00 , $162.00 , $80.00 , $726.74 , $71.00 , $450.00 , $197.00 , $74.00 , $280.00 , $52.50 , $1;470.69 , $167.00 , $244.00 , $204.00 , $27.50 , $78.80 , $1;760.00 , $500.00 , $2;342.00 , $37.00 , $49.00 , $229.00 , $775.16 , $742.25 , $435.00 , $45.00 , $15.00 , $223.00 , $569.50 , $116.06 , $782.65 , $75.91 , $332.50 , $31.00 , ...]                                                                                                                                                                                                                                                                                                                                                                                                                                                                                                                                                                                                                                                                                                                                                                                                                                                                                                                                                                                                                                                                                                                                                                                                                                                                                                                                                                                                                                                                                                                                                                                                                                                                                                                                                                                                                                                                                                                                                                                                                                                                                                                                                                                                                                                                                                                                                                                                                                                                                                                                                                                                                                                                                                                                                                                                                                                                                                                                                                                                                                                                                                                                                                                                                                                                                                                                                                                                                                                                                                                                                                                                                                                                                                                                                                                                                                                                                                                                                                                                                                                                                                                                                                                                                                                                                                                                                                                                                                                                                                                                                                                                                                                                                                                                                                                                                                                                                                                                                                                                                                                                                                                                                                                                                                                                                                                                                                                                                                                          \n",
       "12  [Approve in Full, Settle, nan, Deny]                                                                                                                                                                                                                                                                                                                                                                                                                                                                                                                                                                                                                                                                                                                                                                                                                                                                                                                                                                                                                                                                                                                                                                                                                                                                                                                                                                                                                                                                                                                                                                                                                                                                                                                                                                                                                                                                                                                                                                                                                                                                                                                                                                                                                                                                                                                                                                                                                                                                                                                                                                                                                                                                                                                                                                                                                                                                                                                                                                                                                                                                                                                                                                                                                                                                                                                                                                                                                                                                                                                                                                                                                                                                                                                                                                                                                                                                                                                                                                                                                                                                                                                                                                                                                                                                                                                                                                                                                                                                                                                                                                                                                                                                                                                                                                                                                                                                                                                                                                                                                                                                                                                                                                                                                                                                                                                                                                                                                                                                                                                                                                                                                                                                                                                                                                                                                                                                                                                                                                                                                                                                                                                                                                                                                                                                                                                                                                                                                                        "
      ]
     },
     "execution_count": 6,
     "metadata": {},
     "output_type": "execute_result"
    }
   ],
   "source": [
    "pd.set_option('display.max_colwidth', -1)\n",
    "cols =df.columns\n",
    "res = []\n",
    "\n",
    "for i in cols:\n",
    "    res.append([i,df[i].unique()])\n",
    "\n",
    "pd.DataFrame(res,columns=['Column Name','Unique Values'])"
   ]
  },
  {
   "cell_type": "markdown",
   "metadata": {},
   "source": [
    "Dari pengecekan ragam nilai pada setiap kolom ditemukan penulisan-penulisan data yang tidak konsisten atau salah, seperti:\n",
    "\n",
    "- Ada kolom-kolom yang memiliki nilai berupa strip **(-)**\n",
    "- Incident Date => Format penulisan data yang berbeda-beda, ada **4/15/2011, 19-09-2015, 20-MAR-0201 00:00, 11/21/2004 0:00, 12-08-2004  12:00:00 AM**\n",
    "- Item => Data yang terdiri dari beberapa barang seperti **Clothing - Shoes; belts; accessories; etc.; Cosmetics - Perfume; toilet articles; medicines; soaps; etc.**\n",
    "- Claim Amount => Ada penulisan data yang tidak lazim seperti **$3;250.04**\n",
    "- Status => Data yang terlalu panjang seperti **Insufficient; one of the following items required: sum certain; statement of fact; signature; location of incident; and date.**\n",
    "- Close Amount => Ada penulisan data yang tidak lazim seperti **$3;250.04**"
   ]
  },
  {
   "cell_type": "markdown",
   "metadata": {},
   "source": [
    "# Data Cleaning"
   ]
  },
  {
   "cell_type": "markdown",
   "metadata": {},
   "source": [
    "Dari proses eksplorasi dataset ditemukan permasalahan yang dapat membuat proses analisis data menjadi bias atau salah sehingga diperlukan proses _Data Cleaning_ untuk mengatasi permasalahan ini. Diantara permasalahan yang perlu diatasi terlebih dahulu adalah:\n",
    "\n",
    "- Data duplikat\n",
    "- Format penulisan data yang beragam atau tidak sesuai dengan konteks datanya\n",
    "- Data kosong atau null value\n",
    "- Konversi tipe data yang masih berupa object"
   ]
  },
  {
   "cell_type": "markdown",
   "metadata": {},
   "source": [
    "## Mengatasi Data Duplikat"
   ]
  },
  {
   "cell_type": "markdown",
   "metadata": {},
   "source": [
    "Dari pengecekan data duplikat, ditemukan ada 9 data yang terduplikasi sehingga data-data ini harus dihapus."
   ]
  },
  {
   "cell_type": "code",
   "execution_count": 7,
   "metadata": {},
   "outputs": [],
   "source": [
    "df.drop(df[df['Claim Number'].duplicated(keep='last')==True].index, inplace=True) #Menghapus data yang memiliki 'Claim Number' terduplikasi\n",
    "df.reset_index(drop=True,inplace=True)"
   ]
  },
  {
   "cell_type": "markdown",
   "metadata": {},
   "source": [
    "## Memperbaiki penulisan data"
   ]
  },
  {
   "cell_type": "markdown",
   "metadata": {},
   "source": [
    "Ketidakkonsistenan format penulisan data dalam satu kolom yang sama membuat dataset TSA Claims ini memerlukan transformasi penulisan data untuk meningkatkan kualitas data dan memudahkan dalam pengolahan data untuk analisis, yang meliputi:"
   ]
  },
  {
   "cell_type": "markdown",
   "metadata": {},
   "source": [
    "### 1. Mengganti data dengan nilai '-' menjadi null"
   ]
  },
  {
   "cell_type": "code",
   "execution_count": 8,
   "metadata": {},
   "outputs": [],
   "source": [
    "cols = df.columns\n",
    "\n",
    "for i in cols:\n",
    "    df[i] = df[i].replace('-', np.nan) #Mengganti data yang berisi (-) dengan null"
   ]
  },
  {
   "cell_type": "markdown",
   "metadata": {},
   "source": [
    "Proses ini akan menambah jumlah nilai null pada dataset"
   ]
  },
  {
   "cell_type": "markdown",
   "metadata": {},
   "source": [
    "### 2. Menyeragamkan penulisan data pada kolom 'Incident Date'"
   ]
  },
  {
   "cell_type": "markdown",
   "metadata": {},
   "source": [
    "Pada kolom 'Incident Date' ada data yang format penulisan nya adalah '03-SEP-0300 00:00'. Karena penulisan tersebut salah dan tidak dapat diinterpretasikan, maka data dengan format penulisan seperti itu akan diganti dengan data dari kolom 'Date Received'"
   ]
  },
  {
   "cell_type": "code",
   "execution_count": 9,
   "metadata": {},
   "outputs": [
    {
     "data": {
      "text/html": [
       "<div>\n",
       "<style scoped>\n",
       "    .dataframe tbody tr th:only-of-type {\n",
       "        vertical-align: middle;\n",
       "    }\n",
       "\n",
       "    .dataframe tbody tr th {\n",
       "        vertical-align: top;\n",
       "    }\n",
       "\n",
       "    .dataframe thead th {\n",
       "        text-align: right;\n",
       "    }\n",
       "</style>\n",
       "<table border=\"1\" class=\"dataframe\">\n",
       "  <thead>\n",
       "    <tr style=\"text-align: right;\">\n",
       "      <th></th>\n",
       "      <th>Claim Number</th>\n",
       "      <th>Date Received</th>\n",
       "      <th>Incident Date</th>\n",
       "      <th>Airport Code</th>\n",
       "      <th>Airport Name</th>\n",
       "      <th>Airline Name</th>\n",
       "      <th>Claim Type</th>\n",
       "      <th>Claim Site</th>\n",
       "      <th>Item</th>\n",
       "      <th>Claim Amount</th>\n",
       "      <th>Status</th>\n",
       "      <th>Close Amount</th>\n",
       "      <th>Disposition</th>\n",
       "    </tr>\n",
       "  </thead>\n",
       "  <tbody>\n",
       "    <tr>\n",
       "      <th>0</th>\n",
       "      <td>0909802M</td>\n",
       "      <td>4-Jan-02</td>\n",
       "      <td>12/12/2002 0:00</td>\n",
       "      <td>EWR</td>\n",
       "      <td>Newark International Airport</td>\n",
       "      <td>Continental Airlines</td>\n",
       "      <td>Property Damage</td>\n",
       "      <td>Checkpoint</td>\n",
       "      <td>Other</td>\n",
       "      <td>$350.00</td>\n",
       "      <td>Approved</td>\n",
       "      <td>$350.00</td>\n",
       "      <td>Approve in Full</td>\n",
       "    </tr>\n",
       "    <tr>\n",
       "      <th>1</th>\n",
       "      <td>0202417M</td>\n",
       "      <td>2-Feb-02</td>\n",
       "      <td>1/16/2004 0:00</td>\n",
       "      <td>SEA</td>\n",
       "      <td>Seattle-Tacoma International</td>\n",
       "      <td>NaN</td>\n",
       "      <td>Property Damage</td>\n",
       "      <td>Checked Baggage</td>\n",
       "      <td>Luggage (all types including footlockers)</td>\n",
       "      <td>$100.00</td>\n",
       "      <td>Settled</td>\n",
       "      <td>$50.00</td>\n",
       "      <td>Settle</td>\n",
       "    </tr>\n",
       "    <tr>\n",
       "      <th>2</th>\n",
       "      <td>0202445M</td>\n",
       "      <td>4-Feb-02</td>\n",
       "      <td>11/26/2003 0:00</td>\n",
       "      <td>STL</td>\n",
       "      <td>Lambert St. Louis International</td>\n",
       "      <td>American Airlines</td>\n",
       "      <td>Property Damage</td>\n",
       "      <td>Checked Baggage</td>\n",
       "      <td>Cell Phones</td>\n",
       "      <td>$278.88</td>\n",
       "      <td>Settled</td>\n",
       "      <td>$227.92</td>\n",
       "      <td>Settle</td>\n",
       "    </tr>\n",
       "    <tr>\n",
       "      <th>3</th>\n",
       "      <td>0909816M</td>\n",
       "      <td>7-Feb-02</td>\n",
       "      <td>1/6/2003 0:00</td>\n",
       "      <td>MIA</td>\n",
       "      <td>Miami International Airport</td>\n",
       "      <td>American Airlines</td>\n",
       "      <td>Property Damage</td>\n",
       "      <td>Checkpoint</td>\n",
       "      <td>Luggage (all types including footlockers)</td>\n",
       "      <td>$50.00</td>\n",
       "      <td>Approved</td>\n",
       "      <td>$50.00</td>\n",
       "      <td>Approve in Full</td>\n",
       "    </tr>\n",
       "    <tr>\n",
       "      <th>4</th>\n",
       "      <td>2005032379513</td>\n",
       "      <td>18-Feb-02</td>\n",
       "      <td>2/5/2005 0:00</td>\n",
       "      <td>MCO</td>\n",
       "      <td>Orlando International Airport</td>\n",
       "      <td>Delta (Song)</td>\n",
       "      <td>Property Damage</td>\n",
       "      <td>Checkpoint</td>\n",
       "      <td>Baby - Strollers; car seats; playpen; etc.</td>\n",
       "      <td>$84.79</td>\n",
       "      <td>Approved</td>\n",
       "      <td>$84.79</td>\n",
       "      <td>Approve in Full</td>\n",
       "    </tr>\n",
       "  </tbody>\n",
       "</table>\n",
       "</div>"
      ],
      "text/plain": [
       "    Claim Number Date Received    Incident Date Airport Code  \\\n",
       "0  0909802M       4-Jan-02      12/12/2002 0:00  EWR           \n",
       "1  0202417M       2-Feb-02      1/16/2004 0:00   SEA           \n",
       "2  0202445M       4-Feb-02      11/26/2003 0:00  STL           \n",
       "3  0909816M       7-Feb-02      1/6/2003 0:00    MIA           \n",
       "4  2005032379513  18-Feb-02     2/5/2005 0:00    MCO           \n",
       "\n",
       "                      Airport Name          Airline Name       Claim Type  \\\n",
       "0  Newark International Airport     Continental Airlines  Property Damage   \n",
       "1  Seattle-Tacoma International     NaN                   Property Damage   \n",
       "2  Lambert St. Louis International  American Airlines     Property Damage   \n",
       "3  Miami International Airport      American Airlines     Property Damage   \n",
       "4  Orlando International Airport    Delta (Song)          Property Damage   \n",
       "\n",
       "        Claim Site                                        Item Claim Amount  \\\n",
       "0  Checkpoint       Other                                       $350.00       \n",
       "1  Checked Baggage  Luggage (all types including footlockers)   $100.00       \n",
       "2  Checked Baggage  Cell Phones                                 $278.88       \n",
       "3  Checkpoint       Luggage (all types including footlockers)   $50.00        \n",
       "4  Checkpoint       Baby - Strollers; car seats; playpen; etc.  $84.79        \n",
       "\n",
       "     Status Close Amount      Disposition  \n",
       "0  Approved  $350.00      Approve in Full  \n",
       "1  Settled   $50.00       Settle           \n",
       "2  Settled   $227.92      Settle           \n",
       "3  Approved  $50.00       Approve in Full  \n",
       "4  Approved  $84.79       Approve in Full  "
      ]
     },
     "execution_count": 9,
     "metadata": {},
     "output_type": "execute_result"
    }
   ],
   "source": [
    "df.reset_index(drop=True,inplace=True)\n",
    "df.head()"
   ]
  },
  {
   "cell_type": "code",
   "execution_count": 10,
   "metadata": {},
   "outputs": [],
   "source": [
    "# Mengganti data pada kolom 'Incident Date' dengan format '11/26/2003 0:00' menjadi '26-11-2003'\n",
    "\n",
    "df[['mm','dd','yyyy','time']] = df['Incident Date'].str.split('/| ', expand=True)\n",
    "df['Incident Date F1'] = df['dd']+'-'+df['mm']+'-'+df['yyyy']"
   ]
  },
  {
   "cell_type": "code",
   "execution_count": 11,
   "metadata": {},
   "outputs": [],
   "source": [
    "# Mengekstraksi data pada kolom 'Incident Date' dengan format 23-Nov-15 ke kolom baru\n",
    "\n",
    "df['Incident Date F2'] = df['Incident Date'].str.extract(r'(\\d{1,2}-\\S{3}-\\d{2,4})', expand=False).str.strip()"
   ]
  },
  {
   "cell_type": "code",
   "execution_count": 12,
   "metadata": {},
   "outputs": [],
   "source": [
    "# Menggabung data 'Incident Date' dengan format 1&2 ke dalam kolom baru\n",
    "\n",
    "df['Incident Date 2'] = df['Incident Date F1'].fillna(df['Incident Date F2']) "
   ]
  },
  {
   "cell_type": "code",
   "execution_count": 13,
   "metadata": {},
   "outputs": [],
   "source": [
    "# Mengganti data pada kolom 'Incident Date' dengan format 15-MAR-0209,15-FEB-1005 dengan data dari kolom 'Date Received'\n",
    "\n",
    "df['Incident Date 3'] = np.where(df['Incident Date 2'].str.contains('-\\S{3}-\\d{4}')==True,df['Date Received'],df['Incident Date 2'])"
   ]
  },
  {
   "cell_type": "code",
   "execution_count": 14,
   "metadata": {},
   "outputs": [],
   "source": [
    "df['Incident Date'] = df['Incident Date 3']"
   ]
  },
  {
   "cell_type": "code",
   "execution_count": 15,
   "metadata": {},
   "outputs": [],
   "source": [
    "df.drop(columns=['dd','mm','yyyy','time','Incident Date F1','Incident Date F2','Incident Date 2','Incident Date 3'],inplace=True) #Menghapus kolom-kolom sementara yang sudah dibuat\n",
    "df.reset_index(drop=True,inplace=True)"
   ]
  },
  {
   "cell_type": "markdown",
   "metadata": {},
   "source": [
    "### 3. Menghilangkan simbol dolar '$' dan titik-koma ';' pada kolom 'Claim Amount' dan 'Close Amount'"
   ]
  },
  {
   "cell_type": "markdown",
   "metadata": {},
   "source": [
    "Pada dua kolom ini, ada dua isu yang perlu ditangani:\n",
    "- Simbol $ pada penulisan data, seperti $16.71\n",
    "- Data yang tertulis dengan ; setelah simbol $, seperti $3;250.04"
   ]
  },
  {
   "cell_type": "code",
   "execution_count": 16,
   "metadata": {},
   "outputs": [],
   "source": [
    "df['Claim Amount'] = df['Claim Amount'].str.replace('$', '') #Menghapus simbol dolar pada kolom 'Claim Amount'\n",
    "df['Claim Amount'] = df['Claim Amount'].str.replace(';', '') #Menghapus titik-koma pada kolom 'Claim Amount'\n",
    "df['Close Amount'] = df['Close Amount'].str.replace('$', '') #Menghapus simbol dolar pada kolom 'Close Amount'\n",
    "df['Close Amount'] = df['Close Amount'].str.replace(';', '') #Menghapus titik koma pada kolom 'Close Amount'"
   ]
  },
  {
   "cell_type": "markdown",
   "metadata": {},
   "source": [
    "### 4. Menyederhanakan data pada kolom 'Item'"
   ]
  },
  {
   "cell_type": "markdown",
   "metadata": {},
   "source": [
    "Di kolom item, informasi tentang barang yang diklaim tercatat dengan detail barang apa saja yang hilang/rusak dan deskripsi singkat tentang jenis barangnya. Akan tetapi informasi ini dapat disederhanakan dengan mengekstrak kata-kata kunci di awal kalimat yang dipisahkan oleh tanda strip (-) dan titik-koma (;)"
   ]
  },
  {
   "cell_type": "code",
   "execution_count": 17,
   "metadata": {},
   "outputs": [],
   "source": [
    "df['Item'] = df['Item'].str.split(r\"-|;\", expand=True)[0]"
   ]
  },
  {
   "cell_type": "markdown",
   "metadata": {},
   "source": [
    "### 5. Menyederhanakan data pada kolom 'Status'"
   ]
  },
  {
   "cell_type": "markdown",
   "metadata": {},
   "source": [
    "Di dalam kolom status ada banyak bentuk penulisan, baik yang penulisannya berbeda namun makna nya sama seperti _Denied_ dan _deny_ ataupun yang secara interpretasi sama, seperti _In Review_ dan _In Litigation_ yang dapat dijadikan sama ke dalam variabel _In Process_."
   ]
  },
  {
   "cell_type": "code",
   "execution_count": 18,
   "metadata": {},
   "outputs": [],
   "source": [
    "#Mengekstrak penulisan status yang terlalu panjang dengan mengambil kata paling depannya\n",
    "\n",
    "df['Status'] = df['Status'].str.split(r\";\", expand=True)[0]"
   ]
  },
  {
   "cell_type": "code",
   "execution_count": 19,
   "metadata": {},
   "outputs": [],
   "source": [
    "#Merubah _Denied_ menjadi _Deny_\n",
    "\n",
    "df['Status'] = df['Status'].str.replace('Denied', 'Deny')"
   ]
  },
  {
   "cell_type": "code",
   "execution_count": 20,
   "metadata": {},
   "outputs": [],
   "source": [
    "#Merubah _Settled_ menjadi _Settle_\n",
    "\n",
    "df['Status'] = df['Status'].str.replace('Settled', 'Settle')"
   ]
  },
  {
   "cell_type": "code",
   "execution_count": 21,
   "metadata": {},
   "outputs": [],
   "source": [
    "#Merubah _Approved_ menjadi _Approve in Full_\n",
    "\n",
    "df['Status'] = df['Status'].str.replace('Approved', 'Approve in Full')"
   ]
  },
  {
   "cell_type": "markdown",
   "metadata": {},
   "source": [
    "Sedangkan data yang secara makna berarti dalam proses, seperti:\n",
    "- 'In litigation',\n",
    "- 'In review',\n",
    "- 'Claim entered',\n",
    "- 'Claim has been assigned for further investigation',\n",
    "- 'Pending response from claimant\n",
    "\n",
    "akan disamakan menjadi variabel baru: **In Process**"
   ]
  },
  {
   "cell_type": "code",
   "execution_count": 22,
   "metadata": {},
   "outputs": [],
   "source": [
    "#Merubah data menjadi _In Process_\n",
    "\n",
    "df['Status'] = df['Status'].str.replace('In litigation','In Process')\n",
    "df['Status'] = df['Status'].str.replace('In review','In Process')\n",
    "df['Status'] = df['Status'].str.replace('Claim entered','In Process')\n",
    "df['Status'] = df['Status'].str.replace('Claim has been assigned for further investigation','In Process')\n",
    "df['Status'] = df['Status'].str.replace('Pending response from claimant','In Process')"
   ]
  },
  {
   "cell_type": "markdown",
   "metadata": {},
   "source": [
    "## Hasil"
   ]
  },
  {
   "cell_type": "code",
   "execution_count": 23,
   "metadata": {},
   "outputs": [
    {
     "data": {
      "text/html": [
       "<div>\n",
       "<style scoped>\n",
       "    .dataframe tbody tr th:only-of-type {\n",
       "        vertical-align: middle;\n",
       "    }\n",
       "\n",
       "    .dataframe tbody tr th {\n",
       "        vertical-align: top;\n",
       "    }\n",
       "\n",
       "    .dataframe thead th {\n",
       "        text-align: right;\n",
       "    }\n",
       "</style>\n",
       "<table border=\"1\" class=\"dataframe\">\n",
       "  <thead>\n",
       "    <tr style=\"text-align: right;\">\n",
       "      <th></th>\n",
       "      <th>Column Name</th>\n",
       "      <th>Unique Values</th>\n",
       "    </tr>\n",
       "  </thead>\n",
       "  <tbody>\n",
       "    <tr>\n",
       "      <th>0</th>\n",
       "      <td>Claim Number</td>\n",
       "      <td>[0909802M, 0202417M, 0202445M, 0909816M, 2005032379513, 2005032479636, 2007050124750, 12772, 14268, 2004102965797, 2005071188575, 2005070788431, 14460, 13334, 0616771L, 15242, 15324, 15361, 0616636L, 0714534M, 0616540L, 16410, 0616723L, 2004092763985, 16403, 0702564M, 16759, 0616777L, 15352, 14907, 17892, 17846, 17201, 2004050550501, 18170, 18202, 18193, 18222, 18171, 18274, 0616726L, 18315, 16961, 17666, 18141, 18301, 0909839M, 15542, 18065, 18109, 18098, 18101, 18394, 0616699L, 18438, 18620, 21003, 21021, 0616631L, 18221, 0616675L, 18804, 0616760L, 18917, 18919, 21134, 19009, 0616624L, 20887, 21013, 19029, 18966, 19133, 23663, 0616802L, 15769, 18181, 23623, 0702504M, 0714563M, 0616579L, 23284, 18386, 18908, 23278, 21111, 21254, 0714547M, 19239, 19039, 19078, 20938, 21052, 21053, 21054, 21253, 0616528L, 19229, 20937, 0616610L, ...]</td>\n",
       "    </tr>\n",
       "    <tr>\n",
       "      <th>1</th>\n",
       "      <td>Date Received</td>\n",
       "      <td>[4-Jan-02, 2-Feb-02, 4-Feb-02, 7-Feb-02, 18-Feb-02, 30-Apr-02, 20-Jun-02, 25-Jun-02, 6-Jul-02, 7-Jul-02, 8-Jul-02, 12-Jul-02, 15-Jul-02, 18-Jul-02, 22-Jul-02, 24-Jul-02, 5-Aug-02, 8-Aug-02, 12-Aug-02, 19-Aug-02, 21-Aug-02, 9-Sep-02, 11-Sep-02, 16-Sep-02, 18-Sep-02, 19-Sep-02, 20-Sep-02, 23-Sep-02, 24-Sep-02, 25-Sep-02, 26-Sep-02, 27-Sep-02, 30-Sep-02, 2-Oct-02, 5-Oct-02, 7-Oct-02, 8-Oct-02, 9-Oct-02, 10-Oct-02, 11-Oct-02, 15-Oct-02, 17-Oct-02, 18-Oct-02, 19-Oct-02, 21-Oct-02, 22-Oct-02, 23-Oct-02, 25-Oct-02, 28-Oct-02, 29-Oct-02, 31-Oct-02, 1-Nov-02, 4-Nov-02, 5-Nov-02, 6-Nov-02, 7-Nov-02, 8-Nov-02, 9-Nov-02, 12-Nov-02, 13-Nov-02, 14-Nov-02, 15-Nov-02, 16-Nov-02, 18-Nov-02, 19-Nov-02, 20-Nov-02, 21-Nov-02, 22-Nov-02, 24-Nov-02, 25-Nov-02, 26-Nov-02, 27-Nov-02, 29-Nov-02, 2-Dec-02, 3-Dec-02, 4-Dec-02, 5-Dec-02, 6-Dec-02, 9-Dec-02, 10-Dec-02, 11-Dec-02, 12-Dec-02, 13-Dec-02, 16-Dec-02, 17-Dec-02, 18-Dec-02, 19-Dec-02, 20-Dec-02, 21-Dec-02, 23-Dec-02, 24-Dec-02, 26-Dec-02, 27-Dec-02, 30-Dec-02, 31-Dec-02, 2-Jan-03, 3-Jan-03, 5-Jan-03, 6-Jan-03, 7-Jan-03, ...]</td>\n",
       "    </tr>\n",
       "    <tr>\n",
       "      <th>2</th>\n",
       "      <td>Incident Date</td>\n",
       "      <td>[12-12-2002, 16-1-2004, 26-11-2003, 6-1-2003, 5-2-2005, 17-2-2005, 26-4-2007, 9-5-2002, 16-6-2002, 4-5-2002, 23-6-2005, 17-6-2005, 12-6-2002, 4-6-2002, nan, 31-5-2002, 11-3-2002, 6-3-2002, 10-7-2002, 26-7-2002, 19-7-2002, 22-6-2002, 12-7-2002, 13-7-2002, 28-6-2002, 23-8-2002, 30-8-2002, 19-8-2002, 5-8-2002, 2-8-2002, 12-8-2002, 28-7-2002, 23-7-2002, 16-8-2002, 13-8-2002, 1-9-2002, 14-8-2002, 31-12-2002, 1-7-2002, 20-8-2002, 21-8-2002, 24-8-2002, 27-7-2002, 31-8-2002, 15-8-2002, 12-9-2002, 29-8-2002, 10-9-2002, 31-7-2002, 3-8-2002, 21-8-2003, 3-9-2002, 26-9-2002, 22-8-2002, 7-8-2002, 18-7-2002, 8-9-2002, 9-9-2002, 25-9-2002, 10-4-2002, 7-10-2002, 29-9-2002, 20-9-2002, 24-9-2002, 27-9-2002, 22-9-2002, 15-9-2002, 2-10-2002, 28-9-2002, 13-9-2002, 14-9-2002, 9-8-2002, 19-10-2002, 3-10-2002, 21-9-2002, 14-10-2002, 13-10-2002, 28-8-2002, 1-10-2002, 6-10-2002, 8-10-2002, 18-9-2002, 10-10-2002, 9-10-2002, 20-10-2002, 11-9-2002, 16-10-2002, 5-10-2002, 15-10-2002, 27-10-2002, 18-10-2002, 22-10-2002, 21-10-2002, 23-10-2002, 7-10-2004, 24-7-2002, 28-10-2002, 19-9-2002, 26-10-2002, 30-9-2002, ...]</td>\n",
       "    </tr>\n",
       "    <tr>\n",
       "      <th>3</th>\n",
       "      <td>Airport Code</td>\n",
       "      <td>[EWR, SEA, STL, MIA, MCO, CAK, PHL, BWI, PHX, ATL, ORD, CLT, nan, SDF, RDU, BOS, PVD, CMH, MDW, BDL, JFK, DCA, BHM, TPA, CLE, COS, HOU, TSA, SAT, SYR, MOB, LAX, LGA, PIT, OAK, BNA, SLC, PBI, SMF, DTW, ORF, DFW, PSP, OKC, SAN, TOL, MSP, DEN, LAS, IAH, CVG, SJC, FNT, RIC, ELP, MEM, ABE, RSW, RNO, HNL, IAD, ABQ, PDX, ROC, SNA, AUS, MKE, PWM, FLL, LGB, ITO, GPT, BUR, LEX, JAX, TUL, MSO, TUS, BUF, BTR, ONT, MSY, DAB, DSM, BGM, CHA, CHS, JNU, MHT, IND, GEG, OMA, ISP, TYS, HSV, FWA, MDT, CLL, ALB, BGR, ...]</td>\n",
       "    </tr>\n",
       "    <tr>\n",
       "      <th>4</th>\n",
       "      <td>Airport Name</td>\n",
       "      <td>[Newark International Airport, Seattle-Tacoma International, Lambert St. Louis International, Miami International Airport, Orlando International Airport, Akron-Canton Regional, Philadelphia International Airport, Baltimore/Washington Intl Thurgood Marshall, Phoenix Sky Harbor International, Hartsfield-Jackson Atlanta International Airport, Chicago O'Hare International Airport, Charlotte/Douglas International Airport, nan, Louisville International, Raleigh-Durham International, Boston (Logan) International Airport, TF Green Airport; Providence, Port Columbus International, Midway International Airport, Bradley International Airport, John F. Kennedy International, Ronald Reagan Washington National Airport, Birmingham International Airport, Tampa International, Cleveland Hopkins International, Colorado Springs Municipal, William P. Hobby, TSA - Non-Specified Airport, San Antonio International, Syracuse-Hancock International, Mobile Regional, Los Angeles International Airport, LaGuardia, Pittsburgh International Airport, Metropolitan Oakland International, Nashville International, Salt Lake City International Airport, Palm Beach International, Sacramento International Airport, Detroit Metropolitan Wayne County Airport, Norfolk International, Dallas-Fort Worth International Airport, Palm Springs International, Will Rogers World, San Diego International, Toledo Express, Minneapolis/ St.Paul International Airport, Denver International Airport, McCarran International, Houston - George Bush Intercontinental Airport, Cincinnati/Northern Kentucky International, Norman Y Mineta San Jose International, Bishop International; Flint, Richmond International, El Paso International Airport, Memphis International Airport, Lehigh Valley International Airport; Allentown, Southwest Florida International, Reno/Tahoe International, Honolulu International Airport, Washington Dulles International, Albuquerque International Sunport Airport, Portland International, Greater Rochester International, John Wayne, Austin-Bergstrom International Airport, General Mitchell International Airport, Portland International Jetport, Ft. Lauderdale-Hollywood International, Long Beach, Hilo International, Gulfport-Biloxi International, Bob Hope, Blue Grass ;Lexington, Jacksonville International, Tulsa International Airport, Missoula International, Tucson International, Buffalo Niagara International, Baton Rouge Metropolitan, Ontario International, New Orleans International, Daytona Beach International, Des Moines International, Greater Binghamton Airport, Chattanooga Metropolitan, Charleston International, Juneau International, Manchester Regional Airport, Indianapolis International, Spokane International, Eppley Airfield, Long Island McArthur; Islip, Mcghee Tyson ;Knoxville, Huntsville International Airport, Ft. Wayne Municipal- Baer Field, Harrisburg International, Easterwood/College Station; TX, Albany International, Bangor International Airport, ...]</td>\n",
       "    </tr>\n",
       "    <tr>\n",
       "      <th>5</th>\n",
       "      <td>Airline Name</td>\n",
       "      <td>[Continental Airlines, nan, American Airlines, Delta (Song), Air Tran Airlines(do not use), USAir, Southwest Airlines, AirTran Airlines, Northwest Airlines, Delta Air Lines, America West, UAL, Virgin Atlantic, Jet Blue, Alaska Airlines, Aloha Airlines, Tran Meridian Airlines, Spirit Airlines, Frontier Airlines, American West, Air Canada, British Airways, America Trans Air, Aero Mexico, Hawaiian Airlines, Lufthansa, Horizon Air, Lan Airlines, Midwest Express Airlines, Qantus Airways, Frontier Aviation Inc, Korean Airlines, Air Jamaica, KLM Royal Dutch Airlines, Alitalia, Air France, Aer Lingus, Austrian Airlines, Japan Airlines, Sun Country Airlines Inc, Comair Inc, ATA Aerocondor, Tower Air, Singapore Airlines, Mexicana, Swiss Air, Aero Flot, Air 2000 Ltd Great Britain, Skywest Airlines Inc USA, Allegiant Air, TWA, American Eagle, Southeast Airlines, Cape Air, Air New Zealand, Air Phillipines, USA 3000 (U5), Iceland Air, Scandinavian Airlines Systems, China Airlines, Midway Airlines, Continental Express Inc, OMNI Air Express- (OY), Malaysian Airline System, Sun Jet International Airlines Inc, Britannia Airways Ltd, Northwest International Airways Ltd, Turkish Airlines, Air Pacific, Indian Airlines, Pan American Airways Corp., Thai Airways, Pakistan International Airlines Cor, All Nippon Airways, Sunworld International Airlines Inc, Pace Airlines, Western Pacific Airlines Inc Westpac, Virgin Express, Commercial Airways, China Eastern Airlines, Reno Air, Aloha Islandair Inc, Kuwait Airways, Mountain West, US Express, Cayman Airlines, LOT Polish Airlines, Wiggins Airways, British Midland Airways Ltd, Skywest Airlines Australia, Saudi Arabian Airlines, Royal Wings Airlines, South African Airways, Aeroflot Russian International, Canadian Airlines, EL AL Israeli Airlines, Kuwait Airlines, Egypt Air, Czech Airlines, Avianca, ...]</td>\n",
       "    </tr>\n",
       "    <tr>\n",
       "      <th>6</th>\n",
       "      <td>Claim Type</td>\n",
       "      <td>[Property Damage, Passenger Property Loss, nan, Personal Injury, Motor Vehicle, Passenger Theft, Employee Loss (MPCECA), Wrongful Death, Bus Terminal, Complaint, Compliment]</td>\n",
       "    </tr>\n",
       "    <tr>\n",
       "      <th>7</th>\n",
       "      <td>Claim Site</td>\n",
       "      <td>[Checkpoint, Checked Baggage, Other, Motor Vehicle, nan, Bus Station]</td>\n",
       "    </tr>\n",
       "    <tr>\n",
       "      <th>8</th>\n",
       "      <td>Item</td>\n",
       "      <td>[Other, Luggage (all types including footlockers), Cell Phones, Baby , Professional Equipment, Clothing , Computer , Jewelry , Eyeglasses , Photographic Film, Stereo Items &amp; Accessories, Currency, Cameras , nan, Cosmetics , Locks, PDA , DVD/CD Players, Musical Instruments , Fish/Game, Medicines, Alcoholic beverages, Automobile Parts, Watches , Tools , Handbags &amp; Purses (leather or fabric), Dishes, Toys , Dental Equipment and Instruments, Books , Hearing Aids, Video Recordings (blank &amp; commercial), Clocks , Audio , Medical Equipment &amp; Insturments, Candles , Camping Equipment &amp; Supplies, Bags , Sporting Equipment &amp; Supplies (footballs, Lighting Supplies (globe domes, Paintings and Pictures (including frames, Lighters , Game Equipment (poker chips, House Keeping Items (mops, GPS , Binoculars, Brushes , Briefcases, Barber Supplies , Kitchen Utensils , Knick Knacks (bric, Bedding , Silverplate, MP3 Players, Firearms, Bicycles, Toys (game systems, Ceramics , Boxes , Video Recordings , Batteries , Electrical and Gas Appliances Minor , Razors (other than electric), Dolls , Lamps (including sun lamps), Tool Chests &amp; Tool Boxes (not in a vehicle)_, Mirrors (including frames), Scissors, Drafting, Desk and Writing Equipment , Baskets , Taxidermy Items (mounted deer heads, Umbrellas, Flashlights, Lampshade, Office Furnishings, Sewing Machines (other than electric), Cards , Linens , Calculators , Tool Chests &amp; Tool Boxes (not in a vehicle)_ , Pet Supplies (food/water dish, Musical Instruments (pianos, Outdoor Structures (fencing, Artificial flowers &amp; Fruits, Camping Equipment &amp; Supplies , Stationery, Posters , Telephones, Ladders, Decorations , Curtains, Wigs (including hairpieces) $250 or more, Microscopes &amp; Telescopes , Compasses, Tools &amp; Tool Boxes , Stuffed Animals, Furniture (including brass &amp; cement furniture, Material (including yard goods and yarn), Rugs , ...]</td>\n",
       "    </tr>\n",
       "    <tr>\n",
       "      <th>9</th>\n",
       "      <td>Claim Amount</td>\n",
       "      <td>[350.00 , 100.00 , 278.88 , 50.00 , 84.79 , 459.01 , 106.52 , 75.00 , 2270.09 , 4457.29 , 79.95 , 43.49 , 16.71 , 450.00 , nan, 200.00 , 110000.00 , 68.00 , 600.00 , 160.00 , 380.00 , 354.93 , 21.44 , 40.00 , 275.00 , 30.00 , 1832.22 , 250.00 , 1200.00 , 678.00 , 428.21 , 176.59 , 1000.00 , 45.00 , 175.00 , 1500.00 , 213.00 , 249.00 , 85.00 , 750.00 , 150.00 , 300.00 , 299.98 , 250000.00 , 50000.00 , 26.00 , 20.00 , 65.00 , 199.00 , 379.90 , 128.05 , 27.45 , 5000.00 , 520.00 , 3250.04 , 2000.00 , 700.00 , 185.00 , 75.30 , 342.36 , 70.03 , 3080.69 , 210.00 , 109.99 , 58.17 , 60.00 , 499.00 , 95.00 , 382.99 , 289.00 , 25.00 , 225.00 , 400.00 , 169.00 , 337.83 , 10.00 , 2.50 , 120.00 , 260.00 , 1801.99 , 24.95 , 263.00 , 208.16 , 165.00 , 1777.00 , 492.00 , 598.00 , 7500.00 , 97.00 , 180.00 , 500.00 , 112.00 , 420.00 , 249.99 , 80.00 , 764.97 , 117.94 , 71.00 , 129.00 , 73.83 , ...]</td>\n",
       "    </tr>\n",
       "    <tr>\n",
       "      <th>10</th>\n",
       "      <td>Status</td>\n",
       "      <td>[Approve in Full, Settle, Canceled, Deny, Insufficient, In Process, Closed as a contractor claim, nan]</td>\n",
       "    </tr>\n",
       "    <tr>\n",
       "      <th>11</th>\n",
       "      <td>Close Amount</td>\n",
       "      <td>[350.00 , 50.00 , 227.92 , 84.79 , 227.00 , 106.52 , 75.00 , nan, 79.95 , 43.49 , 17.00 , 0.00 , 337.40 , 149.08 , 301.69 , 21.00 , 275.00 , 30.00 , 40.00 , 678.00 , 207.99 , 171.99 , 801.90 , 53.38 , 74.55 , 225.00 , 210.00 , 26.00 , 20.00 , 65.00 , 364.07 , 457.80 , 3250.00 , 100.00 , 700.00 , 144.00 , 237.00 , 70.00 , 3080.69 , 58.00 , 60.00 , 499.00 , 95.00 , 382.99 , 231.00 , 600.00 , 25.00 , 293.84 , 234.70 , 1000.00 , 10.00 , 291.67 , 150.00 , 82.90 , 120.00 , 270.00 , 263.00 , 208.00 , 202.50 , 250.00 , 165.00 , 1777.00 , 492.00 , 35.00 , 112.00 , 420.00 , 200.00 , 162.00 , 80.00 , 726.74 , 71.00 , 450.00 , 197.00 , 74.00 , 280.00 , 52.50 , 1470.69 , 167.00 , 244.00 , 204.00 , 27.50 , 78.80 , 1760.00 , 500.00 , 2342.00 , 37.00 , 49.00 , 229.00 , 775.16 , 742.25 , 435.00 , 45.00 , 15.00 , 223.00 , 569.50 , 116.06 , 782.65 , 75.91 , 332.50 , 31.00 , ...]</td>\n",
       "    </tr>\n",
       "    <tr>\n",
       "      <th>12</th>\n",
       "      <td>Disposition</td>\n",
       "      <td>[Approve in Full, Settle, nan, Deny]</td>\n",
       "    </tr>\n",
       "  </tbody>\n",
       "</table>\n",
       "</div>"
      ],
      "text/plain": [
       "      Column Name  \\\n",
       "0    Claim Number   \n",
       "1   Date Received   \n",
       "2   Incident Date   \n",
       "3    Airport Code   \n",
       "4    Airport Name   \n",
       "5    Airline Name   \n",
       "6      Claim Type   \n",
       "7      Claim Site   \n",
       "8            Item   \n",
       "9    Claim Amount   \n",
       "10         Status   \n",
       "11   Close Amount   \n",
       "12    Disposition   \n",
       "\n",
       "                                                                                                                                                                                                                                                                                                                                                                                                                                                                                                                                                                                                                                                                                                                                                                                                                                                                                                                                                                                                                                                                                                                                                                                                                                                                                                                                                                                                                                                                                                                                                                                                                                                                                                                                                                                                                                                                                                                                                                                                                                                                                                                                                                                                                                                                                                                                                                                                                                                                                                                                                                                                                                                                                                                                                                                                                                                                                                                                                                                                                                                                          Unique Values  \n",
       "0                                                                                                                                                                                                                                                                                                                                                                                                                                                                                                                                                                                                                                                                                                                                                                                                                                                                                                                                                                                                                                                                                                                                                                                                                                                                                                                                                                                                                                                                                                                                                                                                                                                                                                                                                                                                                                                                                                                                                                                                                                                                                                                                                                                                          [0909802M, 0202417M, 0202445M, 0909816M, 2005032379513, 2005032479636, 2007050124750, 12772, 14268, 2004102965797, 2005071188575, 2005070788431, 14460, 13334, 0616771L, 15242, 15324, 15361, 0616636L, 0714534M, 0616540L, 16410, 0616723L, 2004092763985, 16403, 0702564M, 16759, 0616777L, 15352, 14907, 17892, 17846, 17201, 2004050550501, 18170, 18202, 18193, 18222, 18171, 18274, 0616726L, 18315, 16961, 17666, 18141, 18301, 0909839M, 15542, 18065, 18109, 18098, 18101, 18394, 0616699L, 18438, 18620, 21003, 21021, 0616631L, 18221, 0616675L, 18804, 0616760L, 18917, 18919, 21134, 19009, 0616624L, 20887, 21013, 19029, 18966, 19133, 23663, 0616802L, 15769, 18181, 23623, 0702504M, 0714563M, 0616579L, 23284, 18386, 18908, 23278, 21111, 21254, 0714547M, 19239, 19039, 19078, 20938, 21052, 21053, 21054, 21253, 0616528L, 19229, 20937, 0616610L, ...]  \n",
       "1                                                                                                                                                                                                                                                                                                                                                                                                                                                                                                                                                                                                                                                                                                                                                                                                                                                                                                                                                                                                                                                                                                                                                                                                                                                                                                                                                                                                                                                                                                                                                                                                                                                                                                                                                                                                                                                                                                                                                                      [4-Jan-02, 2-Feb-02, 4-Feb-02, 7-Feb-02, 18-Feb-02, 30-Apr-02, 20-Jun-02, 25-Jun-02, 6-Jul-02, 7-Jul-02, 8-Jul-02, 12-Jul-02, 15-Jul-02, 18-Jul-02, 22-Jul-02, 24-Jul-02, 5-Aug-02, 8-Aug-02, 12-Aug-02, 19-Aug-02, 21-Aug-02, 9-Sep-02, 11-Sep-02, 16-Sep-02, 18-Sep-02, 19-Sep-02, 20-Sep-02, 23-Sep-02, 24-Sep-02, 25-Sep-02, 26-Sep-02, 27-Sep-02, 30-Sep-02, 2-Oct-02, 5-Oct-02, 7-Oct-02, 8-Oct-02, 9-Oct-02, 10-Oct-02, 11-Oct-02, 15-Oct-02, 17-Oct-02, 18-Oct-02, 19-Oct-02, 21-Oct-02, 22-Oct-02, 23-Oct-02, 25-Oct-02, 28-Oct-02, 29-Oct-02, 31-Oct-02, 1-Nov-02, 4-Nov-02, 5-Nov-02, 6-Nov-02, 7-Nov-02, 8-Nov-02, 9-Nov-02, 12-Nov-02, 13-Nov-02, 14-Nov-02, 15-Nov-02, 16-Nov-02, 18-Nov-02, 19-Nov-02, 20-Nov-02, 21-Nov-02, 22-Nov-02, 24-Nov-02, 25-Nov-02, 26-Nov-02, 27-Nov-02, 29-Nov-02, 2-Dec-02, 3-Dec-02, 4-Dec-02, 5-Dec-02, 6-Dec-02, 9-Dec-02, 10-Dec-02, 11-Dec-02, 12-Dec-02, 13-Dec-02, 16-Dec-02, 17-Dec-02, 18-Dec-02, 19-Dec-02, 20-Dec-02, 21-Dec-02, 23-Dec-02, 24-Dec-02, 26-Dec-02, 27-Dec-02, 30-Dec-02, 31-Dec-02, 2-Jan-03, 3-Jan-03, 5-Jan-03, 6-Jan-03, 7-Jan-03, ...]  \n",
       "2                                                                                                                                                                                                                                                                                                                                                                                                                                                                                                                                                                                                                                                                                                                                                                                                                                                                                                                                                                                                                                                                                                                                                                                                                                                                                                                                                                                                                                                                                                                                                                                                                                                                                                                                                                                                                                                                                                                                          [12-12-2002, 16-1-2004, 26-11-2003, 6-1-2003, 5-2-2005, 17-2-2005, 26-4-2007, 9-5-2002, 16-6-2002, 4-5-2002, 23-6-2005, 17-6-2005, 12-6-2002, 4-6-2002, nan, 31-5-2002, 11-3-2002, 6-3-2002, 10-7-2002, 26-7-2002, 19-7-2002, 22-6-2002, 12-7-2002, 13-7-2002, 28-6-2002, 23-8-2002, 30-8-2002, 19-8-2002, 5-8-2002, 2-8-2002, 12-8-2002, 28-7-2002, 23-7-2002, 16-8-2002, 13-8-2002, 1-9-2002, 14-8-2002, 31-12-2002, 1-7-2002, 20-8-2002, 21-8-2002, 24-8-2002, 27-7-2002, 31-8-2002, 15-8-2002, 12-9-2002, 29-8-2002, 10-9-2002, 31-7-2002, 3-8-2002, 21-8-2003, 3-9-2002, 26-9-2002, 22-8-2002, 7-8-2002, 18-7-2002, 8-9-2002, 9-9-2002, 25-9-2002, 10-4-2002, 7-10-2002, 29-9-2002, 20-9-2002, 24-9-2002, 27-9-2002, 22-9-2002, 15-9-2002, 2-10-2002, 28-9-2002, 13-9-2002, 14-9-2002, 9-8-2002, 19-10-2002, 3-10-2002, 21-9-2002, 14-10-2002, 13-10-2002, 28-8-2002, 1-10-2002, 6-10-2002, 8-10-2002, 18-9-2002, 10-10-2002, 9-10-2002, 20-10-2002, 11-9-2002, 16-10-2002, 5-10-2002, 15-10-2002, 27-10-2002, 18-10-2002, 22-10-2002, 21-10-2002, 23-10-2002, 7-10-2004, 24-7-2002, 28-10-2002, 19-9-2002, 26-10-2002, 30-9-2002, ...]  \n",
       "3                                                                                                                                                                                                                                                                                                                                                                                                                                                                                                                                                                                                                                                                                                                                                                                                                                                                                                                                                                                                                                                                                                                                                                                                                                                                                                                                                                                                                                                                                                                                                                                                                                                                                                                                                                                                                                                                                                                                                                                                                                                                                                                                                                                                                                                                                                                                                                                                                                                                                                                                                             [EWR, SEA, STL, MIA, MCO, CAK, PHL, BWI, PHX, ATL, ORD, CLT, nan, SDF, RDU, BOS, PVD, CMH, MDW, BDL, JFK, DCA, BHM, TPA, CLE, COS, HOU, TSA, SAT, SYR, MOB, LAX, LGA, PIT, OAK, BNA, SLC, PBI, SMF, DTW, ORF, DFW, PSP, OKC, SAN, TOL, MSP, DEN, LAS, IAH, CVG, SJC, FNT, RIC, ELP, MEM, ABE, RSW, RNO, HNL, IAD, ABQ, PDX, ROC, SNA, AUS, MKE, PWM, FLL, LGB, ITO, GPT, BUR, LEX, JAX, TUL, MSO, TUS, BUF, BTR, ONT, MSY, DAB, DSM, BGM, CHA, CHS, JNU, MHT, IND, GEG, OMA, ISP, TYS, HSV, FWA, MDT, CLL, ALB, BGR, ...]  \n",
       "4   [Newark International Airport, Seattle-Tacoma International, Lambert St. Louis International, Miami International Airport, Orlando International Airport, Akron-Canton Regional, Philadelphia International Airport, Baltimore/Washington Intl Thurgood Marshall, Phoenix Sky Harbor International, Hartsfield-Jackson Atlanta International Airport, Chicago O'Hare International Airport, Charlotte/Douglas International Airport, nan, Louisville International, Raleigh-Durham International, Boston (Logan) International Airport, TF Green Airport; Providence, Port Columbus International, Midway International Airport, Bradley International Airport, John F. Kennedy International, Ronald Reagan Washington National Airport, Birmingham International Airport, Tampa International, Cleveland Hopkins International, Colorado Springs Municipal, William P. Hobby, TSA - Non-Specified Airport, San Antonio International, Syracuse-Hancock International, Mobile Regional, Los Angeles International Airport, LaGuardia, Pittsburgh International Airport, Metropolitan Oakland International, Nashville International, Salt Lake City International Airport, Palm Beach International, Sacramento International Airport, Detroit Metropolitan Wayne County Airport, Norfolk International, Dallas-Fort Worth International Airport, Palm Springs International, Will Rogers World, San Diego International, Toledo Express, Minneapolis/ St.Paul International Airport, Denver International Airport, McCarran International, Houston - George Bush Intercontinental Airport, Cincinnati/Northern Kentucky International, Norman Y Mineta San Jose International, Bishop International; Flint, Richmond International, El Paso International Airport, Memphis International Airport, Lehigh Valley International Airport; Allentown, Southwest Florida International, Reno/Tahoe International, Honolulu International Airport, Washington Dulles International, Albuquerque International Sunport Airport, Portland International, Greater Rochester International, John Wayne, Austin-Bergstrom International Airport, General Mitchell International Airport, Portland International Jetport, Ft. Lauderdale-Hollywood International, Long Beach, Hilo International, Gulfport-Biloxi International, Bob Hope, Blue Grass ;Lexington, Jacksonville International, Tulsa International Airport, Missoula International, Tucson International, Buffalo Niagara International, Baton Rouge Metropolitan, Ontario International, New Orleans International, Daytona Beach International, Des Moines International, Greater Binghamton Airport, Chattanooga Metropolitan, Charleston International, Juneau International, Manchester Regional Airport, Indianapolis International, Spokane International, Eppley Airfield, Long Island McArthur; Islip, Mcghee Tyson ;Knoxville, Huntsville International Airport, Ft. Wayne Municipal- Baer Field, Harrisburg International, Easterwood/College Station; TX, Albany International, Bangor International Airport, ...]  \n",
       "5                                                                                                                                                                                                                                                                                                                                                                                                                                                                                                                                                                                                                                                                                                                                                                                                                                                                                                                                                                                                                                                                                                                                                        [Continental Airlines, nan, American Airlines, Delta (Song), Air Tran Airlines(do not use), USAir, Southwest Airlines, AirTran Airlines, Northwest Airlines, Delta Air Lines, America West, UAL, Virgin Atlantic, Jet Blue, Alaska Airlines, Aloha Airlines, Tran Meridian Airlines, Spirit Airlines, Frontier Airlines, American West, Air Canada, British Airways, America Trans Air, Aero Mexico, Hawaiian Airlines, Lufthansa, Horizon Air, Lan Airlines, Midwest Express Airlines, Qantus Airways, Frontier Aviation Inc, Korean Airlines, Air Jamaica, KLM Royal Dutch Airlines, Alitalia, Air France, Aer Lingus, Austrian Airlines, Japan Airlines, Sun Country Airlines Inc, Comair Inc, ATA Aerocondor, Tower Air, Singapore Airlines, Mexicana, Swiss Air, Aero Flot, Air 2000 Ltd Great Britain, Skywest Airlines Inc USA, Allegiant Air, TWA, American Eagle, Southeast Airlines, Cape Air, Air New Zealand, Air Phillipines, USA 3000 (U5), Iceland Air, Scandinavian Airlines Systems, China Airlines, Midway Airlines, Continental Express Inc, OMNI Air Express- (OY), Malaysian Airline System, Sun Jet International Airlines Inc, Britannia Airways Ltd, Northwest International Airways Ltd, Turkish Airlines, Air Pacific, Indian Airlines, Pan American Airways Corp., Thai Airways, Pakistan International Airlines Cor, All Nippon Airways, Sunworld International Airlines Inc, Pace Airlines, Western Pacific Airlines Inc Westpac, Virgin Express, Commercial Airways, China Eastern Airlines, Reno Air, Aloha Islandair Inc, Kuwait Airways, Mountain West, US Express, Cayman Airlines, LOT Polish Airlines, Wiggins Airways, British Midland Airways Ltd, Skywest Airlines Australia, Saudi Arabian Airlines, Royal Wings Airlines, South African Airways, Aeroflot Russian International, Canadian Airlines, EL AL Israeli Airlines, Kuwait Airlines, Egypt Air, Czech Airlines, Avianca, ...]  \n",
       "6                                                                                                                                                                                                                                                                                                                                                                                                                                                                                                                                                                                                                                                                                                                                                                                                                                                                                                                                                                                                                                                                                                                                                                                                                                                                                                                                                                                                                                                                                                                                                                                                                                                                                                                                                                                                                                                                                                                                                                                                                                                                                                                                                                                                                                                                                                                                                                                                                                                                                                                                                                                                                                                                                                                                                                                                                                                                                                         [Property Damage, Passenger Property Loss, nan, Personal Injury, Motor Vehicle, Passenger Theft, Employee Loss (MPCECA), Wrongful Death, Bus Terminal, Complaint, Compliment]  \n",
       "7                                                                                                                                                                                                                                                                                                                                                                                                                                                                                                                                                                                                                                                                                                                                                                                                                                                                                                                                                                                                                                                                                                                                                                                                                                                                                                                                                                                                                                                                                                                                                                                                                                                                                                                                                                                                                                                                                                                                                                                                                                                                                                                                                                                                                                                                                                                                                                                                                                                                                                                                                                                                                                                                                                                                                                                                                                                                                                                                                                                                                 [Checkpoint, Checked Baggage, Other, Motor Vehicle, nan, Bus Station]  \n",
       "8                                                                                                                                                                                                                                                                                                                                                                                                                                                                                                                                                                                                                                                                                                                                                                                                                                                                                                                                                                                                                                                                                                                       [Other, Luggage (all types including footlockers), Cell Phones, Baby , Professional Equipment, Clothing , Computer , Jewelry , Eyeglasses , Photographic Film, Stereo Items & Accessories, Currency, Cameras , nan, Cosmetics , Locks, PDA , DVD/CD Players, Musical Instruments , Fish/Game, Medicines, Alcoholic beverages, Automobile Parts, Watches , Tools , Handbags & Purses (leather or fabric), Dishes, Toys , Dental Equipment and Instruments, Books , Hearing Aids, Video Recordings (blank & commercial), Clocks , Audio , Medical Equipment & Insturments, Candles , Camping Equipment & Supplies, Bags , Sporting Equipment & Supplies (footballs, Lighting Supplies (globe domes, Paintings and Pictures (including frames, Lighters , Game Equipment (poker chips, House Keeping Items (mops, GPS , Binoculars, Brushes , Briefcases, Barber Supplies , Kitchen Utensils , Knick Knacks (bric, Bedding , Silverplate, MP3 Players, Firearms, Bicycles, Toys (game systems, Ceramics , Boxes , Video Recordings , Batteries , Electrical and Gas Appliances Minor , Razors (other than electric), Dolls , Lamps (including sun lamps), Tool Chests & Tool Boxes (not in a vehicle)_, Mirrors (including frames), Scissors, Drafting, Desk and Writing Equipment , Baskets , Taxidermy Items (mounted deer heads, Umbrellas, Flashlights, Lampshade, Office Furnishings, Sewing Machines (other than electric), Cards , Linens , Calculators , Tool Chests & Tool Boxes (not in a vehicle)_ , Pet Supplies (food/water dish, Musical Instruments (pianos, Outdoor Structures (fencing, Artificial flowers & Fruits, Camping Equipment & Supplies , Stationery, Posters , Telephones, Ladders, Decorations , Curtains, Wigs (including hairpieces) $250 or more, Microscopes & Telescopes , Compasses, Tools & Tool Boxes , Stuffed Animals, Furniture (including brass & cement furniture, Material (including yard goods and yarn), Rugs , ...]  \n",
       "9                                                                                                                                                                                                                                                                                                                                                                                                                                                                                                                                                                                                                                                                                                                                                                                                                                                                                                                                                                                                                                                                                                                                                                                                                                                                                                                                                                                                                                                                                                                                                                                                                                                                                                                                                                                                                                                                                                                                                                                                                                                                                                                                                          [350.00 , 100.00 , 278.88 , 50.00 , 84.79 , 459.01 , 106.52 , 75.00 , 2270.09 , 4457.29 , 79.95 , 43.49 , 16.71 , 450.00 , nan, 200.00 , 110000.00 , 68.00 , 600.00 , 160.00 , 380.00 , 354.93 , 21.44 , 40.00 , 275.00 , 30.00 , 1832.22 , 250.00 , 1200.00 , 678.00 , 428.21 , 176.59 , 1000.00 , 45.00 , 175.00 , 1500.00 , 213.00 , 249.00 , 85.00 , 750.00 , 150.00 , 300.00 , 299.98 , 250000.00 , 50000.00 , 26.00 , 20.00 , 65.00 , 199.00 , 379.90 , 128.05 , 27.45 , 5000.00 , 520.00 , 3250.04 , 2000.00 , 700.00 , 185.00 , 75.30 , 342.36 , 70.03 , 3080.69 , 210.00 , 109.99 , 58.17 , 60.00 , 499.00 , 95.00 , 382.99 , 289.00 , 25.00 , 225.00 , 400.00 , 169.00 , 337.83 , 10.00 , 2.50 , 120.00 , 260.00 , 1801.99 , 24.95 , 263.00 , 208.16 , 165.00 , 1777.00 , 492.00 , 598.00 , 7500.00 , 97.00 , 180.00 , 500.00 , 112.00 , 420.00 , 249.99 , 80.00 , 764.97 , 117.94 , 71.00 , 129.00 , 73.83 , ...]  \n",
       "10                                                                                                                                                                                                                                                                                                                                                                                                                                                                                                                                                                                                                                                                                                                                                                                                                                                                                                                                                                                                                                                                                                                                                                                                                                                                                                                                                                                                                                                                                                                                                                                                                                                                                                                                                                                                                                                                                                                                                                                                                                                                                                                                                                                                                                                                                                                                                                                                                                                                                                                                                                                                                                                                                                                                                                                                                                                                                                                                                                               [Approve in Full, Settle, Canceled, Deny, Insufficient, In Process, Closed as a contractor claim, nan]  \n",
       "11                                                                                                                                                                                                                                                                                                                                                                                                                                                                                                                                                                                                                                                                                                                                                                                                                                                                                                                                                                                                                                                                                                                                                                                                                                                                                                                                                                                                                                                                                                                                                                                                                                                                                                                                                                                                                                                                                                                                                                                                                                                                                                                                                                             [350.00 , 50.00 , 227.92 , 84.79 , 227.00 , 106.52 , 75.00 , nan, 79.95 , 43.49 , 17.00 , 0.00 , 337.40 , 149.08 , 301.69 , 21.00 , 275.00 , 30.00 , 40.00 , 678.00 , 207.99 , 171.99 , 801.90 , 53.38 , 74.55 , 225.00 , 210.00 , 26.00 , 20.00 , 65.00 , 364.07 , 457.80 , 3250.00 , 100.00 , 700.00 , 144.00 , 237.00 , 70.00 , 3080.69 , 58.00 , 60.00 , 499.00 , 95.00 , 382.99 , 231.00 , 600.00 , 25.00 , 293.84 , 234.70 , 1000.00 , 10.00 , 291.67 , 150.00 , 82.90 , 120.00 , 270.00 , 263.00 , 208.00 , 202.50 , 250.00 , 165.00 , 1777.00 , 492.00 , 35.00 , 112.00 , 420.00 , 200.00 , 162.00 , 80.00 , 726.74 , 71.00 , 450.00 , 197.00 , 74.00 , 280.00 , 52.50 , 1470.69 , 167.00 , 244.00 , 204.00 , 27.50 , 78.80 , 1760.00 , 500.00 , 2342.00 , 37.00 , 49.00 , 229.00 , 775.16 , 742.25 , 435.00 , 45.00 , 15.00 , 223.00 , 569.50 , 116.06 , 782.65 , 75.91 , 332.50 , 31.00 , ...]  \n",
       "12                                                                                                                                                                                                                                                                                                                                                                                                                                                                                                                                                                                                                                                                                                                                                                                                                                                                                                                                                                                                                                                                                                                                                                                                                                                                                                                                                                                                                                                                                                                                                                                                                                                                                                                                                                                                                                                                                                                                                                                                                                                                                                                                                                                                                                                                                                                                                                                                                                                                                                                                                                                                                                                                                                                                                                                                                                                                                                                                                                                                                                                 [Approve in Full, Settle, nan, Deny]  "
      ]
     },
     "execution_count": 23,
     "metadata": {},
     "output_type": "execute_result"
    }
   ],
   "source": [
    "pd.set_option('display.max_colwidth', None)\n",
    "cols =df.columns\n",
    "res = []\n",
    "\n",
    "for i in cols:\n",
    "    res.append([i,df[i].unique()])\n",
    "\n",
    "pd.DataFrame(res,columns=['Column Name','Unique Values'])"
   ]
  },
  {
   "cell_type": "markdown",
   "metadata": {},
   "source": [
    "Di tahap ini, format penulisan pada data sudah seragam pada setiap kolom nya sehingga bisa dilanjutkan dengan proses penangan tipe data dan data kosong."
   ]
  },
  {
   "cell_type": "markdown",
   "metadata": {},
   "source": [
    "## Convert Data Type"
   ]
  },
  {
   "cell_type": "markdown",
   "metadata": {},
   "source": [
    "Untuk kepentingan eksplorasi data, maka tipe data pada dataset perlu disesuaikan tipe informasi nya seperti menjadi tipe numerik atau tanggal, karena pada tahap ini semua kolom masih bertipe string/object. Kolom-kolom yang perlu dilakukan konversi tipe data adalah:\n",
    "\n",
    "- Date Received: string -> date\n",
    "- Incident Date: string -> date\n",
    "- Claim Amount: string -> numeric(float)\n",
    "- Close Amount: string -> numeric(float)"
   ]
  },
  {
   "cell_type": "code",
   "execution_count": 24,
   "metadata": {},
   "outputs": [
    {
     "name": "stdout",
     "output_type": "stream",
     "text": [
      "<class 'pandas.core.frame.DataFrame'>\n",
      "RangeIndex: 204258 entries, 0 to 204257\n",
      "Data columns (total 13 columns):\n",
      " #   Column         Non-Null Count   Dtype         \n",
      "---  ------         --------------   -----         \n",
      " 0   Claim Number   204258 non-null  object        \n",
      " 1   Date Received  203995 non-null  datetime64[ns]\n",
      " 2   Incident Date  202075 non-null  datetime64[ns]\n",
      " 3   Airport Code   195294 non-null  object        \n",
      " 4   Airport Name   195294 non-null  object        \n",
      " 5   Airline Name   165643 non-null  object        \n",
      " 6   Claim Type     196063 non-null  object        \n",
      " 7   Claim Site     203242 non-null  object        \n",
      " 8   Item           195874 non-null  object        \n",
      " 9   Claim Amount   187471 non-null  float64       \n",
      " 10  Status         191509 non-null  object        \n",
      " 11  Close Amount   135315 non-null  float64       \n",
      " 12  Disposition    131359 non-null  object        \n",
      "dtypes: datetime64[ns](2), float64(2), object(9)\n",
      "memory usage: 20.3+ MB\n"
     ]
    }
   ],
   "source": [
    "df1 = df.copy() #Menduplikasi dataset df ke dalam variabel baru\n",
    "df1['Date Received'] = pd.to_datetime(df1['Date Received'])\n",
    "df1['Incident Date'] = pd.to_datetime(df1['Incident Date'])\n",
    "df1['Claim Amount'] = pd.to_numeric(df1['Claim Amount'])\n",
    "df1['Close Amount'] = pd.to_numeric(df1['Close Amount'])\n",
    "\n",
    "df1.info()"
   ]
  },
  {
   "cell_type": "markdown",
   "metadata": {},
   "source": [
    "Setelah tipe data disesuaikan dengan konteks datanya, maka proses penghapusan dan pengisian data kosong dapat dilakukan"
   ]
  },
  {
   "cell_type": "markdown",
   "metadata": {},
   "source": [
    "## Menghapus baris dengan nilai kosong"
   ]
  },
  {
   "cell_type": "markdown",
   "metadata": {},
   "source": [
    "### Sebelum penghapusan baris dengan nilai kosong"
   ]
  },
  {
   "cell_type": "code",
   "execution_count": 25,
   "metadata": {},
   "outputs": [
    {
     "data": {
      "text/html": [
       "<div>\n",
       "<style scoped>\n",
       "    .dataframe tbody tr th:only-of-type {\n",
       "        vertical-align: middle;\n",
       "    }\n",
       "\n",
       "    .dataframe tbody tr th {\n",
       "        vertical-align: top;\n",
       "    }\n",
       "\n",
       "    .dataframe thead th {\n",
       "        text-align: right;\n",
       "    }\n",
       "</style>\n",
       "<table border=\"1\" class=\"dataframe\">\n",
       "  <thead>\n",
       "    <tr style=\"text-align: right;\">\n",
       "      <th></th>\n",
       "      <th>Banyak Null</th>\n",
       "      <th>Persentase Null</th>\n",
       "    </tr>\n",
       "  </thead>\n",
       "  <tbody>\n",
       "    <tr>\n",
       "      <th>Claim Number</th>\n",
       "      <td>0</td>\n",
       "      <td>0.000000</td>\n",
       "    </tr>\n",
       "    <tr>\n",
       "      <th>Date Received</th>\n",
       "      <td>263</td>\n",
       "      <td>0.128759</td>\n",
       "    </tr>\n",
       "    <tr>\n",
       "      <th>Incident Date</th>\n",
       "      <td>2183</td>\n",
       "      <td>1.068746</td>\n",
       "    </tr>\n",
       "    <tr>\n",
       "      <th>Airport Code</th>\n",
       "      <td>8964</td>\n",
       "      <td>4.388567</td>\n",
       "    </tr>\n",
       "    <tr>\n",
       "      <th>Airport Name</th>\n",
       "      <td>8964</td>\n",
       "      <td>4.388567</td>\n",
       "    </tr>\n",
       "    <tr>\n",
       "      <th>Airline Name</th>\n",
       "      <td>38615</td>\n",
       "      <td>18.905012</td>\n",
       "    </tr>\n",
       "    <tr>\n",
       "      <th>Claim Type</th>\n",
       "      <td>8195</td>\n",
       "      <td>4.012083</td>\n",
       "    </tr>\n",
       "    <tr>\n",
       "      <th>Claim Site</th>\n",
       "      <td>1016</td>\n",
       "      <td>0.497410</td>\n",
       "    </tr>\n",
       "    <tr>\n",
       "      <th>Item</th>\n",
       "      <td>8384</td>\n",
       "      <td>4.104613</td>\n",
       "    </tr>\n",
       "    <tr>\n",
       "      <th>Claim Amount</th>\n",
       "      <td>16787</td>\n",
       "      <td>8.218528</td>\n",
       "    </tr>\n",
       "    <tr>\n",
       "      <th>Status</th>\n",
       "      <td>12749</td>\n",
       "      <td>6.241616</td>\n",
       "    </tr>\n",
       "    <tr>\n",
       "      <th>Close Amount</th>\n",
       "      <td>68943</td>\n",
       "      <td>33.752901</td>\n",
       "    </tr>\n",
       "    <tr>\n",
       "      <th>Disposition</th>\n",
       "      <td>72899</td>\n",
       "      <td>35.689667</td>\n",
       "    </tr>\n",
       "  </tbody>\n",
       "</table>\n",
       "</div>"
      ],
      "text/plain": [
       "               Banyak Null  Persentase Null\n",
       "Claim Number             0         0.000000\n",
       "Date Received          263         0.128759\n",
       "Incident Date         2183         1.068746\n",
       "Airport Code          8964         4.388567\n",
       "Airport Name          8964         4.388567\n",
       "Airline Name         38615        18.905012\n",
       "Claim Type            8195         4.012083\n",
       "Claim Site            1016         0.497410\n",
       "Item                  8384         4.104613\n",
       "Claim Amount         16787         8.218528\n",
       "Status               12749         6.241616\n",
       "Close Amount         68943        33.752901\n",
       "Disposition          72899        35.689667"
      ]
     },
     "execution_count": 25,
     "metadata": {},
     "output_type": "execute_result"
    }
   ],
   "source": [
    "num = df1.isna().sum()\n",
    "res = pd.concat([num,num/len(df1)*100],axis=1,keys=['Banyak Null','Persentase Null'])\n",
    "res"
   ]
  },
  {
   "cell_type": "markdown",
   "metadata": {},
   "source": [
    "Besarnya persentase data kosong pada dataset, bahkan pada kolom jumlah nilai null nya mencapai lebih dari 30%, maka data dengan nilai null tidak dapat dihapus begitu saja karena ini akan menghilangkan banyak data. Oleh sebab itu, diperlukan perlakukan lain untuk tetap menjaga kuantitas data namun tetap tidak mengorbankan kualitas data. Perikut adalah langkah-langkah yang akan dilakukan:\n",
    "\n",
    "1. Menghapus data dengan kolom kosong lebih dari 6 dari 13 kolom yang ada\n",
    "2. Mengisi nilai null pada setiap kolom dengan nilai tertentu"
   ]
  },
  {
   "cell_type": "markdown",
   "metadata": {},
   "source": [
    "### 1. Menghapus baris dengan kolom kosong lebih dari 6"
   ]
  },
  {
   "cell_type": "markdown",
   "metadata": {},
   "source": [
    "Untuk menjaga kemurnian data, sebelum dilakukan pengisian nilai yang kosong, maka data yang memiliki data kosong pada lebih dari 6 kolom akan dihapus dari dataset, karena ini berarti 50% lebih informasi dari data telah hilang."
   ]
  },
  {
   "cell_type": "code",
   "execution_count": 26,
   "metadata": {},
   "outputs": [],
   "source": [
    "df1 = df1.dropna(thresh=7) #Drop rows that have column with missing value more than 7 columns\n",
    "df1 = df1.reset_index(drop=True) #Mengatur ulang indeks baris dan membuang kolom indeks baris yang lama"
   ]
  },
  {
   "cell_type": "markdown",
   "metadata": {},
   "source": [
    "Memeriksa data null yang tersisa"
   ]
  },
  {
   "cell_type": "code",
   "execution_count": 27,
   "metadata": {},
   "outputs": [
    {
     "data": {
      "text/html": [
       "<div>\n",
       "<style scoped>\n",
       "    .dataframe tbody tr th:only-of-type {\n",
       "        vertical-align: middle;\n",
       "    }\n",
       "\n",
       "    .dataframe tbody tr th {\n",
       "        vertical-align: top;\n",
       "    }\n",
       "\n",
       "    .dataframe thead th {\n",
       "        text-align: right;\n",
       "    }\n",
       "</style>\n",
       "<table border=\"1\" class=\"dataframe\">\n",
       "  <thead>\n",
       "    <tr style=\"text-align: right;\">\n",
       "      <th></th>\n",
       "      <th>Banyak Null</th>\n",
       "      <th>Persentase Null</th>\n",
       "    </tr>\n",
       "  </thead>\n",
       "  <tbody>\n",
       "    <tr>\n",
       "      <th>Claim Number</th>\n",
       "      <td>0</td>\n",
       "      <td>0.000000</td>\n",
       "    </tr>\n",
       "    <tr>\n",
       "      <th>Date Received</th>\n",
       "      <td>124</td>\n",
       "      <td>0.061175</td>\n",
       "    </tr>\n",
       "    <tr>\n",
       "      <th>Incident Date</th>\n",
       "      <td>1230</td>\n",
       "      <td>0.606820</td>\n",
       "    </tr>\n",
       "    <tr>\n",
       "      <th>Airport Code</th>\n",
       "      <td>7473</td>\n",
       "      <td>3.686802</td>\n",
       "    </tr>\n",
       "    <tr>\n",
       "      <th>Airport Name</th>\n",
       "      <td>7473</td>\n",
       "      <td>3.686802</td>\n",
       "    </tr>\n",
       "    <tr>\n",
       "      <th>Airline Name</th>\n",
       "      <td>37134</td>\n",
       "      <td>18.320046</td>\n",
       "    </tr>\n",
       "    <tr>\n",
       "      <th>Claim Type</th>\n",
       "      <td>7030</td>\n",
       "      <td>3.468248</td>\n",
       "    </tr>\n",
       "    <tr>\n",
       "      <th>Claim Site</th>\n",
       "      <td>578</td>\n",
       "      <td>0.285156</td>\n",
       "    </tr>\n",
       "    <tr>\n",
       "      <th>Item</th>\n",
       "      <td>7931</td>\n",
       "      <td>3.912756</td>\n",
       "    </tr>\n",
       "    <tr>\n",
       "      <th>Claim Amount</th>\n",
       "      <td>15336</td>\n",
       "      <td>7.566010</td>\n",
       "    </tr>\n",
       "    <tr>\n",
       "      <th>Status</th>\n",
       "      <td>12309</td>\n",
       "      <td>6.072641</td>\n",
       "    </tr>\n",
       "    <tr>\n",
       "      <th>Close Amount</th>\n",
       "      <td>67598</td>\n",
       "      <td>33.349449</td>\n",
       "    </tr>\n",
       "    <tr>\n",
       "      <th>Disposition</th>\n",
       "      <td>71361</td>\n",
       "      <td>35.205924</td>\n",
       "    </tr>\n",
       "  </tbody>\n",
       "</table>\n",
       "</div>"
      ],
      "text/plain": [
       "               Banyak Null  Persentase Null\n",
       "Claim Number             0         0.000000\n",
       "Date Received          124         0.061175\n",
       "Incident Date         1230         0.606820\n",
       "Airport Code          7473         3.686802\n",
       "Airport Name          7473         3.686802\n",
       "Airline Name         37134        18.320046\n",
       "Claim Type            7030         3.468248\n",
       "Claim Site             578         0.285156\n",
       "Item                  7931         3.912756\n",
       "Claim Amount         15336         7.566010\n",
       "Status               12309         6.072641\n",
       "Close Amount         67598        33.349449\n",
       "Disposition          71361        35.205924"
      ]
     },
     "execution_count": 27,
     "metadata": {},
     "output_type": "execute_result"
    }
   ],
   "source": [
    "# Memeriksa banyak nilai null dan persentasenya di dalam dataset\n",
    "num = df1.isna().sum()\n",
    "res = pd.concat([num,num/len(df1)*100],axis=1,keys=['Banyak Null','Persentase Null'])\n",
    "res"
   ]
  },
  {
   "cell_type": "markdown",
   "metadata": {},
   "source": [
    "### 2. Filling the missing values"
   ]
  },
  {
   "cell_type": "markdown",
   "metadata": {},
   "source": [
    "Ada tiga pendekatan yang digunakan dalam melakukan pengisian data kosong. Urutan pendekatan ini menunjukkan prioritas perlakukan yang akan diberikan sehingga apabila pendekatan pertama tidak dapat diterapkan pada suatu kolom, maka akan digunakan pendekatan kedua terlebih dahulu sebelum akhirnya digunakan pendekatan ketiga.\n",
    "\n",
    "1. Mengisi data dengan menggunakan informasi dari kolom lain yang terkait\n",
    "2. Mengisi data dengan nilai dari pusat pengukuran data (measure of central tendency)\n",
    "3. Mengisi data kosong dengan nilai baru yang menandakan bahwa data pada sel tersebut kosong, dalam analisis ini digunakan **Unknown** untuk data bertipe kategorikal dan **0** untuk data numerik\n"
   ]
  },
  {
   "cell_type": "code",
   "execution_count": 28,
   "metadata": {},
   "outputs": [
    {
     "data": {
      "image/png": "[encoded data removed]",
      "text/plain": [
       "<Figure size 720x720 with 2 Axes>"
      ]
     },
     "metadata": {
      "needs_background": "light"
     },
     "output_type": "display_data"
    }
   ],
   "source": [
    "# Sebaran missing value di dalam data\n",
    "plt.figure(figsize=(10,10))\n",
    "sns.heatmap(df1.isna(),cmap='YlGnBu_r')\n",
    "plt.show()"
   ]
  },
  {
   "cell_type": "markdown",
   "metadata": {},
   "source": [
    "Dari heatmap ini keterkaitan pada sebaran data kosong antar-kolom dapat terlihat, seperti:\n",
    "\n",
    " - Kekosongan pada kolom 'Airport Code' dan 'Airport Name' saling terkait\n",
    " - Pada data dengan indeks >140,000 semua data pada kolom 'Close Amount' dan 'Disposition' hilang, namun pada ada sebagian data di 'Claim Amount' dan 'Status' terisi"
   ]
  },
  {
   "cell_type": "markdown",
   "metadata": {},
   "source": [
    "#### 2.1 Kolom 'Incident Date' dan 'Date Received'"
   ]
  },
  {
   "cell_type": "markdown",
   "metadata": {},
   "source": [
    "Karena persentase data kosong pada kedua kolom ini tidak terlalu banyak (kurang dari 1%) dan secara konteks kedua kolom ini saling terkait, maka data kosong pada kolom 'Date Received' dapat diisi dengan data pada kolom 'Date Incident', begitu pun sebaliknya."
   ]
  },
  {
   "cell_type": "code",
   "execution_count": 29,
   "metadata": {},
   "outputs": [],
   "source": [
    "df1['Date Received'].fillna(df1['Incident Date'],inplace=True) #Fill missing value in 'Date Received' column with value in 'Incident Date'"
   ]
  },
  {
   "cell_type": "code",
   "execution_count": 30,
   "metadata": {},
   "outputs": [],
   "source": [
    "df1['Incident Date'].fillna(df1['Date Received'],inplace=True) #Fill missing value in 'Incident Date' column with value in 'Date Received'"
   ]
  },
  {
   "cell_type": "code",
   "execution_count": 31,
   "metadata": {},
   "outputs": [
    {
     "name": "stdout",
     "output_type": "stream",
     "text": [
      "<class 'pandas.core.frame.DataFrame'>\n",
      "RangeIndex: 202696 entries, 0 to 202695\n",
      "Data columns (total 13 columns):\n",
      " #   Column         Non-Null Count   Dtype         \n",
      "---  ------         --------------   -----         \n",
      " 0   Claim Number   202696 non-null  object        \n",
      " 1   Date Received  202693 non-null  datetime64[ns]\n",
      " 2   Incident Date  202693 non-null  datetime64[ns]\n",
      " 3   Airport Code   195223 non-null  object        \n",
      " 4   Airport Name   195223 non-null  object        \n",
      " 5   Airline Name   165562 non-null  object        \n",
      " 6   Claim Type     195666 non-null  object        \n",
      " 7   Claim Site     202118 non-null  object        \n",
      " 8   Item           194765 non-null  object        \n",
      " 9   Claim Amount   187360 non-null  float64       \n",
      " 10  Status         190387 non-null  object        \n",
      " 11  Close Amount   135098 non-null  float64       \n",
      " 12  Disposition    131335 non-null  object        \n",
      "dtypes: datetime64[ns](2), float64(2), object(9)\n",
      "memory usage: 20.1+ MB\n"
     ]
    }
   ],
   "source": [
    "df1.info()"
   ]
  },
  {
   "cell_type": "markdown",
   "metadata": {},
   "source": [
    "#### 2.2 Kolom 'Airport Code' dan 'Airport Name'"
   ]
  },
  {
   "cell_type": "markdown",
   "metadata": {},
   "source": [
    "Kedua kolom ini saling tekait sehingga dapat diisi secara bersamaan dengan mengisikan nilai 'Unknown' untuk menandakan bahwa pada data hilang sehingga tidak diketahui informasinya."
   ]
  },
  {
   "cell_type": "code",
   "execution_count": 32,
   "metadata": {},
   "outputs": [],
   "source": [
    "df1['Airport Code'].fillna('Unknown',inplace=True)\n",
    "df1['Airport Name'].fillna('Unknown',inplace=True)"
   ]
  },
  {
   "cell_type": "markdown",
   "metadata": {},
   "source": [
    "#### 2.3 Kolom 'Airline Name'"
   ]
  },
  {
   "cell_type": "markdown",
   "metadata": {},
   "source": [
    "Ada 18% data yang hilang pada kolom 'Airline Name', namun dari pemeriksaan didapatkan bahwa kolom ini dapat diisi dengan data 'Airline Name' dari baris lain yang memiliki nilai 'Incident Date' dan 'Airport Code' yang sama."
   ]
  },
  {
   "cell_type": "code",
   "execution_count": 33,
   "metadata": {},
   "outputs": [],
   "source": [
    "#Mengisi baris kosong pada 'Airplane Name' dengan data yang memiliki 'Incident Date' dan 'Airport Code' yang sama\n",
    "\n",
    "df1['Airline Name'] = df1.groupby(['Incident Date','Airport Code'])['Airline Name'].bfill().ffill()"
   ]
  },
  {
   "cell_type": "markdown",
   "metadata": {},
   "source": [
    "#### 2.4 Kolom 'Claim Type','Claim Site', dan 'Item'"
   ]
  },
  {
   "cell_type": "markdown",
   "metadata": {},
   "source": [
    "Kekosongan data pada tiga kolom ini diisi dengan 'Unknown' untuk menandakan bahwa informasi pada baris ini hilang dan tidak diketahui"
   ]
  },
  {
   "cell_type": "code",
   "execution_count": 34,
   "metadata": {},
   "outputs": [],
   "source": [
    "df1['Claim Type'].fillna('Unknown',inplace=True)\n",
    "df1['Claim Site'].fillna('Unknown',inplace=True)\n",
    "df1['Item'].fillna('Unknown',inplace=True)"
   ]
  },
  {
   "cell_type": "markdown",
   "metadata": {},
   "source": [
    "#### 2.5 Kolom 'Claim Amount'"
   ]
  },
  {
   "cell_type": "markdown",
   "metadata": {},
   "source": [
    "Secara kontekstual kolom 'Claim Amount' ini berkaitan dengan 'Close Amount', dengan asumsi bahwa apabila data pada baris ini memiliki status 'Approve in Full' atau 'Settled' maka nilai 'Claim Amount' adalah tidak akan lebih besar dari nilai 'Close Amount' nya sendiri sehingga data kosong 'Claim Amount' dapat diisi dengan nilai dari 'Close Amount'."
   ]
  },
  {
   "cell_type": "code",
   "execution_count": 35,
   "metadata": {},
   "outputs": [],
   "source": [
    "df1['Claim Amount'] = np.where((df1['Claim Amount'].isna()==True) & ((df1['Status'] == 'Approve in Full') | (df1['Status'] == 'Settle')),df1['Close Amount'],df1['Claim Amount'])"
   ]
  },
  {
   "cell_type": "markdown",
   "metadata": {},
   "source": [
    "Sedangkan kolom 'Claim Amount' yang masih kosong dan berstatus selain 'Approve in Full' dan 'Settle' akan diisi dengan nilai median 'Claim Amount'."
   ]
  },
  {
   "cell_type": "code",
   "execution_count": 36,
   "metadata": {},
   "outputs": [],
   "source": [
    "df1['Claim Amount'].fillna(df1['Claim Amount'].median(),inplace=True)"
   ]
  },
  {
   "cell_type": "markdown",
   "metadata": {},
   "source": [
    "#### 2.6 Kolom 'Status'"
   ]
  },
  {
   "cell_type": "markdown",
   "metadata": {},
   "source": [
    "Secara konsep, kolom status dan disposition ini saling terkait, namun pada baris dengan kolom 'Status' kosong, kolom 'Disposition' juga kosong sehingga data akan diisi dengan 'Unknown' untuk menandakan bahwa data hilang."
   ]
  },
  {
   "cell_type": "code",
   "execution_count": 37,
   "metadata": {},
   "outputs": [],
   "source": [
    "df1['Status'].fillna('Unknown',inplace=True)"
   ]
  },
  {
   "cell_type": "markdown",
   "metadata": {},
   "source": [
    "#### 2.7 Kolom 'Close Amount'"
   ]
  },
  {
   "cell_type": "markdown",
   "metadata": {},
   "source": [
    "Data kosong pada kolom 'Close Amount' yang memiliki status 'Approve in Full' akan diisi dengan data dari 'Claim Amount' sedangkan yang statusnya 'Settle' akan diisi dengan nilai median 'Close Amount'"
   ]
  },
  {
   "cell_type": "code",
   "execution_count": 38,
   "metadata": {},
   "outputs": [],
   "source": [
    "df1['Close Amount'] = np.where((df1['Close Amount'].isna()==True) & (df1['Status'] == 'Approve in Full'),df1['Claim Amount'],df1['Close Amount'])\n",
    "df1['Close Amount'] = np.where((df1['Close Amount'].isna()==True) & (df1['Status'] == 'Settle'),df1['Close Amount'].median(),df1['Close Amount'])"
   ]
  },
  {
   "cell_type": "markdown",
   "metadata": {},
   "source": [
    "Sementara kolom 'Close Amount' yang masih kosong dan berstatus selain 'Approve in Full' dan 'Settle' akan diisi dengan 0, dengan asumsi bahwa pengajuan klaim tidak disetujui."
   ]
  },
  {
   "cell_type": "code",
   "execution_count": 39,
   "metadata": {},
   "outputs": [],
   "source": [
    "df1['Close Amount'].fillna(0,inplace=True)"
   ]
  },
  {
   "cell_type": "markdown",
   "metadata": {},
   "source": [
    "#### 2.8 Kolom 'Disposition'"
   ]
  },
  {
   "cell_type": "markdown",
   "metadata": {},
   "source": [
    "Data kosong pada kolom disposition diisi dengan data dari kolom 'Status'"
   ]
  },
  {
   "cell_type": "code",
   "execution_count": 40,
   "metadata": {},
   "outputs": [],
   "source": [
    "df1['Disposition'].fillna(df1['Status'],inplace=True)"
   ]
  },
  {
   "cell_type": "markdown",
   "metadata": {},
   "source": [
    "#### Memeriksa banyak nilai null yang tersisa"
   ]
  },
  {
   "cell_type": "code",
   "execution_count": 41,
   "metadata": {},
   "outputs": [
    {
     "data": {
      "text/html": [
       "<div>\n",
       "<style scoped>\n",
       "    .dataframe tbody tr th:only-of-type {\n",
       "        vertical-align: middle;\n",
       "    }\n",
       "\n",
       "    .dataframe tbody tr th {\n",
       "        vertical-align: top;\n",
       "    }\n",
       "\n",
       "    .dataframe thead th {\n",
       "        text-align: right;\n",
       "    }\n",
       "</style>\n",
       "<table border=\"1\" class=\"dataframe\">\n",
       "  <thead>\n",
       "    <tr style=\"text-align: right;\">\n",
       "      <th></th>\n",
       "      <th>Banyak Null</th>\n",
       "      <th>Persentase Null</th>\n",
       "    </tr>\n",
       "  </thead>\n",
       "  <tbody>\n",
       "    <tr>\n",
       "      <th>Claim Number</th>\n",
       "      <td>0</td>\n",
       "      <td>0.00000</td>\n",
       "    </tr>\n",
       "    <tr>\n",
       "      <th>Date Received</th>\n",
       "      <td>3</td>\n",
       "      <td>0.00148</td>\n",
       "    </tr>\n",
       "    <tr>\n",
       "      <th>Incident Date</th>\n",
       "      <td>3</td>\n",
       "      <td>0.00148</td>\n",
       "    </tr>\n",
       "    <tr>\n",
       "      <th>Airport Code</th>\n",
       "      <td>0</td>\n",
       "      <td>0.00000</td>\n",
       "    </tr>\n",
       "    <tr>\n",
       "      <th>Airport Name</th>\n",
       "      <td>0</td>\n",
       "      <td>0.00000</td>\n",
       "    </tr>\n",
       "    <tr>\n",
       "      <th>Airline Name</th>\n",
       "      <td>0</td>\n",
       "      <td>0.00000</td>\n",
       "    </tr>\n",
       "    <tr>\n",
       "      <th>Claim Type</th>\n",
       "      <td>0</td>\n",
       "      <td>0.00000</td>\n",
       "    </tr>\n",
       "    <tr>\n",
       "      <th>Claim Site</th>\n",
       "      <td>0</td>\n",
       "      <td>0.00000</td>\n",
       "    </tr>\n",
       "    <tr>\n",
       "      <th>Item</th>\n",
       "      <td>0</td>\n",
       "      <td>0.00000</td>\n",
       "    </tr>\n",
       "    <tr>\n",
       "      <th>Claim Amount</th>\n",
       "      <td>0</td>\n",
       "      <td>0.00000</td>\n",
       "    </tr>\n",
       "    <tr>\n",
       "      <th>Status</th>\n",
       "      <td>0</td>\n",
       "      <td>0.00000</td>\n",
       "    </tr>\n",
       "    <tr>\n",
       "      <th>Close Amount</th>\n",
       "      <td>0</td>\n",
       "      <td>0.00000</td>\n",
       "    </tr>\n",
       "    <tr>\n",
       "      <th>Disposition</th>\n",
       "      <td>0</td>\n",
       "      <td>0.00000</td>\n",
       "    </tr>\n",
       "  </tbody>\n",
       "</table>\n",
       "</div>"
      ],
      "text/plain": [
       "               Banyak Null  Persentase Null\n",
       "Claim Number             0          0.00000\n",
       "Date Received            3          0.00148\n",
       "Incident Date            3          0.00148\n",
       "Airport Code             0          0.00000\n",
       "Airport Name             0          0.00000\n",
       "Airline Name             0          0.00000\n",
       "Claim Type               0          0.00000\n",
       "Claim Site               0          0.00000\n",
       "Item                     0          0.00000\n",
       "Claim Amount             0          0.00000\n",
       "Status                   0          0.00000\n",
       "Close Amount             0          0.00000\n",
       "Disposition              0          0.00000"
      ]
     },
     "execution_count": 41,
     "metadata": {},
     "output_type": "execute_result"
    }
   ],
   "source": [
    "# Memeriksa banyak nilai null dan persentasenya di dalam dataset\n",
    "num = df1.isna().sum()\n",
    "res = pd.concat([num,num/len(df1)*100],axis=1,keys=['Banyak Null','Persentase Null'])\n",
    "res"
   ]
  },
  {
   "cell_type": "markdown",
   "metadata": {},
   "source": [
    "Setelah serangkaian proses penangan data kosong pada dataset, masih tersisa 3 data kosong pada kolom 'Date Received' dan 'Incident Date' yang dapat dikeluarkan saja dari dataset."
   ]
  },
  {
   "cell_type": "code",
   "execution_count": 42,
   "metadata": {},
   "outputs": [
    {
     "data": {
      "text/html": [
       "<div>\n",
       "<style scoped>\n",
       "    .dataframe tbody tr th:only-of-type {\n",
       "        vertical-align: middle;\n",
       "    }\n",
       "\n",
       "    .dataframe tbody tr th {\n",
       "        vertical-align: top;\n",
       "    }\n",
       "\n",
       "    .dataframe thead th {\n",
       "        text-align: right;\n",
       "    }\n",
       "</style>\n",
       "<table border=\"1\" class=\"dataframe\">\n",
       "  <thead>\n",
       "    <tr style=\"text-align: right;\">\n",
       "      <th></th>\n",
       "      <th>Banyak Null</th>\n",
       "      <th>Persentase Null</th>\n",
       "    </tr>\n",
       "  </thead>\n",
       "  <tbody>\n",
       "    <tr>\n",
       "      <th>Claim Number</th>\n",
       "      <td>0</td>\n",
       "      <td>0.0</td>\n",
       "    </tr>\n",
       "    <tr>\n",
       "      <th>Date Received</th>\n",
       "      <td>0</td>\n",
       "      <td>0.0</td>\n",
       "    </tr>\n",
       "    <tr>\n",
       "      <th>Incident Date</th>\n",
       "      <td>0</td>\n",
       "      <td>0.0</td>\n",
       "    </tr>\n",
       "    <tr>\n",
       "      <th>Airport Code</th>\n",
       "      <td>0</td>\n",
       "      <td>0.0</td>\n",
       "    </tr>\n",
       "    <tr>\n",
       "      <th>Airport Name</th>\n",
       "      <td>0</td>\n",
       "      <td>0.0</td>\n",
       "    </tr>\n",
       "    <tr>\n",
       "      <th>Airline Name</th>\n",
       "      <td>0</td>\n",
       "      <td>0.0</td>\n",
       "    </tr>\n",
       "    <tr>\n",
       "      <th>Claim Type</th>\n",
       "      <td>0</td>\n",
       "      <td>0.0</td>\n",
       "    </tr>\n",
       "    <tr>\n",
       "      <th>Claim Site</th>\n",
       "      <td>0</td>\n",
       "      <td>0.0</td>\n",
       "    </tr>\n",
       "    <tr>\n",
       "      <th>Item</th>\n",
       "      <td>0</td>\n",
       "      <td>0.0</td>\n",
       "    </tr>\n",
       "    <tr>\n",
       "      <th>Claim Amount</th>\n",
       "      <td>0</td>\n",
       "      <td>0.0</td>\n",
       "    </tr>\n",
       "    <tr>\n",
       "      <th>Status</th>\n",
       "      <td>0</td>\n",
       "      <td>0.0</td>\n",
       "    </tr>\n",
       "    <tr>\n",
       "      <th>Close Amount</th>\n",
       "      <td>0</td>\n",
       "      <td>0.0</td>\n",
       "    </tr>\n",
       "    <tr>\n",
       "      <th>Disposition</th>\n",
       "      <td>0</td>\n",
       "      <td>0.0</td>\n",
       "    </tr>\n",
       "  </tbody>\n",
       "</table>\n",
       "</div>"
      ],
      "text/plain": [
       "               Banyak Null  Persentase Null\n",
       "Claim Number             0              0.0\n",
       "Date Received            0              0.0\n",
       "Incident Date            0              0.0\n",
       "Airport Code             0              0.0\n",
       "Airport Name             0              0.0\n",
       "Airline Name             0              0.0\n",
       "Claim Type               0              0.0\n",
       "Claim Site               0              0.0\n",
       "Item                     0              0.0\n",
       "Claim Amount             0              0.0\n",
       "Status                   0              0.0\n",
       "Close Amount             0              0.0\n",
       "Disposition              0              0.0"
      ]
     },
     "execution_count": 42,
     "metadata": {},
     "output_type": "execute_result"
    }
   ],
   "source": [
    "df1.dropna(inplace=True) #Membuang baris dengan data yang masih kosong\n",
    "\n",
    "# Memeriksa banyak nilai null dan persentasenya di dalam dataset\n",
    "num = df1.isna().sum()\n",
    "res = pd.concat([num,num/len(df1)*100],axis=1,keys=['Banyak Null','Persentase Null'])\n",
    "res"
   ]
  },
  {
   "cell_type": "markdown",
   "metadata": {},
   "source": [
    "Sekarang sudah tidak ada data kosong di dalam dataset dan analisis data sudah dapat dilakukan."
   ]
  },
  {
   "cell_type": "markdown",
   "metadata": {},
   "source": [
    "# Exploratory Data Analysis"
   ]
  },
  {
   "cell_type": "code",
   "execution_count": 43,
   "metadata": {},
   "outputs": [
    {
     "name": "stdout",
     "output_type": "stream",
     "text": [
      "<class 'pandas.core.frame.DataFrame'>\n",
      "Int64Index: 202693 entries, 0 to 202695\n",
      "Data columns (total 13 columns):\n",
      " #   Column         Non-Null Count   Dtype         \n",
      "---  ------         --------------   -----         \n",
      " 0   Claim Number   202693 non-null  object        \n",
      " 1   Date Received  202693 non-null  datetime64[ns]\n",
      " 2   Incident Date  202693 non-null  datetime64[ns]\n",
      " 3   Airport Code   202693 non-null  object        \n",
      " 4   Airport Name   202693 non-null  object        \n",
      " 5   Airline Name   202693 non-null  object        \n",
      " 6   Claim Type     202693 non-null  object        \n",
      " 7   Claim Site     202693 non-null  object        \n",
      " 8   Item           202693 non-null  object        \n",
      " 9   Claim Amount   202693 non-null  float64       \n",
      " 10  Status         202693 non-null  object        \n",
      " 11  Close Amount   202693 non-null  float64       \n",
      " 12  Disposition    202693 non-null  object        \n",
      "dtypes: datetime64[ns](2), float64(2), object(9)\n",
      "memory usage: 21.6+ MB\n"
     ]
    }
   ],
   "source": [
    "df1.info()"
   ]
  },
  {
   "cell_type": "markdown",
   "metadata": {},
   "source": [
    "Data yang telah bersih kini sudah dapat digunakan untuk analisis, untuk menjawab pertanyaan-pertanyaan berikut:\n",
    "\n",
    "1. Bandara dan maskapai manakah yang paling banyak menerima klaim dan bagaimana penyelesaiannya?\n",
    "2. Barang apa dan dimana sajakah penumpang mengajukan klaim?\n",
    "3. Berapa valuasi klaim di bandara sejak tahun 2002 hingga 2015 dan bagaimana perkembangannya?\n",
    "4. Apa rekomendasi yang dapat diberikan untuk mengurangi frekuensi dan valuasi klaim?\n",
    "\n",
    "\n",
    "Dengan demikian, fitur-fitur dan target yang akan digunakan dalam analisis ini adalah:\n",
    "\n",
    "- Fitur:\n",
    "    - Incident Date\n",
    "    - Airport Code\n",
    "    - Airline Name\n",
    "    - Claim Type\n",
    "    - Claim Site\n",
    "    - Item\n",
    "    - Claim Amount\n",
    "    - Disposition\n",
    "- Target:\n",
    "    - Close Amount"
   ]
  },
  {
   "cell_type": "markdown",
   "metadata": {},
   "source": [
    "## Mengambil kolom-kolom yang akan digunakan untuk analisis"
   ]
  },
  {
   "cell_type": "code",
   "execution_count": 44,
   "metadata": {},
   "outputs": [],
   "source": [
    "data = df1[['Claim Number','Incident Date', 'Airport Code','Airline Name', 'Claim Type', 'Claim Site', 'Item','Claim Amount','Disposition','Close Amount']]"
   ]
  },
  {
   "cell_type": "markdown",
   "metadata": {},
   "source": [
    "Selain ini, ada fitur lain yang perlu dipersiapkan dengan mengekstraksi data, yaitu membuat kolom 'Year' dari kolom 'Incident Date'"
   ]
  },
  {
   "cell_type": "markdown",
   "metadata": {},
   "source": [
    "## Feature Extraction"
   ]
  },
  {
   "cell_type": "code",
   "execution_count": 45,
   "metadata": {},
   "outputs": [],
   "source": [
    "data['Year'] = data['Incident Date'].dt.year"
   ]
  },
  {
   "cell_type": "code",
   "execution_count": 46,
   "metadata": {},
   "outputs": [
    {
     "data": {
      "text/html": [
       "<div>\n",
       "<style scoped>\n",
       "    .dataframe tbody tr th:only-of-type {\n",
       "        vertical-align: middle;\n",
       "    }\n",
       "\n",
       "    .dataframe tbody tr th {\n",
       "        vertical-align: top;\n",
       "    }\n",
       "\n",
       "    .dataframe thead th {\n",
       "        text-align: right;\n",
       "    }\n",
       "</style>\n",
       "<table border=\"1\" class=\"dataframe\">\n",
       "  <thead>\n",
       "    <tr style=\"text-align: right;\">\n",
       "      <th></th>\n",
       "      <th>Claim Number</th>\n",
       "      <th>Incident Date</th>\n",
       "      <th>Airport Code</th>\n",
       "      <th>Airline Name</th>\n",
       "      <th>Claim Type</th>\n",
       "      <th>Claim Site</th>\n",
       "      <th>Item</th>\n",
       "      <th>Claim Amount</th>\n",
       "      <th>Disposition</th>\n",
       "      <th>Close Amount</th>\n",
       "      <th>Year</th>\n",
       "    </tr>\n",
       "  </thead>\n",
       "  <tbody>\n",
       "    <tr>\n",
       "      <th>0</th>\n",
       "      <td>0909802M</td>\n",
       "      <td>2002-12-12</td>\n",
       "      <td>EWR</td>\n",
       "      <td>Continental Airlines</td>\n",
       "      <td>Property Damage</td>\n",
       "      <td>Checkpoint</td>\n",
       "      <td>Other</td>\n",
       "      <td>350.00</td>\n",
       "      <td>Approve in Full</td>\n",
       "      <td>350.00</td>\n",
       "      <td>2002</td>\n",
       "    </tr>\n",
       "    <tr>\n",
       "      <th>1</th>\n",
       "      <td>0202417M</td>\n",
       "      <td>2004-01-16</td>\n",
       "      <td>SEA</td>\n",
       "      <td>American Airlines</td>\n",
       "      <td>Property Damage</td>\n",
       "      <td>Checked Baggage</td>\n",
       "      <td>Luggage (all types including footlockers)</td>\n",
       "      <td>100.00</td>\n",
       "      <td>Settle</td>\n",
       "      <td>50.00</td>\n",
       "      <td>2004</td>\n",
       "    </tr>\n",
       "    <tr>\n",
       "      <th>2</th>\n",
       "      <td>0202445M</td>\n",
       "      <td>2003-11-26</td>\n",
       "      <td>STL</td>\n",
       "      <td>American Airlines</td>\n",
       "      <td>Property Damage</td>\n",
       "      <td>Checked Baggage</td>\n",
       "      <td>Cell Phones</td>\n",
       "      <td>278.88</td>\n",
       "      <td>Settle</td>\n",
       "      <td>227.92</td>\n",
       "      <td>2003</td>\n",
       "    </tr>\n",
       "    <tr>\n",
       "      <th>3</th>\n",
       "      <td>0909816M</td>\n",
       "      <td>2003-06-01</td>\n",
       "      <td>MIA</td>\n",
       "      <td>American Airlines</td>\n",
       "      <td>Property Damage</td>\n",
       "      <td>Checkpoint</td>\n",
       "      <td>Luggage (all types including footlockers)</td>\n",
       "      <td>50.00</td>\n",
       "      <td>Approve in Full</td>\n",
       "      <td>50.00</td>\n",
       "      <td>2003</td>\n",
       "    </tr>\n",
       "    <tr>\n",
       "      <th>4</th>\n",
       "      <td>2005032379513</td>\n",
       "      <td>2005-05-02</td>\n",
       "      <td>MCO</td>\n",
       "      <td>Delta (Song)</td>\n",
       "      <td>Property Damage</td>\n",
       "      <td>Checkpoint</td>\n",
       "      <td>Baby</td>\n",
       "      <td>84.79</td>\n",
       "      <td>Approve in Full</td>\n",
       "      <td>84.79</td>\n",
       "      <td>2005</td>\n",
       "    </tr>\n",
       "  </tbody>\n",
       "</table>\n",
       "</div>"
      ],
      "text/plain": [
       "    Claim Number Incident Date Airport Code          Airline Name  \\\n",
       "0       0909802M    2002-12-12          EWR  Continental Airlines   \n",
       "1       0202417M    2004-01-16          SEA     American Airlines   \n",
       "2       0202445M    2003-11-26          STL     American Airlines   \n",
       "3       0909816M    2003-06-01          MIA     American Airlines   \n",
       "4  2005032379513    2005-05-02          MCO          Delta (Song)   \n",
       "\n",
       "        Claim Type       Claim Site  \\\n",
       "0  Property Damage       Checkpoint   \n",
       "1  Property Damage  Checked Baggage   \n",
       "2  Property Damage  Checked Baggage   \n",
       "3  Property Damage       Checkpoint   \n",
       "4  Property Damage       Checkpoint   \n",
       "\n",
       "                                        Item  Claim Amount      Disposition  \\\n",
       "0                                      Other        350.00  Approve in Full   \n",
       "1  Luggage (all types including footlockers)        100.00           Settle   \n",
       "2                                Cell Phones        278.88           Settle   \n",
       "3  Luggage (all types including footlockers)         50.00  Approve in Full   \n",
       "4                                      Baby          84.79  Approve in Full   \n",
       "\n",
       "   Close Amount  Year  \n",
       "0        350.00  2002  \n",
       "1         50.00  2004  \n",
       "2        227.92  2003  \n",
       "3         50.00  2003  \n",
       "4         84.79  2005  "
      ]
     },
     "execution_count": 46,
     "metadata": {},
     "output_type": "execute_result"
    }
   ],
   "source": [
    "data.head()"
   ]
  },
  {
   "cell_type": "code",
   "execution_count": 47,
   "metadata": {},
   "outputs": [
    {
     "data": {
      "text/plain": [
       "2004    29140\n",
       "2003    25215\n",
       "2005    23114\n",
       "2006    18862\n",
       "2007    18363\n",
       "2008    15927\n",
       "2010    12140\n",
       "2009    11187\n",
       "2011    10917\n",
       "2012     9899\n",
       "2013     9444\n",
       "2014     8624\n",
       "2015     7663\n",
       "2002     2168\n",
       "2001       15\n",
       "2000       14\n",
       "1996        1\n",
       "Name: Year, dtype: int64"
      ]
     },
     "execution_count": 47,
     "metadata": {},
     "output_type": "execute_result"
    }
   ],
   "source": [
    "data['Year'].value_counts()"
   ]
  },
  {
   "cell_type": "markdown",
   "metadata": {},
   "source": [
    "Di dalam dataset masih terdapat data untuk tahun yang berada di luar pengamatan, yaitu tahun 1996, 2000, dan 2001 sehingga data untuk ketiga tahun ini akan dikeluarkan dari dataset."
   ]
  },
  {
   "cell_type": "code",
   "execution_count": 48,
   "metadata": {},
   "outputs": [],
   "source": [
    "data = data[data['Year']>2001]"
   ]
  },
  {
   "cell_type": "code",
   "execution_count": 49,
   "metadata": {},
   "outputs": [
    {
     "data": {
      "text/plain": [
       "2004    29140\n",
       "2003    25215\n",
       "2005    23114\n",
       "2006    18862\n",
       "2007    18363\n",
       "2008    15927\n",
       "2010    12140\n",
       "2009    11187\n",
       "2011    10917\n",
       "2012     9899\n",
       "2013     9444\n",
       "2014     8624\n",
       "2015     7663\n",
       "2002     2168\n",
       "Name: Year, dtype: int64"
      ]
     },
     "execution_count": 49,
     "metadata": {},
     "output_type": "execute_result"
    }
   ],
   "source": [
    "data['Year'].value_counts()"
   ]
  },
  {
   "cell_type": "markdown",
   "metadata": {},
   "source": [
    "## Deskripsi Analisis"
   ]
  },
  {
   "cell_type": "markdown",
   "metadata": {},
   "source": [
    "Analisis pertama yang dilakukan adalah deskripsi analisis data untuk meilihat ukuran pemusatan dan persebaran data seperti mean, median, modus, quantile, dan banyaknya nilai unik pada variabel."
   ]
  },
  {
   "cell_type": "code",
   "execution_count": 50,
   "metadata": {},
   "outputs": [
    {
     "data": {
      "text/html": [
       "<div>\n",
       "<style scoped>\n",
       "    .dataframe tbody tr th:only-of-type {\n",
       "        vertical-align: middle;\n",
       "    }\n",
       "\n",
       "    .dataframe tbody tr th {\n",
       "        vertical-align: top;\n",
       "    }\n",
       "\n",
       "    .dataframe thead th {\n",
       "        text-align: right;\n",
       "    }\n",
       "</style>\n",
       "<table border=\"1\" class=\"dataframe\">\n",
       "  <thead>\n",
       "    <tr style=\"text-align: right;\">\n",
       "      <th></th>\n",
       "      <th>Claim Amount</th>\n",
       "      <th>Close Amount</th>\n",
       "      <th>Year</th>\n",
       "    </tr>\n",
       "  </thead>\n",
       "  <tbody>\n",
       "    <tr>\n",
       "      <th>count</th>\n",
       "      <td>2.026630e+05</td>\n",
       "      <td>202663.000000</td>\n",
       "      <td>202663.000000</td>\n",
       "    </tr>\n",
       "    <tr>\n",
       "      <th>mean</th>\n",
       "      <td>1.488484e+07</td>\n",
       "      <td>75.953606</td>\n",
       "      <td>2007.404662</td>\n",
       "    </tr>\n",
       "    <tr>\n",
       "      <th>std</th>\n",
       "      <td>6.664008e+09</td>\n",
       "      <td>762.286565</td>\n",
       "      <td>3.611363</td>\n",
       "    </tr>\n",
       "    <tr>\n",
       "      <th>min</th>\n",
       "      <td>0.000000e+00</td>\n",
       "      <td>0.000000</td>\n",
       "      <td>2002.000000</td>\n",
       "    </tr>\n",
       "    <tr>\n",
       "      <th>25%</th>\n",
       "      <td>3.194500e+01</td>\n",
       "      <td>0.000000</td>\n",
       "      <td>2004.000000</td>\n",
       "    </tr>\n",
       "    <tr>\n",
       "      <th>50%</th>\n",
       "      <td>1.150000e+02</td>\n",
       "      <td>0.000000</td>\n",
       "      <td>2007.000000</td>\n",
       "    </tr>\n",
       "    <tr>\n",
       "      <th>75%</th>\n",
       "      <td>3.136850e+02</td>\n",
       "      <td>50.000000</td>\n",
       "      <td>2010.000000</td>\n",
       "    </tr>\n",
       "    <tr>\n",
       "      <th>max</th>\n",
       "      <td>3.000000e+12</td>\n",
       "      <td>250000.000000</td>\n",
       "      <td>2015.000000</td>\n",
       "    </tr>\n",
       "  </tbody>\n",
       "</table>\n",
       "</div>"
      ],
      "text/plain": [
       "       Claim Amount   Close Amount           Year\n",
       "count  2.026630e+05  202663.000000  202663.000000\n",
       "mean   1.488484e+07      75.953606    2007.404662\n",
       "std    6.664008e+09     762.286565       3.611363\n",
       "min    0.000000e+00       0.000000    2002.000000\n",
       "25%    3.194500e+01       0.000000    2004.000000\n",
       "50%    1.150000e+02       0.000000    2007.000000\n",
       "75%    3.136850e+02      50.000000    2010.000000\n",
       "max    3.000000e+12  250000.000000    2015.000000"
      ]
     },
     "metadata": {},
     "output_type": "display_data"
    },
    {
     "data": {
      "text/html": [
       "<div>\n",
       "<style scoped>\n",
       "    .dataframe tbody tr th:only-of-type {\n",
       "        vertical-align: middle;\n",
       "    }\n",
       "\n",
       "    .dataframe tbody tr th {\n",
       "        vertical-align: top;\n",
       "    }\n",
       "\n",
       "    .dataframe thead th {\n",
       "        text-align: right;\n",
       "    }\n",
       "</style>\n",
       "<table border=\"1\" class=\"dataframe\">\n",
       "  <thead>\n",
       "    <tr style=\"text-align: right;\">\n",
       "      <th></th>\n",
       "      <th>Claim Number</th>\n",
       "      <th>Airport Code</th>\n",
       "      <th>Airline Name</th>\n",
       "      <th>Claim Type</th>\n",
       "      <th>Claim Site</th>\n",
       "      <th>Item</th>\n",
       "      <th>Disposition</th>\n",
       "    </tr>\n",
       "  </thead>\n",
       "  <tbody>\n",
       "    <tr>\n",
       "      <th>count</th>\n",
       "      <td>202663</td>\n",
       "      <td>202663</td>\n",
       "      <td>202663</td>\n",
       "      <td>202663</td>\n",
       "      <td>202663</td>\n",
       "      <td>202663</td>\n",
       "      <td>202663</td>\n",
       "    </tr>\n",
       "    <tr>\n",
       "      <th>unique</th>\n",
       "      <td>202663</td>\n",
       "      <td>464</td>\n",
       "      <td>317</td>\n",
       "      <td>11</td>\n",
       "      <td>6</td>\n",
       "      <td>143</td>\n",
       "      <td>8</td>\n",
       "    </tr>\n",
       "    <tr>\n",
       "      <th>top</th>\n",
       "      <td>0909802M</td>\n",
       "      <td>LAX</td>\n",
       "      <td>American Airlines</td>\n",
       "      <td>Passenger Property Loss</td>\n",
       "      <td>Checked Baggage</td>\n",
       "      <td>Other</td>\n",
       "      <td>Deny</td>\n",
       "    </tr>\n",
       "    <tr>\n",
       "      <th>freq</th>\n",
       "      <td>1</td>\n",
       "      <td>9594</td>\n",
       "      <td>23053</td>\n",
       "      <td>117634</td>\n",
       "      <td>159458</td>\n",
       "      <td>37315</td>\n",
       "      <td>96642</td>\n",
       "    </tr>\n",
       "  </tbody>\n",
       "</table>\n",
       "</div>"
      ],
      "text/plain": [
       "       Claim Number Airport Code       Airline Name               Claim Type  \\\n",
       "count        202663       202663             202663                   202663   \n",
       "unique       202663          464                317                       11   \n",
       "top        0909802M          LAX  American Airlines  Passenger Property Loss   \n",
       "freq              1         9594              23053                   117634   \n",
       "\n",
       "             Claim Site    Item Disposition  \n",
       "count            202663  202663      202663  \n",
       "unique                6     143           8  \n",
       "top     Checked Baggage   Other        Deny  \n",
       "freq             159458   37315       96642  "
      ]
     },
     "metadata": {},
     "output_type": "display_data"
    }
   ],
   "source": [
    "display(data.describe(), data.describe(include='object'))"
   ]
  },
  {
   "cell_type": "markdown",
   "metadata": {},
   "source": [
    "## Pemeriksaan Outliers Data"
   ]
  },
  {
   "cell_type": "markdown",
   "metadata": {},
   "source": [
    "Outliers atau pencilan pada data dapat diketahui dengan mengilustrasikan data ke dalam diagram boxplot ataupun scatter plot."
   ]
  },
  {
   "cell_type": "markdown",
   "metadata": {},
   "source": [
    "### Boxplot"
   ]
  },
  {
   "cell_type": "code",
   "execution_count": 51,
   "metadata": {},
   "outputs": [
    {
     "data": {
      "image/png": "[encoded data removed]",
      "text/plain": [
       "<Figure size 1800x360 with 1 Axes>"
      ]
     },
     "metadata": {
      "needs_background": "light"
     },
     "output_type": "display_data"
    }
   ],
   "source": [
    "plt.figure(figsize=(25,5))\n",
    "sns.boxplot(x=data['Close Amount'],palette='YlGnBu')\n",
    "plt.show()"
   ]
  },
  {
   "cell_type": "markdown",
   "metadata": {},
   "source": [
    "Dari plot data pada diagram boxplot, pencilan pada data ditemukan pada 'Close Amount' dengan nilai yang sangat besar, yang mencapai USD 250,000, sementara nilai median untuk data ini berada pada nilai USD 0"
   ]
  },
  {
   "cell_type": "markdown",
   "metadata": {},
   "source": [
    "### Scatterplot"
   ]
  },
  {
   "cell_type": "code",
   "execution_count": 52,
   "metadata": {},
   "outputs": [
    {
     "data": {
      "image/png": "[encoded data removed]",
      "text/plain": [
       "<Figure size 1152x720 with 1 Axes>"
      ]
     },
     "metadata": {
      "needs_background": "light"
     },
     "output_type": "display_data"
    }
   ],
   "source": [
    "plt.figure(figsize=(16,10))\n",
    "sns.scatterplot(data=data, x='Claim Amount', y='Close Amount', hue='Disposition',palette='YlGnBu_r')\n",
    "plt.show()"
   ]
  },
  {
   "cell_type": "markdown",
   "metadata": {},
   "source": [
    "Sedangkan dari scatterplot 'Claim Amount' dengan 'Claim Amount' terlihat persebaran data pada 'Claim Amount' terkonsentrasi pada nilai kurang dari 10^11 dan 'Close Amount' pada nilai kurang dari 25,000 USD"
   ]
  },
  {
   "cell_type": "markdown",
   "metadata": {},
   "source": [
    "Supaya data analisis bisa menjadi lebih akurat, maka outliers pada data dapat dihilangkan dengan melakukan filtering."
   ]
  },
  {
   "cell_type": "markdown",
   "metadata": {},
   "source": [
    "## Data Filtering"
   ]
  },
  {
   "cell_type": "markdown",
   "metadata": {},
   "source": [
    " Untuk melakukan filtering diperlukan batas ambang atas dan bawah untuk data yang akan dianalisis. Nilai ambang batas ini dapat ditentukan dengan menggunakan rumus:\n",
    "\n",
    "- Batas Bawah = (Q1 - 1.5*(Q3 - Q1))\n",
    "- Batas Atas = (Q3 + 1.5*(Q3 - Q1))"
   ]
  },
  {
   "cell_type": "code",
   "execution_count": 53,
   "metadata": {},
   "outputs": [
    {
     "name": "stdout",
     "output_type": "stream",
     "text": [
      "Untuk Claim Amount batas bawah = -390.665 dan batas atas = 736.2950000000001\n"
     ]
    }
   ],
   "source": [
    "q3_claim = np.percentile(data['Claim Amount'], 75)\n",
    "q1_claim = np.percentile(data['Claim Amount'], 25)\n",
    "\n",
    "bb_claim = q1_claim - (1.5*(q3_claim-q1_claim))\n",
    "ba_claim = q3_claim + (1.5*(q3_claim-q1_claim))\n",
    "\n",
    "print('Untuk Claim Amount batas bawah = {} dan batas atas = {}'.format(bb_claim,ba_claim))"
   ]
  },
  {
   "cell_type": "code",
   "execution_count": 54,
   "metadata": {},
   "outputs": [
    {
     "name": "stdout",
     "output_type": "stream",
     "text": [
      "Untuk close Amount batas bawah = -75.0 dan batas atas = 125.0\n"
     ]
    }
   ],
   "source": [
    "q3_close = np.percentile(data['Close Amount'], 75)\n",
    "q1_close = np.percentile(data['Close Amount'], 25)\n",
    "\n",
    "bb_close = q1_close - (1.5*(q3_close-q1_close))\n",
    "ba_close = q3_close + (1.5*(q3_close-q1_close))\n",
    "\n",
    "print('Untuk close Amount batas bawah = {} dan batas atas = {}'.format(bb_close,ba_close))"
   ]
  },
  {
   "cell_type": "markdown",
   "metadata": {},
   "source": [
    "Karena nilai batas bawah 'Claim Amount' dan 'Close Amount' adalah negatif sementara tidak ada nilai negatif dalam data maka filtering dataset nya hanya dilakukan untuk batas atas saja."
   ]
  },
  {
   "cell_type": "code",
   "execution_count": 55,
   "metadata": {},
   "outputs": [
    {
     "data": {
      "text/html": [
       "<div>\n",
       "<style scoped>\n",
       "    .dataframe tbody tr th:only-of-type {\n",
       "        vertical-align: middle;\n",
       "    }\n",
       "\n",
       "    .dataframe tbody tr th {\n",
       "        vertical-align: top;\n",
       "    }\n",
       "\n",
       "    .dataframe thead th {\n",
       "        text-align: right;\n",
       "    }\n",
       "</style>\n",
       "<table border=\"1\" class=\"dataframe\">\n",
       "  <thead>\n",
       "    <tr style=\"text-align: right;\">\n",
       "      <th></th>\n",
       "      <th>Claim Number</th>\n",
       "      <th>Incident Date</th>\n",
       "      <th>Airport Code</th>\n",
       "      <th>Airline Name</th>\n",
       "      <th>Claim Type</th>\n",
       "      <th>Claim Site</th>\n",
       "      <th>Item</th>\n",
       "      <th>Claim Amount</th>\n",
       "      <th>Disposition</th>\n",
       "      <th>Close Amount</th>\n",
       "      <th>Year</th>\n",
       "    </tr>\n",
       "  </thead>\n",
       "  <tbody>\n",
       "    <tr>\n",
       "      <th>1</th>\n",
       "      <td>0202417M</td>\n",
       "      <td>2004-01-16</td>\n",
       "      <td>SEA</td>\n",
       "      <td>American Airlines</td>\n",
       "      <td>Property Damage</td>\n",
       "      <td>Checked Baggage</td>\n",
       "      <td>Luggage (all types including footlockers)</td>\n",
       "      <td>100.00</td>\n",
       "      <td>Settle</td>\n",
       "      <td>50.00</td>\n",
       "      <td>2004</td>\n",
       "    </tr>\n",
       "    <tr>\n",
       "      <th>3</th>\n",
       "      <td>0909816M</td>\n",
       "      <td>2003-06-01</td>\n",
       "      <td>MIA</td>\n",
       "      <td>American Airlines</td>\n",
       "      <td>Property Damage</td>\n",
       "      <td>Checkpoint</td>\n",
       "      <td>Luggage (all types including footlockers)</td>\n",
       "      <td>50.00</td>\n",
       "      <td>Approve in Full</td>\n",
       "      <td>50.00</td>\n",
       "      <td>2003</td>\n",
       "    </tr>\n",
       "    <tr>\n",
       "      <th>4</th>\n",
       "      <td>2005032379513</td>\n",
       "      <td>2005-05-02</td>\n",
       "      <td>MCO</td>\n",
       "      <td>Delta (Song)</td>\n",
       "      <td>Property Damage</td>\n",
       "      <td>Checkpoint</td>\n",
       "      <td>Baby</td>\n",
       "      <td>84.79</td>\n",
       "      <td>Approve in Full</td>\n",
       "      <td>84.79</td>\n",
       "      <td>2005</td>\n",
       "    </tr>\n",
       "    <tr>\n",
       "      <th>6</th>\n",
       "      <td>2007050124750</td>\n",
       "      <td>2007-04-26</td>\n",
       "      <td>PHL</td>\n",
       "      <td>USAir</td>\n",
       "      <td>Passenger Property Loss</td>\n",
       "      <td>Checked Baggage</td>\n",
       "      <td>Professional Equipment</td>\n",
       "      <td>106.52</td>\n",
       "      <td>Approve in Full</td>\n",
       "      <td>106.52</td>\n",
       "      <td>2007</td>\n",
       "    </tr>\n",
       "    <tr>\n",
       "      <th>7</th>\n",
       "      <td>12772</td>\n",
       "      <td>2002-09-05</td>\n",
       "      <td>BWI</td>\n",
       "      <td>Southwest Airlines</td>\n",
       "      <td>Unknown</td>\n",
       "      <td>Checkpoint</td>\n",
       "      <td>Clothing</td>\n",
       "      <td>75.00</td>\n",
       "      <td>Approve in Full</td>\n",
       "      <td>75.00</td>\n",
       "      <td>2002</td>\n",
       "    </tr>\n",
       "    <tr>\n",
       "      <th>...</th>\n",
       "      <td>...</td>\n",
       "      <td>...</td>\n",
       "      <td>...</td>\n",
       "      <td>...</td>\n",
       "      <td>...</td>\n",
       "      <td>...</td>\n",
       "      <td>...</td>\n",
       "      <td>...</td>\n",
       "      <td>...</td>\n",
       "      <td>...</td>\n",
       "      <td>...</td>\n",
       "    </tr>\n",
       "    <tr>\n",
       "      <th>202691</th>\n",
       "      <td>2015112327099</td>\n",
       "      <td>2014-11-12</td>\n",
       "      <td>ZZZ</td>\n",
       "      <td>American Airlines</td>\n",
       "      <td>Personal Injury</td>\n",
       "      <td>Motor Vehicle</td>\n",
       "      <td>Unknown</td>\n",
       "      <td>115.00</td>\n",
       "      <td>Unknown</td>\n",
       "      <td>0.00</td>\n",
       "      <td>2014</td>\n",
       "    </tr>\n",
       "    <tr>\n",
       "      <th>202692</th>\n",
       "      <td>2015041721983</td>\n",
       "      <td>2015-04-01</td>\n",
       "      <td>Unknown</td>\n",
       "      <td>British Airways</td>\n",
       "      <td>Passenger Property Loss</td>\n",
       "      <td>Checked Baggage</td>\n",
       "      <td>Baggage/Cases/Purses</td>\n",
       "      <td>115.00</td>\n",
       "      <td>Unknown</td>\n",
       "      <td>0.00</td>\n",
       "      <td>2015</td>\n",
       "    </tr>\n",
       "    <tr>\n",
       "      <th>202693</th>\n",
       "      <td>2015102626275</td>\n",
       "      <td>2015-08-08</td>\n",
       "      <td>Unknown</td>\n",
       "      <td>USAir</td>\n",
       "      <td>Passenger Property Loss</td>\n",
       "      <td>Checked Baggage</td>\n",
       "      <td>Jewelry &amp; Watches</td>\n",
       "      <td>115.00</td>\n",
       "      <td>Unknown</td>\n",
       "      <td>0.00</td>\n",
       "      <td>2015</td>\n",
       "    </tr>\n",
       "    <tr>\n",
       "      <th>202694</th>\n",
       "      <td>2015101926087</td>\n",
       "      <td>2015-08-21</td>\n",
       "      <td>Unknown</td>\n",
       "      <td>Delta Air Lines</td>\n",
       "      <td>Property Damage</td>\n",
       "      <td>Checked Baggage</td>\n",
       "      <td>Baggage/Cases/Purses</td>\n",
       "      <td>115.00</td>\n",
       "      <td>Unknown</td>\n",
       "      <td>0.00</td>\n",
       "      <td>2015</td>\n",
       "    </tr>\n",
       "    <tr>\n",
       "      <th>202695</th>\n",
       "      <td>2015120727336</td>\n",
       "      <td>2015-09-14</td>\n",
       "      <td>Unknown</td>\n",
       "      <td>American Airlines</td>\n",
       "      <td>Passenger Property Loss</td>\n",
       "      <td>Checked Baggage</td>\n",
       "      <td>Cosmetics &amp; Grooming</td>\n",
       "      <td>115.00</td>\n",
       "      <td>Unknown</td>\n",
       "      <td>0.00</td>\n",
       "      <td>2015</td>\n",
       "    </tr>\n",
       "  </tbody>\n",
       "</table>\n",
       "<p>157429 rows × 11 columns</p>\n",
       "</div>"
      ],
      "text/plain": [
       "         Claim Number Incident Date Airport Code        Airline Name  \\\n",
       "1            0202417M    2004-01-16          SEA   American Airlines   \n",
       "3            0909816M    2003-06-01          MIA   American Airlines   \n",
       "4       2005032379513    2005-05-02          MCO        Delta (Song)   \n",
       "6       2007050124750    2007-04-26          PHL               USAir   \n",
       "7               12772    2002-09-05          BWI  Southwest Airlines   \n",
       "...               ...           ...          ...                 ...   \n",
       "202691  2015112327099    2014-11-12          ZZZ   American Airlines   \n",
       "202692  2015041721983    2015-04-01      Unknown     British Airways   \n",
       "202693  2015102626275    2015-08-08      Unknown               USAir   \n",
       "202694  2015101926087    2015-08-21      Unknown     Delta Air Lines   \n",
       "202695  2015120727336    2015-09-14      Unknown   American Airlines   \n",
       "\n",
       "                     Claim Type       Claim Site  \\\n",
       "1               Property Damage  Checked Baggage   \n",
       "3               Property Damage       Checkpoint   \n",
       "4               Property Damage       Checkpoint   \n",
       "6       Passenger Property Loss  Checked Baggage   \n",
       "7                       Unknown       Checkpoint   \n",
       "...                         ...              ...   \n",
       "202691          Personal Injury    Motor Vehicle   \n",
       "202692  Passenger Property Loss  Checked Baggage   \n",
       "202693  Passenger Property Loss  Checked Baggage   \n",
       "202694          Property Damage  Checked Baggage   \n",
       "202695  Passenger Property Loss  Checked Baggage   \n",
       "\n",
       "                                             Item  Claim Amount  \\\n",
       "1       Luggage (all types including footlockers)        100.00   \n",
       "3       Luggage (all types including footlockers)         50.00   \n",
       "4                                           Baby          84.79   \n",
       "6                          Professional Equipment        106.52   \n",
       "7                                       Clothing          75.00   \n",
       "...                                           ...           ...   \n",
       "202691                                    Unknown        115.00   \n",
       "202692                       Baggage/Cases/Purses        115.00   \n",
       "202693                          Jewelry & Watches        115.00   \n",
       "202694                       Baggage/Cases/Purses        115.00   \n",
       "202695                       Cosmetics & Grooming        115.00   \n",
       "\n",
       "            Disposition  Close Amount  Year  \n",
       "1                Settle         50.00  2004  \n",
       "3       Approve in Full         50.00  2003  \n",
       "4       Approve in Full         84.79  2005  \n",
       "6       Approve in Full        106.52  2007  \n",
       "7       Approve in Full         75.00  2002  \n",
       "...                 ...           ...   ...  \n",
       "202691          Unknown          0.00  2014  \n",
       "202692          Unknown          0.00  2015  \n",
       "202693          Unknown          0.00  2015  \n",
       "202694          Unknown          0.00  2015  \n",
       "202695          Unknown          0.00  2015  \n",
       "\n",
       "[157429 rows x 11 columns]"
      ]
     },
     "execution_count": 55,
     "metadata": {},
     "output_type": "execute_result"
    }
   ],
   "source": [
    "data1 = data[(data['Claim Amount'] <= ba_claim) & (data['Close Amount'] <= ba_close)]\n",
    "data1"
   ]
  },
  {
   "cell_type": "code",
   "execution_count": 56,
   "metadata": {},
   "outputs": [
    {
     "name": "stdout",
     "output_type": "stream",
     "text": [
      "Data yang tersisa setelah filtering adalah 77.6801882928803%\n"
     ]
    }
   ],
   "source": [
    "remain_data = len(data1)/len(data)\n",
    "\n",
    "print('Data yang tersisa setelah filtering adalah {}%'.format(remain_data*100))"
   ]
  },
  {
   "cell_type": "markdown",
   "metadata": {},
   "source": [
    "<br>Namun, proses ini akan menghilangkan banyak sekali data, hingga lebih dari 22% nya. Oleh sebab itu, batas ambang yang akan diterapkan pada proses seleksi ini didasarkan pada pengamatan visual pada digram scatterplot 'Close Amount' dengan 'Claim Amount', sebagai berikut:\n",
    "\n",
    "- Claim Amount < 100,000\n",
    "- Close Amount < 10,000"
   ]
  },
  {
   "cell_type": "code",
   "execution_count": 57,
   "metadata": {},
   "outputs": [
    {
     "data": {
      "text/html": [
       "<div>\n",
       "<style scoped>\n",
       "    .dataframe tbody tr th:only-of-type {\n",
       "        vertical-align: middle;\n",
       "    }\n",
       "\n",
       "    .dataframe tbody tr th {\n",
       "        vertical-align: top;\n",
       "    }\n",
       "\n",
       "    .dataframe thead th {\n",
       "        text-align: right;\n",
       "    }\n",
       "</style>\n",
       "<table border=\"1\" class=\"dataframe\">\n",
       "  <thead>\n",
       "    <tr style=\"text-align: right;\">\n",
       "      <th></th>\n",
       "      <th>Claim Number</th>\n",
       "      <th>Incident Date</th>\n",
       "      <th>Airport Code</th>\n",
       "      <th>Airline Name</th>\n",
       "      <th>Claim Type</th>\n",
       "      <th>Claim Site</th>\n",
       "      <th>Item</th>\n",
       "      <th>Claim Amount</th>\n",
       "      <th>Disposition</th>\n",
       "      <th>Close Amount</th>\n",
       "      <th>Year</th>\n",
       "    </tr>\n",
       "  </thead>\n",
       "  <tbody>\n",
       "    <tr>\n",
       "      <th>0</th>\n",
       "      <td>0909802M</td>\n",
       "      <td>2002-12-12</td>\n",
       "      <td>EWR</td>\n",
       "      <td>Continental Airlines</td>\n",
       "      <td>Property Damage</td>\n",
       "      <td>Checkpoint</td>\n",
       "      <td>Other</td>\n",
       "      <td>350.00</td>\n",
       "      <td>Approve in Full</td>\n",
       "      <td>350.00</td>\n",
       "      <td>2002</td>\n",
       "    </tr>\n",
       "    <tr>\n",
       "      <th>1</th>\n",
       "      <td>0202417M</td>\n",
       "      <td>2004-01-16</td>\n",
       "      <td>SEA</td>\n",
       "      <td>American Airlines</td>\n",
       "      <td>Property Damage</td>\n",
       "      <td>Checked Baggage</td>\n",
       "      <td>Luggage (all types including footlockers)</td>\n",
       "      <td>100.00</td>\n",
       "      <td>Settle</td>\n",
       "      <td>50.00</td>\n",
       "      <td>2004</td>\n",
       "    </tr>\n",
       "    <tr>\n",
       "      <th>2</th>\n",
       "      <td>0202445M</td>\n",
       "      <td>2003-11-26</td>\n",
       "      <td>STL</td>\n",
       "      <td>American Airlines</td>\n",
       "      <td>Property Damage</td>\n",
       "      <td>Checked Baggage</td>\n",
       "      <td>Cell Phones</td>\n",
       "      <td>278.88</td>\n",
       "      <td>Settle</td>\n",
       "      <td>227.92</td>\n",
       "      <td>2003</td>\n",
       "    </tr>\n",
       "    <tr>\n",
       "      <th>3</th>\n",
       "      <td>0909816M</td>\n",
       "      <td>2003-06-01</td>\n",
       "      <td>MIA</td>\n",
       "      <td>American Airlines</td>\n",
       "      <td>Property Damage</td>\n",
       "      <td>Checkpoint</td>\n",
       "      <td>Luggage (all types including footlockers)</td>\n",
       "      <td>50.00</td>\n",
       "      <td>Approve in Full</td>\n",
       "      <td>50.00</td>\n",
       "      <td>2003</td>\n",
       "    </tr>\n",
       "    <tr>\n",
       "      <th>4</th>\n",
       "      <td>2005032379513</td>\n",
       "      <td>2005-05-02</td>\n",
       "      <td>MCO</td>\n",
       "      <td>Delta (Song)</td>\n",
       "      <td>Property Damage</td>\n",
       "      <td>Checkpoint</td>\n",
       "      <td>Baby</td>\n",
       "      <td>84.79</td>\n",
       "      <td>Approve in Full</td>\n",
       "      <td>84.79</td>\n",
       "      <td>2005</td>\n",
       "    </tr>\n",
       "    <tr>\n",
       "      <th>...</th>\n",
       "      <td>...</td>\n",
       "      <td>...</td>\n",
       "      <td>...</td>\n",
       "      <td>...</td>\n",
       "      <td>...</td>\n",
       "      <td>...</td>\n",
       "      <td>...</td>\n",
       "      <td>...</td>\n",
       "      <td>...</td>\n",
       "      <td>...</td>\n",
       "      <td>...</td>\n",
       "    </tr>\n",
       "    <tr>\n",
       "      <th>202255</th>\n",
       "      <td>2015112327099</td>\n",
       "      <td>2014-11-12</td>\n",
       "      <td>ZZZ</td>\n",
       "      <td>American Airlines</td>\n",
       "      <td>Personal Injury</td>\n",
       "      <td>Motor Vehicle</td>\n",
       "      <td>Unknown</td>\n",
       "      <td>115.00</td>\n",
       "      <td>Unknown</td>\n",
       "      <td>0.00</td>\n",
       "      <td>2014</td>\n",
       "    </tr>\n",
       "    <tr>\n",
       "      <th>202256</th>\n",
       "      <td>2015041721983</td>\n",
       "      <td>2015-04-01</td>\n",
       "      <td>Unknown</td>\n",
       "      <td>British Airways</td>\n",
       "      <td>Passenger Property Loss</td>\n",
       "      <td>Checked Baggage</td>\n",
       "      <td>Baggage/Cases/Purses</td>\n",
       "      <td>115.00</td>\n",
       "      <td>Unknown</td>\n",
       "      <td>0.00</td>\n",
       "      <td>2015</td>\n",
       "    </tr>\n",
       "    <tr>\n",
       "      <th>202257</th>\n",
       "      <td>2015102626275</td>\n",
       "      <td>2015-08-08</td>\n",
       "      <td>Unknown</td>\n",
       "      <td>USAir</td>\n",
       "      <td>Passenger Property Loss</td>\n",
       "      <td>Checked Baggage</td>\n",
       "      <td>Jewelry &amp; Watches</td>\n",
       "      <td>115.00</td>\n",
       "      <td>Unknown</td>\n",
       "      <td>0.00</td>\n",
       "      <td>2015</td>\n",
       "    </tr>\n",
       "    <tr>\n",
       "      <th>202258</th>\n",
       "      <td>2015101926087</td>\n",
       "      <td>2015-08-21</td>\n",
       "      <td>Unknown</td>\n",
       "      <td>Delta Air Lines</td>\n",
       "      <td>Property Damage</td>\n",
       "      <td>Checked Baggage</td>\n",
       "      <td>Baggage/Cases/Purses</td>\n",
       "      <td>115.00</td>\n",
       "      <td>Unknown</td>\n",
       "      <td>0.00</td>\n",
       "      <td>2015</td>\n",
       "    </tr>\n",
       "    <tr>\n",
       "      <th>202259</th>\n",
       "      <td>2015120727336</td>\n",
       "      <td>2015-09-14</td>\n",
       "      <td>Unknown</td>\n",
       "      <td>American Airlines</td>\n",
       "      <td>Passenger Property Loss</td>\n",
       "      <td>Checked Baggage</td>\n",
       "      <td>Cosmetics &amp; Grooming</td>\n",
       "      <td>115.00</td>\n",
       "      <td>Unknown</td>\n",
       "      <td>0.00</td>\n",
       "      <td>2015</td>\n",
       "    </tr>\n",
       "  </tbody>\n",
       "</table>\n",
       "<p>202260 rows × 11 columns</p>\n",
       "</div>"
      ],
      "text/plain": [
       "         Claim Number Incident Date Airport Code          Airline Name  \\\n",
       "0            0909802M    2002-12-12          EWR  Continental Airlines   \n",
       "1            0202417M    2004-01-16          SEA     American Airlines   \n",
       "2            0202445M    2003-11-26          STL     American Airlines   \n",
       "3            0909816M    2003-06-01          MIA     American Airlines   \n",
       "4       2005032379513    2005-05-02          MCO          Delta (Song)   \n",
       "...               ...           ...          ...                   ...   \n",
       "202255  2015112327099    2014-11-12          ZZZ     American Airlines   \n",
       "202256  2015041721983    2015-04-01      Unknown       British Airways   \n",
       "202257  2015102626275    2015-08-08      Unknown                 USAir   \n",
       "202258  2015101926087    2015-08-21      Unknown       Delta Air Lines   \n",
       "202259  2015120727336    2015-09-14      Unknown     American Airlines   \n",
       "\n",
       "                     Claim Type       Claim Site  \\\n",
       "0               Property Damage       Checkpoint   \n",
       "1               Property Damage  Checked Baggage   \n",
       "2               Property Damage  Checked Baggage   \n",
       "3               Property Damage       Checkpoint   \n",
       "4               Property Damage       Checkpoint   \n",
       "...                         ...              ...   \n",
       "202255          Personal Injury    Motor Vehicle   \n",
       "202256  Passenger Property Loss  Checked Baggage   \n",
       "202257  Passenger Property Loss  Checked Baggage   \n",
       "202258          Property Damage  Checked Baggage   \n",
       "202259  Passenger Property Loss  Checked Baggage   \n",
       "\n",
       "                                             Item  Claim Amount  \\\n",
       "0                                           Other        350.00   \n",
       "1       Luggage (all types including footlockers)        100.00   \n",
       "2                                     Cell Phones        278.88   \n",
       "3       Luggage (all types including footlockers)         50.00   \n",
       "4                                           Baby          84.79   \n",
       "...                                           ...           ...   \n",
       "202255                                    Unknown        115.00   \n",
       "202256                       Baggage/Cases/Purses        115.00   \n",
       "202257                          Jewelry & Watches        115.00   \n",
       "202258                       Baggage/Cases/Purses        115.00   \n",
       "202259                       Cosmetics & Grooming        115.00   \n",
       "\n",
       "            Disposition  Close Amount  Year  \n",
       "0       Approve in Full        350.00  2002  \n",
       "1                Settle         50.00  2004  \n",
       "2                Settle        227.92  2003  \n",
       "3       Approve in Full         50.00  2003  \n",
       "4       Approve in Full         84.79  2005  \n",
       "...                 ...           ...   ...  \n",
       "202255          Unknown          0.00  2014  \n",
       "202256          Unknown          0.00  2015  \n",
       "202257          Unknown          0.00  2015  \n",
       "202258          Unknown          0.00  2015  \n",
       "202259          Unknown          0.00  2015  \n",
       "\n",
       "[202260 rows x 11 columns]"
      ]
     },
     "execution_count": 57,
     "metadata": {},
     "output_type": "execute_result"
    }
   ],
   "source": [
    "#Menyeleksi data yang berada dalam rentang nilai batas atas dan batas bawah\n",
    "\n",
    "data = data[(data['Claim Amount'] <= 50000) & (data['Close Amount'] <= 5000)] \n",
    "data.reset_index(drop=True)"
   ]
  },
  {
   "cell_type": "markdown",
   "metadata": {},
   "source": [
    "Filtering dengan nilai ambang batas atas 100,000 dan 10,000 untuk Claim Amount dan Close Amount ini telah menyaring 0.98% data, yaitu data dengan nilai yang ekstrim. Dataset yang telah melewati proses filtering inilah yang akan dianalisis untuk mendapatkan informasi atau insight yang berguna."
   ]
  },
  {
   "cell_type": "markdown",
   "metadata": {},
   "source": [
    "## Analisis Data"
   ]
  },
  {
   "cell_type": "markdown",
   "metadata": {},
   "source": [
    "### Statistika Deskriptif"
   ]
  },
  {
   "cell_type": "code",
   "execution_count": 58,
   "metadata": {},
   "outputs": [
    {
     "data": {
      "text/html": [
       "<div>\n",
       "<style scoped>\n",
       "    .dataframe tbody tr th:only-of-type {\n",
       "        vertical-align: middle;\n",
       "    }\n",
       "\n",
       "    .dataframe tbody tr th {\n",
       "        vertical-align: top;\n",
       "    }\n",
       "\n",
       "    .dataframe thead th {\n",
       "        text-align: right;\n",
       "    }\n",
       "</style>\n",
       "<table border=\"1\" class=\"dataframe\">\n",
       "  <thead>\n",
       "    <tr style=\"text-align: right;\">\n",
       "      <th></th>\n",
       "      <th>Claim Amount</th>\n",
       "      <th>Close Amount</th>\n",
       "      <th>Year</th>\n",
       "    </tr>\n",
       "  </thead>\n",
       "  <tbody>\n",
       "    <tr>\n",
       "      <th>count</th>\n",
       "      <td>202260.000000</td>\n",
       "      <td>202260.000000</td>\n",
       "      <td>202260.000000</td>\n",
       "    </tr>\n",
       "    <tr>\n",
       "      <th>mean</th>\n",
       "      <td>431.084211</td>\n",
       "      <td>67.949639</td>\n",
       "      <td>2007.408899</td>\n",
       "    </tr>\n",
       "    <tr>\n",
       "      <th>std</th>\n",
       "      <td>1566.687891</td>\n",
       "      <td>222.115069</td>\n",
       "      <td>3.612353</td>\n",
       "    </tr>\n",
       "    <tr>\n",
       "      <th>min</th>\n",
       "      <td>0.000000</td>\n",
       "      <td>0.000000</td>\n",
       "      <td>2002.000000</td>\n",
       "    </tr>\n",
       "    <tr>\n",
       "      <th>25%</th>\n",
       "      <td>31.790000</td>\n",
       "      <td>0.000000</td>\n",
       "      <td>2004.000000</td>\n",
       "    </tr>\n",
       "    <tr>\n",
       "      <th>50%</th>\n",
       "      <td>115.000000</td>\n",
       "      <td>0.000000</td>\n",
       "      <td>2007.000000</td>\n",
       "    </tr>\n",
       "    <tr>\n",
       "      <th>75%</th>\n",
       "      <td>310.000000</td>\n",
       "      <td>50.000000</td>\n",
       "      <td>2010.000000</td>\n",
       "    </tr>\n",
       "    <tr>\n",
       "      <th>max</th>\n",
       "      <td>50000.000000</td>\n",
       "      <td>5000.000000</td>\n",
       "      <td>2015.000000</td>\n",
       "    </tr>\n",
       "  </tbody>\n",
       "</table>\n",
       "</div>"
      ],
      "text/plain": [
       "        Claim Amount   Close Amount           Year\n",
       "count  202260.000000  202260.000000  202260.000000\n",
       "mean      431.084211      67.949639    2007.408899\n",
       "std      1566.687891     222.115069       3.612353\n",
       "min         0.000000       0.000000    2002.000000\n",
       "25%        31.790000       0.000000    2004.000000\n",
       "50%       115.000000       0.000000    2007.000000\n",
       "75%       310.000000      50.000000    2010.000000\n",
       "max     50000.000000    5000.000000    2015.000000"
      ]
     },
     "metadata": {},
     "output_type": "display_data"
    },
    {
     "data": {
      "text/html": [
       "<div>\n",
       "<style scoped>\n",
       "    .dataframe tbody tr th:only-of-type {\n",
       "        vertical-align: middle;\n",
       "    }\n",
       "\n",
       "    .dataframe tbody tr th {\n",
       "        vertical-align: top;\n",
       "    }\n",
       "\n",
       "    .dataframe thead th {\n",
       "        text-align: right;\n",
       "    }\n",
       "</style>\n",
       "<table border=\"1\" class=\"dataframe\">\n",
       "  <thead>\n",
       "    <tr style=\"text-align: right;\">\n",
       "      <th></th>\n",
       "      <th>Claim Number</th>\n",
       "      <th>Airport Code</th>\n",
       "      <th>Airline Name</th>\n",
       "      <th>Claim Type</th>\n",
       "      <th>Claim Site</th>\n",
       "      <th>Item</th>\n",
       "      <th>Disposition</th>\n",
       "    </tr>\n",
       "  </thead>\n",
       "  <tbody>\n",
       "    <tr>\n",
       "      <th>count</th>\n",
       "      <td>202260</td>\n",
       "      <td>202260</td>\n",
       "      <td>202260</td>\n",
       "      <td>202260</td>\n",
       "      <td>202260</td>\n",
       "      <td>202260</td>\n",
       "      <td>202260</td>\n",
       "    </tr>\n",
       "    <tr>\n",
       "      <th>unique</th>\n",
       "      <td>202260</td>\n",
       "      <td>464</td>\n",
       "      <td>317</td>\n",
       "      <td>11</td>\n",
       "      <td>6</td>\n",
       "      <td>143</td>\n",
       "      <td>8</td>\n",
       "    </tr>\n",
       "    <tr>\n",
       "      <th>top</th>\n",
       "      <td>0909802M</td>\n",
       "      <td>LAX</td>\n",
       "      <td>American Airlines</td>\n",
       "      <td>Passenger Property Loss</td>\n",
       "      <td>Checked Baggage</td>\n",
       "      <td>Other</td>\n",
       "      <td>Deny</td>\n",
       "    </tr>\n",
       "    <tr>\n",
       "      <th>freq</th>\n",
       "      <td>1</td>\n",
       "      <td>9571</td>\n",
       "      <td>23000</td>\n",
       "      <td>117537</td>\n",
       "      <td>159354</td>\n",
       "      <td>37242</td>\n",
       "      <td>96418</td>\n",
       "    </tr>\n",
       "  </tbody>\n",
       "</table>\n",
       "</div>"
      ],
      "text/plain": [
       "       Claim Number Airport Code       Airline Name               Claim Type  \\\n",
       "count        202260       202260             202260                   202260   \n",
       "unique       202260          464                317                       11   \n",
       "top        0909802M          LAX  American Airlines  Passenger Property Loss   \n",
       "freq              1         9571              23000                   117537   \n",
       "\n",
       "             Claim Site    Item Disposition  \n",
       "count            202260  202260      202260  \n",
       "unique                6     143           8  \n",
       "top     Checked Baggage   Other        Deny  \n",
       "freq             159354   37242       96418  "
      ]
     },
     "metadata": {},
     "output_type": "display_data"
    }
   ],
   "source": [
    "display(data.describe(), data.describe(include='object'))"
   ]
  },
  {
   "cell_type": "markdown",
   "metadata": {},
   "source": [
    "Dari analisis deskriptif dataset dapat dilihat bahwa klaim paling banyak ditujukan kepada bandara **LAX** dan maskapai **American Airlines**, dengan klaim terbanyak untuk **kehilangan barang** dan mayoritas pengajuan dilakukan di lokasi **pengecekan bagasi**. Sedangkan frekuensi penyelesaian yang paling banyak adalah _Deny_ dengan 96,418 klaim."
   ]
  },
  {
   "cell_type": "markdown",
   "metadata": {},
   "source": [
    "### Normalitas Data"
   ]
  },
  {
   "cell_type": "markdown",
   "metadata": {},
   "source": [
    "Karena variabel dependen / target pada analisis ini adalah kolom 'Close Amount' maka distribusi datanya perlu diperiksa terlebih dahulu untuk menentukan metode-metode analisis yang akan digunakan."
   ]
  },
  {
   "cell_type": "code",
   "execution_count": 59,
   "metadata": {},
   "outputs": [
    {
     "name": "stdout",
     "output_type": "stream",
     "text": [
      "P-Value:  0.0\n",
      "Tolak H0, data tidak terdistribusi normal\n"
     ]
    }
   ],
   "source": [
    "stats, pval=normaltest(data['Close Amount'])\n",
    "print('P-Value: ',pval)\n",
    "if pval > 0.05:\n",
    "    print('Terima H0, data terdistribusi normal')\n",
    "else:\n",
    "    print('Tolak H0, data tidak terdistribusi normal')"
   ]
  },
  {
   "cell_type": "markdown",
   "metadata": {},
   "source": [
    "Hasil Uji normalitas data menunjukkan bahwa data tidak terdistribusi normal sehingga untuk memeriksa korelasi 'Close Amount' dengan 'Claim Amount' diperlukan metode non parametrik _spearman_"
   ]
  },
  {
   "cell_type": "markdown",
   "metadata": {},
   "source": [
    "### Uji Korelasi"
   ]
  },
  {
   "cell_type": "markdown",
   "metadata": {},
   "source": [
    "Uji korelasi ini dilakukan untuk melihat keterkaitan nilai klaim yang diajukan dengan nilai klaim yang disetujui untuk diberikan."
   ]
  },
  {
   "cell_type": "code",
   "execution_count": 60,
   "metadata": {},
   "outputs": [
    {
     "data": {
      "image/png": "[encoded data removed]",
      "text/plain": [
       "<Figure size 432x288 with 2 Axes>"
      ]
     },
     "metadata": {
      "needs_background": "light"
     },
     "output_type": "display_data"
    }
   ],
   "source": [
    "sns.heatmap(data[['Claim Amount','Close Amount']].corr(method='spearman'),cmap='YlGnBu_r',annot=True)\n",
    "plt.show()"
   ]
  },
  {
   "cell_type": "markdown",
   "metadata": {},
   "source": [
    "Hasil uji korelasinya menunjukkan hubungan yang lemah antara besar nilai klaim yang diajukan dengan yang disetujui, yang berarti besar nilai klaim yang disetujui untuk diberikan tidak ditentukan oleh besar nilai claim yang diajukan."
   ]
  },
  {
   "cell_type": "markdown",
   "metadata": {},
   "source": [
    "### Uji Kruskal-Walis"
   ]
  },
  {
   "cell_type": "markdown",
   "metadata": {},
   "source": [
    "Untuk memeriksa nilai median Close Amount pada setiap tahun maka diperlukan metode Kruskal-Walis Test."
   ]
  },
  {
   "cell_type": "code",
   "execution_count": 61,
   "metadata": {},
   "outputs": [
    {
     "name": "stdout",
     "output_type": "stream",
     "text": [
      "p-Value:  0.0\n",
      "H0 Rejected, median dari Close Amount untuk setiap tahun ada yang tidak sama\n"
     ]
    }
   ],
   "source": [
    "stat,pval = kruskal(data[data['Year']==2003]['Close Amount'],\n",
    "                    data[data['Year']==2004]['Close Amount'],\n",
    "                    data[data['Year']==2005]['Close Amount'],\n",
    "                    data[data['Year']==2006]['Close Amount'],\n",
    "                    data[data['Year']==2007]['Close Amount'],\n",
    "                    data[data['Year']==2008]['Close Amount'],\n",
    "                    data[data['Year']==2009]['Close Amount'],\n",
    "                    data[data['Year']==2010]['Close Amount'],\n",
    "                    data[data['Year']==2011]['Close Amount'],\n",
    "                    data[data['Year']==2012]['Close Amount'],\n",
    "                    data[data['Year']==2013]['Close Amount'],\n",
    "                    data[data['Year']==2014]['Close Amount'],\n",
    "                    data[data['Year']==2015]['Close Amount'])\n",
    "\n",
    "print('p-Value: ',pval)\n",
    "if pval > 0.05:\n",
    "        print('H0 Accepted, median dari Close Amount untuk setiap tahun adalah sama')\n",
    "else:\n",
    "        print('H0 Rejected, median dari Close Amount untuk setiap tahun ada yang tidak sama')"
   ]
  },
  {
   "cell_type": "markdown",
   "metadata": {},
   "source": [
    "Ini dibuktikan dengan perhitungan nilai median Close Amount untuk setiap tahun dari 2003-2015."
   ]
  },
  {
   "cell_type": "code",
   "execution_count": 62,
   "metadata": {},
   "outputs": [
    {
     "data": {
      "text/html": [
       "<div>\n",
       "<style scoped>\n",
       "    .dataframe tbody tr th:only-of-type {\n",
       "        vertical-align: middle;\n",
       "    }\n",
       "\n",
       "    .dataframe tbody tr th {\n",
       "        vertical-align: top;\n",
       "    }\n",
       "\n",
       "    .dataframe thead th {\n",
       "        text-align: right;\n",
       "    }\n",
       "</style>\n",
       "<table border=\"1\" class=\"dataframe\">\n",
       "  <thead>\n",
       "    <tr style=\"text-align: right;\">\n",
       "      <th></th>\n",
       "      <th>Close Amount</th>\n",
       "    </tr>\n",
       "    <tr>\n",
       "      <th>Year</th>\n",
       "      <th></th>\n",
       "    </tr>\n",
       "  </thead>\n",
       "  <tbody>\n",
       "    <tr>\n",
       "      <th>2002</th>\n",
       "      <td>30.00</td>\n",
       "    </tr>\n",
       "    <tr>\n",
       "      <th>2003</th>\n",
       "      <td>35.00</td>\n",
       "    </tr>\n",
       "    <tr>\n",
       "      <th>2004</th>\n",
       "      <td>26.24</td>\n",
       "    </tr>\n",
       "    <tr>\n",
       "      <th>2005</th>\n",
       "      <td>0.00</td>\n",
       "    </tr>\n",
       "    <tr>\n",
       "      <th>2006</th>\n",
       "      <td>0.00</td>\n",
       "    </tr>\n",
       "    <tr>\n",
       "      <th>2007</th>\n",
       "      <td>0.00</td>\n",
       "    </tr>\n",
       "    <tr>\n",
       "      <th>2008</th>\n",
       "      <td>0.00</td>\n",
       "    </tr>\n",
       "    <tr>\n",
       "      <th>2009</th>\n",
       "      <td>0.00</td>\n",
       "    </tr>\n",
       "    <tr>\n",
       "      <th>2010</th>\n",
       "      <td>0.00</td>\n",
       "    </tr>\n",
       "    <tr>\n",
       "      <th>2011</th>\n",
       "      <td>0.00</td>\n",
       "    </tr>\n",
       "    <tr>\n",
       "      <th>2012</th>\n",
       "      <td>0.00</td>\n",
       "    </tr>\n",
       "    <tr>\n",
       "      <th>2013</th>\n",
       "      <td>0.00</td>\n",
       "    </tr>\n",
       "    <tr>\n",
       "      <th>2014</th>\n",
       "      <td>0.00</td>\n",
       "    </tr>\n",
       "    <tr>\n",
       "      <th>2015</th>\n",
       "      <td>0.00</td>\n",
       "    </tr>\n",
       "  </tbody>\n",
       "</table>\n",
       "</div>"
      ],
      "text/plain": [
       "      Close Amount\n",
       "Year              \n",
       "2002         30.00\n",
       "2003         35.00\n",
       "2004         26.24\n",
       "2005          0.00\n",
       "2006          0.00\n",
       "2007          0.00\n",
       "2008          0.00\n",
       "2009          0.00\n",
       "2010          0.00\n",
       "2011          0.00\n",
       "2012          0.00\n",
       "2013          0.00\n",
       "2014          0.00\n",
       "2015          0.00"
      ]
     },
     "execution_count": 62,
     "metadata": {},
     "output_type": "execute_result"
    }
   ],
   "source": [
    "data.groupby('Year')[['Close Amount']].median()"
   ]
  },
  {
   "cell_type": "markdown",
   "metadata": {},
   "source": [
    "Banyaknya penyelesaian klaim dengan _Deny_ membuat median dari biaya penyelesaian klaim bernilai 0 USD sejak tahun 2005-2015."
   ]
  },
  {
   "cell_type": "markdown",
   "metadata": {},
   "source": [
    "# Data Visualisation"
   ]
  },
  {
   "cell_type": "markdown",
   "metadata": {},
   "source": [
    "Untuk kepentingan analisis dan membantu dalam memahami informasi di dalam dataset, maka dataset akan diilustrasikan ke dalam berbagai macam diagram sesuai dengan kebutuhannya. Di bawah ini adalah plot diagram boxplot untuk melihat distribusi data pada kolom 'Close Amount' setelah proses filtering."
   ]
  },
  {
   "cell_type": "code",
   "execution_count": 63,
   "metadata": {},
   "outputs": [
    {
     "data": {
      "image/png": "[encoded data removed]",
      "text/plain": [
       "<Figure size 1800x360 with 1 Axes>"
      ]
     },
     "metadata": {
      "needs_background": "light"
     },
     "output_type": "display_data"
    }
   ],
   "source": [
    "plt.figure(figsize=(25,5))\n",
    "sns.boxplot(x=data['Close Amount'],palette='YlGnBu')\n",
    "plt.show()"
   ]
  },
  {
   "cell_type": "markdown",
   "metadata": {},
   "source": [
    "Sedangkan distribusi untuk setiap tahunnya diilustrasikan oleh diagram di bawah ini."
   ]
  },
  {
   "cell_type": "code",
   "execution_count": 64,
   "metadata": {},
   "outputs": [
    {
     "data": {
      "image/png": "[encoded data removed]",
      "text/plain": [
       "<Figure size 1080x720 with 1 Axes>"
      ]
     },
     "metadata": {
      "needs_background": "light"
     },
     "output_type": "display_data"
    }
   ],
   "source": [
    "plt.figure(figsize=(15,10))\n",
    "sns.boxplot(x='Year',y='Close Amount',data=data, palette='YlGnBu')\n",
    "plt.show()"
   ]
  },
  {
   "cell_type": "code",
   "execution_count": 65,
   "metadata": {},
   "outputs": [
    {
     "data": {
      "image/png": "[encoded data removed]",
      "text/plain": [
       "<Figure size 1152x720 with 1 Axes>"
      ]
     },
     "metadata": {
      "needs_background": "light"
     },
     "output_type": "display_data"
    }
   ],
   "source": [
    "plt.figure(figsize=(16,10))\n",
    "sns.scatterplot(data=data, x='Claim Amount', y='Close Amount', hue='Disposition',palette='YlGnBu_r')\n",
    "plt.show()"
   ]
  },
  {
   "cell_type": "markdown",
   "metadata": {},
   "source": [
    "## 1. Maskapai dan bandara mana yang paling banyak menerima klaim? yang paling banyak menyetujui pemberian klaim?"
   ]
  },
  {
   "cell_type": "code",
   "execution_count": 66,
   "metadata": {},
   "outputs": [],
   "source": [
    "data1 = data.groupby(['Airport Code'])['Claim Number'].count().sort_values(ascending=False)\n",
    "data2 = data.groupby(['Airline Name'])['Claim Number'].count().sort_values(ascending=False)"
   ]
  },
  {
   "cell_type": "code",
   "execution_count": 67,
   "metadata": {},
   "outputs": [
    {
     "data": {
      "application/vnd.plotly.v1+json": {
       "config": {
        "plotlyServerURL": "https://plot.ly"
       },
       "data": [
        {
         "name": "Bandara",
         "type": "bar",
         "x": [
          "LAX",
          "JFK",
          "Unknown",
          "EWR",
          "ORD",
          "MIA",
          "MCO",
          "ATL",
          "SEA",
          "PHX",
          "LAS",
          "PHL",
          "DFW",
          "BOS",
          "FLL",
          "IAD",
          "DEN",
          "LGA",
          "TPA",
          "IAH",
          "MSP",
          "SAN",
          "DTW",
          "BWI",
          "HNL",
          "PDX",
          "OAK",
          "CLT",
          "F",
          "MDW",
          "DCA",
          "PBI",
          "SJU",
          "MSY",
          "SJC",
          "SLC",
          "SNA",
          "SMF",
          "STL",
          "RSW",
          "PIT",
          "SFO",
          "CLE",
          "BNA",
          "CVG",
          "HOU",
          "RDU",
          "IND",
          "BDL",
          "ANC",
          "AUS",
          "SAT",
          "ALB",
          "ABQ",
          "MEM",
          "ONT",
          "RNO",
          "BUF",
          "ORF",
          "GEG",
          "OMA",
          "MKE",
          "CMH",
          "TUS",
          "JAX",
          "OGG",
          "COS",
          "PVD",
          "MHT",
          "RIC",
          "BUR",
          "LGB",
          "DAL",
          "ELP",
          "SDF",
          "KOA",
          "OKC",
          "GSP",
          "SYR",
          "TUL",
          "LIH",
          "PSP",
          "SAV",
          "MCI",
          "BOI",
          "STT",
          "CHS",
          "ISP",
          "LIT",
          "BTV",
          "MSN",
          "BHM",
          "PWM",
          "DAY",
          "DSM",
          "ICT",
          "MYR",
          "GRR",
          "SRQ",
          "SFB",
          "GSO",
          "PNS",
          "ZZX",
          "CAK",
          "FNT",
          "FAT",
          "JAN",
          "SGF",
          "HSV",
          "PIE",
          "ROC",
          "MDT",
          "BZN",
          "FAI",
          "SWF",
          "SBA",
          "GPT",
          "TYS",
          "PHF",
          "EUG",
          "HPN",
          "SHV",
          "RAP",
          "ACY",
          "TRI",
          "AVL",
          "ITO",
          "CRP",
          "LEX",
          "CAE",
          "MFR",
          "MLI",
          "ILM",
          "LBB",
          "ABE",
          "DAB",
          "TLH",
          "BTR",
          "XNA",
          "EYW",
          "MSO",
          "GRB",
          "VPS",
          "SBN",
          "GUM",
          "EGE",
          "GTF",
          "CID",
          "PSC",
          "BIL",
          "AMA",
          "CHO",
          "SBP",
          "MOB",
          "JNU",
          "HRL",
          "TSA",
          "ERI",
          "ASE",
          "FWA",
          "FSD",
          "BLI",
          "DLH",
          "MFE",
          "ATW",
          "CRW",
          "FAR",
          "BQN",
          "LNK",
          "TVC",
          "HDN",
          "RST",
          "MAF",
          "PIA",
          "RDM",
          "STX",
          "IFP",
          "SJT",
          "TOL",
          "CHA",
          "BMI",
          "AEX",
          "BFL",
          "BGR",
          "LAN",
          "LSE",
          "MRY",
          "AZO",
          "MBS",
          "ROA",
          "GRK",
          "LFT",
          "AGS",
          "AVP",
          "RDD",
          "TYR",
          "EWN",
          "GJT",
          "CPR",
          "HLN",
          "KTN",
          "IWA",
          "MTJ",
          "MGM",
          "MLB",
          "HXD",
          "ABI",
          "ELM",
          "PFN",
          "I",
          "CWA",
          "NYL",
          "BGM",
          "ACV",
          "YKM",
          "CLL",
          "ITH",
          "JAC",
          "GNV",
          "FCA",
          "FAY",
          "ABY",
          "INL",
          "EAT",
          "FSM",
          "MLU",
          "LWS",
          "EVV",
          "SUN",
          "SIT",
          "BIS",
          "LBE",
          "SAF",
          "IDA",
          "GPI",
          "ECP",
          "FOE",
          "YUM",
          "IAG",
          "ACT",
          "ABR",
          "OAJ",
          "ADQ",
          "OTH",
          "PSE",
          "RFD",
          "PLN",
          "SUX",
          "ACK",
          "DHN",
          "CMI",
          "GFK",
          "HDQ",
          "CSG",
          "LAW",
          "ALO",
          "GUC",
          "YNG",
          "DRO",
          "MMH",
          "BTM",
          "SCK",
          "FLG",
          "VLD",
          "COU",
          "GTR",
          "GGG",
          "SMX",
          "SPI",
          "PGD",
          "LCH",
          "UTA",
          "BJI",
          "TXK",
          "HTS",
          "MHK",
          "HVN",
          "BQK",
          "LRD",
          "TTN",
          "PGV",
          "MVY",
          "OME",
          "ENV",
          "ALW",
          "BPT",
          "FLO",
          "EAU",
          "PBG",
          "MOT",
          "LYH",
          "YAK",
          "MKK",
          "BKG",
          "IPT",
          "UNV",
          "MOD",
          "ORH",
          "SGU",
          "DBQ",
          "TWF",
          "SPS",
          "ZZZ",
          "BRO",
          "MKG",
          "CIC",
          "LNY",
          "GSN",
          "COD",
          "BFD",
          "SAW",
          "JHM",
          "LWB",
          "PAH",
          "BRD",
          "RKS",
          "PSG",
          "WRG",
          "FOD",
          "CRQ",
          "CYS",
          "ENA",
          "SHR",
          "RHI",
          "JHW",
          "ILG",
          "SBY",
          "GRI",
          "OXR",
          "BLV",
          "WYS",
          "LCK",
          "LMT",
          "CEC",
          "GCK",
          "PSM",
          "BET",
          "HIB",
          "MCN",
          "IMT",
          "ESC",
          "IYK",
          "GCC",
          "CDV",
          "DEC",
          "PUW",
          "SCC",
          "VCT",
          "FNL",
          "PRC",
          "MSL",
          "PKB",
          "PIR",
          "LAR",
          "DLG",
          "AUG",
          "CDC",
          "GLH",
          "GST",
          "PGA",
          "BHB",
          "PIH",
          "BFF",
          "MEI",
          "PIB",
          "ART",
          "CMX",
          "APN",
          "PVC",
          "EKO",
          "HYS",
          "LBF",
          "STC",
          "BRW",
          "STS",
          "CIU",
          "TEX",
          "LEB",
          "DUT",
          "OTZ",
          "CKB",
          "DRT",
          "PUB",
          "ISN",
          "DIK",
          "FMN",
          "AKN",
          "ALS",
          "MGW",
          "SHD",
          "EAR",
          "SGJ",
          "VIS",
          "PDT",
          "HOM",
          "HGR",
          "JQF",
          "JLN",
          "GYY",
          "MBL",
          "VDZ",
          "ATY",
          "MCW",
          "CDR",
          "TBN",
          "AOO",
          "BLF",
          "OWB",
          "OGS",
          "PQI",
          "PVU",
          "DVL",
          "RUT",
          "RKD",
          "JST",
          "RIW",
          "HYA",
          "GBD",
          "PLB",
          "DUJ",
          "APF",
          "MKL",
          "HON",
          "IPL",
          "ISO",
          "AIA",
          "C",
          "SLE",
          "TUP",
          "LAL",
          "LBL",
          "SCE",
          "SOW",
          "MWH",
          "HRO",
          "VEL",
          "SDY",
          "FKL",
          "IWD",
          "HOB",
          "IRK",
          "PNC",
          "DDC",
          "PPG",
          "AHN",
          "ADK",
          "MWA",
          "HKY",
          "JBR",
          "UNK",
          "HII",
          "LNS",
          "RME",
          "TVF",
          "BKW",
          "ROW",
          "SLN",
          "MCE",
          "CEZ",
          "BRL",
          "GRO",
          "OLF",
          "MAZ",
          "GON"
         ],
         "y": [
          9571,
          9201,
          7457,
          6853,
          6828,
          6422,
          6384,
          5858,
          5383,
          5078,
          5046,
          4663,
          4392,
          4103,
          4101,
          3922,
          3916,
          3865,
          3352,
          3249,
          3184,
          3056,
          2951,
          2868,
          2170,
          2041,
          1882,
          1880,
          1727,
          1639,
          1621,
          1528,
          1502,
          1496,
          1464,
          1413,
          1367,
          1338,
          1301,
          1296,
          1290,
          1218,
          1165,
          1160,
          1131,
          1122,
          1106,
          1080,
          1049,
          1000,
          989,
          982,
          947,
          933,
          873,
          849,
          832,
          801,
          795,
          795,
          780,
          780,
          764,
          763,
          760,
          746,
          701,
          682,
          676,
          654,
          642,
          621,
          612,
          610,
          513,
          500,
          479,
          479,
          475,
          447,
          443,
          413,
          404,
          391,
          374,
          365,
          346,
          343,
          333,
          326,
          324,
          321,
          310,
          306,
          291,
          290,
          280,
          275,
          269,
          251,
          241,
          241,
          240,
          234,
          233,
          225,
          221,
          214,
          206,
          198,
          198,
          198,
          197,
          193,
          193,
          189,
          188,
          181,
          180,
          180,
          167,
          160,
          157,
          154,
          150,
          149,
          146,
          143,
          142,
          142,
          136,
          136,
          135,
          135,
          129,
          128,
          125,
          121,
          121,
          120,
          120,
          119,
          118,
          118,
          117,
          116,
          110,
          109,
          107,
          106,
          104,
          99,
          98,
          98,
          97,
          96,
          93,
          91,
          90,
          86,
          86,
          85,
          83,
          83,
          82,
          81,
          79,
          79,
          78,
          78,
          76,
          76,
          74,
          74,
          71,
          68,
          68,
          66,
          66,
          66,
          63,
          62,
          62,
          61,
          60,
          60,
          60,
          59,
          59,
          59,
          58,
          57,
          57,
          56,
          55,
          54,
          53,
          53,
          53,
          52,
          52,
          51,
          51,
          50,
          49,
          47,
          46,
          46,
          46,
          45,
          45,
          44,
          44,
          44,
          44,
          43,
          41,
          41,
          41,
          38,
          37,
          37,
          36,
          36,
          36,
          36,
          36,
          35,
          35,
          35,
          35,
          34,
          34,
          34,
          33,
          32,
          32,
          32,
          31,
          31,
          31,
          30,
          30,
          30,
          29,
          29,
          29,
          29,
          28,
          28,
          27,
          26,
          26,
          26,
          25,
          25,
          24,
          24,
          24,
          23,
          23,
          23,
          22,
          22,
          22,
          22,
          22,
          21,
          21,
          21,
          21,
          21,
          20,
          19,
          19,
          19,
          19,
          19,
          19,
          18,
          18,
          18,
          18,
          18,
          17,
          17,
          17,
          17,
          16,
          15,
          15,
          15,
          14,
          14,
          14,
          14,
          14,
          14,
          14,
          14,
          13,
          13,
          13,
          13,
          13,
          13,
          13,
          13,
          12,
          12,
          12,
          11,
          11,
          11,
          11,
          11,
          11,
          11,
          10,
          10,
          10,
          10,
          9,
          9,
          9,
          9,
          9,
          9,
          9,
          9,
          9,
          9,
          9,
          9,
          8,
          8,
          8,
          8,
          8,
          8,
          8,
          8,
          8,
          7,
          7,
          7,
          7,
          7,
          7,
          7,
          7,
          7,
          7,
          7,
          6,
          6,
          6,
          6,
          6,
          6,
          6,
          6,
          6,
          6,
          6,
          6,
          6,
          6,
          6,
          6,
          6,
          6,
          5,
          5,
          5,
          5,
          5,
          5,
          5,
          5,
          5,
          5,
          5,
          5,
          4,
          4,
          4,
          4,
          4,
          4,
          4,
          4,
          4,
          4,
          4,
          4,
          4,
          4,
          4,
          3,
          3,
          3,
          3,
          3,
          3,
          3,
          3,
          3,
          3,
          3,
          3,
          3,
          3,
          3,
          3,
          3,
          3,
          3,
          3,
          3,
          2,
          2,
          2,
          2,
          2,
          2,
          2,
          2,
          2,
          2,
          2,
          2,
          2,
          1,
          1,
          1,
          1,
          1,
          1,
          1,
          1,
          1,
          1,
          1,
          1,
          1,
          1,
          1,
          1,
          1,
          1,
          1,
          1,
          1,
          1,
          1,
          1,
          1,
          1,
          1,
          1,
          1,
          1,
          1
         ]
        },
        {
         "name": "Maskapai",
         "type": "bar",
         "x": [
          "American Airlines",
          "Delta Air Lines",
          "UAL",
          "Southwest Airlines",
          "Northwest Airlines",
          "USAir",
          "Continental Airlines",
          "Delta Air Lines  ",
          "Jet Blue",
          "Southwest Airlines  ",
          "American Airlines  ",
          "UAL  ",
          "Alaska Airlines",
          "AirTran Airlines",
          "USAir  ",
          "Frontier Airlines",
          "Spirit Airlines",
          "America West",
          "Alaska Airlines  ",
          "Continental Airlines  ",
          "Air Tran Airlines(do not use)",
          "Air Canada",
          "Allegiant Air",
          "British Airways",
          "Hawaiian Airlines",
          "Virgin Atlantic",
          "British Airways  ",
          "Air France",
          "Lufthansa",
          "Hawaiian Airlines  ",
          "Virgin America",
          "American West",
          "Aloha Airlines",
          "Lufthansa  ",
          "Midwest Express Airlines",
          "Delta (Song)",
          "America Trans Air",
          "Horizon Air",
          "ATA Aerocondor",
          "American Eagle",
          "KLM Royal Dutch Airlines",
          "USA 3000 (U5)",
          "Sun Country Airlines Inc",
          "Independence Air",
          "Cathay Pacific - CX",
          "Aero Mexico",
          "Qantus Airways",
          "Westjet Airlines Ltd  ",
          "US Express",
          "Lan Airlines",
          "Westjet Airlines Ltd",
          "Emirates",
          "Air Jamaica",
          "Alitalia",
          "Singapore Airlines",
          "Aer Lingus",
          "Mexicana",
          "Qantus Airways  ",
          "Iberia Airlines",
          "Sun Country Airlines Inc  ",
          "Swiss Air",
          "Copa Airlines",
          "TAM airlines",
          "Continental Express Inc",
          "Korean Airlines",
          "Turkish Airlines  ",
          "Carribean Airlines",
          "Swiss Air  ",
          "Skywest Airlines Inc USA",
          "Northwest International Airways Ltd",
          "China Airlines",
          "Korean Airlines  ",
          "Scandinavian Airlines Systems",
          "EVA airlines",
          "American Eagle  ",
          "Southeast Airlines",
          "Asiana Airlines",
          "Air New Zealand",
          "Air India",
          "Tran Meridian Airlines",
          "Aero Flot",
          "Qatar airlines",
          "Alitalia  ",
          "Singapore Airlines  ",
          "Japan Airlines",
          "Northwest Airlines  ",
          "EL AL Israeli Airlines",
          "Avianca  ",
          "Scandinavian Airlines Systems  ",
          "EL AL Israeli Airlines  ",
          "Direct Air",
          "Austrian Airlines",
          "Island Air",
          "Iceland Air  ",
          "Air China",
          "OMNI Air Express- (OY)",
          "South African Airways",
          "Great Lakes Airline",
          "Etihad Airways",
          "Turkish Airlines",
          "TACA airlines",
          "Iceland Air",
          "Avianca",
          "Cape Air",
          "LOT Polish Airlines",
          "South African Airways  ",
          "Jet Airways",
          "Brit Air",
          "Midwest Express Airlines  ",
          "Volaris Airlines",
          "Air Berlin",
          "Cape Air  ",
          "Comair Inc",
          "Malaysian Airline System",
          "China Airlines  ",
          "Qantas Airlines",
          "Porter Airlines",
          "Midway Airlines",
          "Go",
          "Ryan Air",
          "Aerolineas Argentinas",
          "TAP Portugal",
          "North American Airlines",
          "Pakistan International Airlines Cor",
          "Austrian Airlines  ",
          "Cayman Airlines",
          "Royal Jordanian Airline  ",
          "Finnair",
          "Vision Airlines",
          "Pan American Airways Corp.",
          "Japan Airlines  ",
          "Transaero Airlines",
          "All Nippon Airways  ",
          "All Nippon Airways",
          "Pakistan International Airlines Cor  ",
          "V Australia",
          "China Eastern Airlines  ",
          "CanJet",
          "Olympic Airways",
          "Polish Airlines",
          "Champion Airlines",
          "Egypt Air  ",
          "Ethopian Airlines",
          "Air Jamaica  ",
          "China Eastern Airlines",
          "Philippine Airlines",
          "Frontier Aviation Inc",
          "SkyBus",
          "Saudi Arabian Airlines  ",
          "Mesa Airlines",
          "Royal Dutch Airlines",
          "Aeroflot Russian International",
          "SunWing Airlines",
          "Santa Barbara Airlines",
          "Egypt Air",
          "Hooters Air (PACE)",
          "Czech Airlines",
          "Condor Air",
          "Air Pacific",
          "Kuwait Airlines  ",
          "Silverjet",
          "American Central",
          "Mexicana  ",
          "Skywest Airlines Australia",
          "Saudi Arabian Airlines",
          "British West Indies Airlines",
          "LOT Polish Airlines  ",
          "Civil Aviation - Non-Commercial Carrier",
          "Arik Airlines",
          "Thai Airways",
          "Indian Airlines",
          "Hainan Airlines",
          "Virgin Express",
          "Cameroon Airlines",
          "Bahama Airlines",
          "Bahama Airlines  ",
          "Jet Train Airlines",
          "Pace Airlines",
          "Thai Airways  ",
          "Norwegian Airlines",
          "Royal Dutch Airlines  ",
          "JALways Airlines",
          "Brit Air  ",
          "Royal Jordanian Airline",
          "Canadian Airlines",
          "Cayman Airlines  ",
          "Air Tahiti Nui",
          "KLM Royal Dutch Airlines  ",
          "Air New Zealand  ",
          "Xtra Airways",
          "Malev Hungarian Airlines",
          "Republic Airways",
          "Skywest Airlines Inc USA  ",
          "Aloha Islandair Inc",
          "Continental Express Inc  ",
          "Air Portugal",
          "China Southern Airlines",
          "Kuwait Airlines",
          "Sata",
          "Monarch Airlines Ltd",
          "Island Airlines Nantucket",
          "Thomas Cook Airline",
          "Kuwait Airways",
          "British Midland Airways Ltd",
          "Aero California",
          "Mountain West",
          "Polish Airlines  ",
          "SonAir",
          "Air Europa",
          "Skywest Airlines Australia  ",
          "Aires Airline",
          "Royal Air Maroc",
          "Monarch Airlines Ltd  ",
          "America West  ",
          "Seaborne Airlines",
          "TWA",
          "Commercial Airways",
          "Aviaco  ",
          "Virgin Express  ",
          "Webjet",
          "Western Pacific Airlines Inc Westpac",
          "Aero Lloyd",
          "XL Airways",
          "Tower Air",
          "Air Phillipines",
          "Air Belgium International S A",
          "Kuwait Airways  ",
          "Britannia Airways Ltd",
          "Air 2000 Ltd Great Britain",
          "AeroGal",
          "Czechoslavak Airlines",
          "Iran Air",
          "Air Botina",
          "Cameroon Airlines  ",
          "Harmony Airlines",
          "Aeromar",
          "Aero Lineas Mexicanas J S S A De C V",
          "Grupo TACA",
          "Travelspan",
          "Pacific Southwest Airlines Inc",
          "Eurowings",
          "Aerosvit Airlines",
          "ERA aviation Air",
          "Malaysian Airline System  ",
          "Cubana",
          "Air Pacific  ",
          "Allegheny Airlines Inc",
          "Martinair",
          "Middle East Airlines  ",
          "Estonia Air",
          "Air Portugal  ",
          "Aviation Advantage Inc",
          "Greyhound Air",
          "Carnival Airlines",
          "Western Pacific Airlines Inc Westpac  ",
          "Air Ukraine International  ",
          "Primaris Airlines",
          "Surinam Airways",
          "Middle East Airlines",
          "Air Nippon",
          "Air Inter Europe",
          "Ryan Air ",
          "Japan Air Systems  ",
          "Sunworld International Airlines Inc",
          "Liat Airlines",
          "Aerosweet Airlines",
          "Brussels Airlines",
          "British Midland Airways Ltd  ",
          "China Southern Airlines  ",
          "Canadian Airlines  ",
          "Vieques Air",
          "Big Sky Airlines",
          "Aviaco",
          "Arika Isreali Airlines  ",
          "Arika Isreali Airlines",
          "American Central  ",
          "Aero Costa Rica",
          "Air Labrador",
          "Aloha Airlines  ",
          "Air Malta",
          "Air Ukraine International",
          "Wiggins Airways",
          "Air Southwest Ltd",
          "Comair Inc  ",
          "Pacific Southwest Airlines Inc  ",
          "Croatia Airlines",
          "Croatia Airlines  ",
          "Mountain Air Express Inc",
          "Montair Aviation Inc  ",
          "Montair Aviation Inc",
          "Piedmont Airlines Inc",
          "Piedmont Airlines Inc  ",
          "Aerolitoral",
          "Midway Airlines  ",
          "Maxair",
          "Malev Hungarian Airlines  ",
          "Reno Air",
          "Reno Air  ",
          "Royal Wings Airlines",
          "JAT  ",
          "JAT",
          "Interjet",
          "Indian Airlines  ",
          "Air Afrique",
          "Guyana Airways Corporation  ",
          "Guyana Airways Corporation",
          "Globe Span Airlines",
          "Frontier Aviation Inc  ",
          "Air Aruba",
          "Eurowings  ",
          "Air Atlanta Icelandic",
          "Aero Peru",
          "Air Atlantic Ltd",
          "Sun Jet International Airlines Inc",
          "Czech Airlines  ",
          "Cubana  ",
          "vivaAerobus"
         ],
         "y": [
          23000,
          22045,
          18145,
          16150,
          12422,
          12253,
          12145,
          8944,
          8270,
          7857,
          6756,
          6312,
          6276,
          4091,
          4043,
          2521,
          2274,
          2071,
          1946,
          1830,
          1229,
          1173,
          1154,
          1088,
          1026,
          872,
          866,
          787,
          693,
          622,
          572,
          544,
          512,
          498,
          494,
          484,
          435,
          434,
          389,
          388,
          337,
          335,
          261,
          232,
          210,
          206,
          203,
          202,
          172,
          168,
          154,
          143,
          139,
          134,
          132,
          130,
          128,
          126,
          125,
          117,
          117,
          116,
          110,
          105,
          100,
          95,
          95,
          91,
          85,
          84,
          82,
          82,
          81,
          81,
          80,
          76,
          74,
          74,
          72,
          72,
          66,
          64,
          64,
          63,
          62,
          62,
          61,
          61,
          60,
          60,
          59,
          56,
          55,
          53,
          52,
          52,
          51,
          50,
          49,
          49,
          47,
          44,
          44,
          43,
          40,
          40,
          36,
          32,
          32,
          32,
          31,
          30,
          28,
          27,
          27,
          26,
          26,
          26,
          25,
          25,
          25,
          24,
          24,
          24,
          23,
          22,
          22,
          21,
          21,
          21,
          21,
          21,
          21,
          20,
          19,
          19,
          19,
          19,
          18,
          18,
          18,
          17,
          17,
          17,
          17,
          16,
          16,
          16,
          16,
          15,
          15,
          15,
          15,
          14,
          14,
          14,
          14,
          14,
          13,
          13,
          13,
          13,
          13,
          12,
          12,
          12,
          12,
          12,
          12,
          12,
          12,
          12,
          12,
          12,
          11,
          11,
          11,
          11,
          11,
          10,
          10,
          10,
          10,
          10,
          10,
          9,
          8,
          8,
          8,
          8,
          8,
          8,
          7,
          7,
          7,
          7,
          7,
          7,
          7,
          6,
          6,
          6,
          6,
          6,
          6,
          6,
          6,
          6,
          6,
          5,
          5,
          5,
          5,
          5,
          5,
          5,
          5,
          5,
          4,
          4,
          4,
          4,
          4,
          4,
          4,
          4,
          4,
          4,
          4,
          3,
          3,
          3,
          3,
          3,
          3,
          3,
          3,
          3,
          3,
          3,
          3,
          3,
          3,
          3,
          3,
          3,
          3,
          3,
          2,
          2,
          2,
          2,
          2,
          2,
          2,
          2,
          2,
          2,
          2,
          2,
          2,
          2,
          2,
          2,
          2,
          2,
          1,
          1,
          1,
          1,
          1,
          1,
          1,
          1,
          1,
          1,
          1,
          1,
          1,
          1,
          1,
          1,
          1,
          1,
          1,
          1,
          1,
          1,
          1,
          1,
          1,
          1,
          1,
          1,
          1,
          1,
          1,
          1,
          1,
          1,
          1,
          1,
          1,
          1,
          1,
          1,
          1,
          1,
          1,
          1,
          1,
          1,
          1,
          1,
          1,
          1,
          1
         ]
        }
       ],
       "layout": {
        "template": {
         "data": {
          "bar": [
           {
            "error_x": {
             "color": "#2a3f5f"
            },
            "error_y": {
             "color": "#2a3f5f"
            },
            "marker": {
             "line": {
              "color": "#E5ECF6",
              "width": 0.5
             },
             "pattern": {
              "fillmode": "overlay",
              "size": 10,
              "solidity": 0.2
             }
            },
            "type": "bar"
           }
          ],
          "barpolar": [
           {
            "marker": {
             "line": {
              "color": "#E5ECF6",
              "width": 0.5
             },
             "pattern": {
              "fillmode": "overlay",
              "size": 10,
              "solidity": 0.2
             }
            },
            "type": "barpolar"
           }
          ],
          "carpet": [
           {
            "aaxis": {
             "endlinecolor": "#2a3f5f",
             "gridcolor": "white",
             "linecolor": "white",
             "minorgridcolor": "white",
             "startlinecolor": "#2a3f5f"
            },
            "baxis": {
             "endlinecolor": "#2a3f5f",
             "gridcolor": "white",
             "linecolor": "white",
             "minorgridcolor": "white",
             "startlinecolor": "#2a3f5f"
            },
            "type": "carpet"
           }
          ],
          "choropleth": [
           {
            "colorbar": {
             "outlinewidth": 0,
             "ticks": ""
            },
            "type": "choropleth"
           }
          ],
          "contour": [
           {
            "colorbar": {
             "outlinewidth": 0,
             "ticks": ""
            },
            "colorscale": [
             [
              0,
              "#0d0887"
             ],
             [
              0.1111111111111111,
              "#46039f"
             ],
             [
              0.2222222222222222,
              "#7201a8"
             ],
             [
              0.3333333333333333,
              "#9c179e"
             ],
             [
              0.4444444444444444,
              "#bd3786"
             ],
             [
              0.5555555555555556,
              "#d8576b"
             ],
             [
              0.6666666666666666,
              "#ed7953"
             ],
             [
              0.7777777777777778,
              "#fb9f3a"
             ],
             [
              0.8888888888888888,
              "#fdca26"
             ],
             [
              1,
              "#f0f921"
             ]
            ],
            "type": "contour"
           }
          ],
          "contourcarpet": [
           {
            "colorbar": {
             "outlinewidth": 0,
             "ticks": ""
            },
            "type": "contourcarpet"
           }
          ],
          "heatmap": [
           {
            "colorbar": {
             "outlinewidth": 0,
             "ticks": ""
            },
            "colorscale": [
             [
              0,
              "#0d0887"
             ],
             [
              0.1111111111111111,
              "#46039f"
             ],
             [
              0.2222222222222222,
              "#7201a8"
             ],
             [
              0.3333333333333333,
              "#9c179e"
             ],
             [
              0.4444444444444444,
              "#bd3786"
             ],
             [
              0.5555555555555556,
              "#d8576b"
             ],
             [
              0.6666666666666666,
              "#ed7953"
             ],
             [
              0.7777777777777778,
              "#fb9f3a"
             ],
             [
              0.8888888888888888,
              "#fdca26"
             ],
             [
              1,
              "#f0f921"
             ]
            ],
            "type": "heatmap"
           }
          ],
          "heatmapgl": [
           {
            "colorbar": {
             "outlinewidth": 0,
             "ticks": ""
            },
            "colorscale": [
             [
              0,
              "#0d0887"
             ],
             [
              0.1111111111111111,
              "#46039f"
             ],
             [
              0.2222222222222222,
              "#7201a8"
             ],
             [
              0.3333333333333333,
              "#9c179e"
             ],
             [
              0.4444444444444444,
              "#bd3786"
             ],
             [
              0.5555555555555556,
              "#d8576b"
             ],
             [
              0.6666666666666666,
              "#ed7953"
             ],
             [
              0.7777777777777778,
              "#fb9f3a"
             ],
             [
              0.8888888888888888,
              "#fdca26"
             ],
             [
              1,
              "#f0f921"
             ]
            ],
            "type": "heatmapgl"
           }
          ],
          "histogram": [
           {
            "marker": {
             "pattern": {
              "fillmode": "overlay",
              "size": 10,
              "solidity": 0.2
             }
            },
            "type": "histogram"
           }
          ],
          "histogram2d": [
           {
            "colorbar": {
             "outlinewidth": 0,
             "ticks": ""
            },
            "colorscale": [
             [
              0,
              "#0d0887"
             ],
             [
              0.1111111111111111,
              "#46039f"
             ],
             [
              0.2222222222222222,
              "#7201a8"
             ],
             [
              0.3333333333333333,
              "#9c179e"
             ],
             [
              0.4444444444444444,
              "#bd3786"
             ],
             [
              0.5555555555555556,
              "#d8576b"
             ],
             [
              0.6666666666666666,
              "#ed7953"
             ],
             [
              0.7777777777777778,
              "#fb9f3a"
             ],
             [
              0.8888888888888888,
              "#fdca26"
             ],
             [
              1,
              "#f0f921"
             ]
            ],
            "type": "histogram2d"
           }
          ],
          "histogram2dcontour": [
           {
            "colorbar": {
             "outlinewidth": 0,
             "ticks": ""
            },
            "colorscale": [
             [
              0,
              "#0d0887"
             ],
             [
              0.1111111111111111,
              "#46039f"
             ],
             [
              0.2222222222222222,
              "#7201a8"
             ],
             [
              0.3333333333333333,
              "#9c179e"
             ],
             [
              0.4444444444444444,
              "#bd3786"
             ],
             [
              0.5555555555555556,
              "#d8576b"
             ],
             [
              0.6666666666666666,
              "#ed7953"
             ],
             [
              0.7777777777777778,
              "#fb9f3a"
             ],
             [
              0.8888888888888888,
              "#fdca26"
             ],
             [
              1,
              "#f0f921"
             ]
            ],
            "type": "histogram2dcontour"
           }
          ],
          "mesh3d": [
           {
            "colorbar": {
             "outlinewidth": 0,
             "ticks": ""
            },
            "type": "mesh3d"
           }
          ],
          "parcoords": [
           {
            "line": {
             "colorbar": {
              "outlinewidth": 0,
              "ticks": ""
             }
            },
            "type": "parcoords"
           }
          ],
          "pie": [
           {
            "automargin": true,
            "type": "pie"
           }
          ],
          "scatter": [
           {
            "fillpattern": {
             "fillmode": "overlay",
             "size": 10,
             "solidity": 0.2
            },
            "type": "scatter"
           }
          ],
          "scatter3d": [
           {
            "line": {
             "colorbar": {
              "outlinewidth": 0,
              "ticks": ""
             }
            },
            "marker": {
             "colorbar": {
              "outlinewidth": 0,
              "ticks": ""
             }
            },
            "type": "scatter3d"
           }
          ],
          "scattercarpet": [
           {
            "marker": {
             "colorbar": {
              "outlinewidth": 0,
              "ticks": ""
             }
            },
            "type": "scattercarpet"
           }
          ],
          "scattergeo": [
           {
            "marker": {
             "colorbar": {
              "outlinewidth": 0,
              "ticks": ""
             }
            },
            "type": "scattergeo"
           }
          ],
          "scattergl": [
           {
            "marker": {
             "colorbar": {
              "outlinewidth": 0,
              "ticks": ""
             }
            },
            "type": "scattergl"
           }
          ],
          "scattermapbox": [
           {
            "marker": {
             "colorbar": {
              "outlinewidth": 0,
              "ticks": ""
             }
            },
            "type": "scattermapbox"
           }
          ],
          "scatterpolar": [
           {
            "marker": {
             "colorbar": {
              "outlinewidth": 0,
              "ticks": ""
             }
            },
            "type": "scatterpolar"
           }
          ],
          "scatterpolargl": [
           {
            "marker": {
             "colorbar": {
              "outlinewidth": 0,
              "ticks": ""
             }
            },
            "type": "scatterpolargl"
           }
          ],
          "scatterternary": [
           {
            "marker": {
             "colorbar": {
              "outlinewidth": 0,
              "ticks": ""
             }
            },
            "type": "scatterternary"
           }
          ],
          "surface": [
           {
            "colorbar": {
             "outlinewidth": 0,
             "ticks": ""
            },
            "colorscale": [
             [
              0,
              "#0d0887"
             ],
             [
              0.1111111111111111,
              "#46039f"
             ],
             [
              0.2222222222222222,
              "#7201a8"
             ],
             [
              0.3333333333333333,
              "#9c179e"
             ],
             [
              0.4444444444444444,
              "#bd3786"
             ],
             [
              0.5555555555555556,
              "#d8576b"
             ],
             [
              0.6666666666666666,
              "#ed7953"
             ],
             [
              0.7777777777777778,
              "#fb9f3a"
             ],
             [
              0.8888888888888888,
              "#fdca26"
             ],
             [
              1,
              "#f0f921"
             ]
            ],
            "type": "surface"
           }
          ],
          "table": [
           {
            "cells": {
             "fill": {
              "color": "#EBF0F8"
             },
             "line": {
              "color": "white"
             }
            },
            "header": {
             "fill": {
              "color": "#C8D4E3"
             },
             "line": {
              "color": "white"
             }
            },
            "type": "table"
           }
          ]
         },
         "layout": {
          "annotationdefaults": {
           "arrowcolor": "#2a3f5f",
           "arrowhead": 0,
           "arrowwidth": 1
          },
          "autotypenumbers": "strict",
          "coloraxis": {
           "colorbar": {
            "outlinewidth": 0,
            "ticks": ""
           }
          },
          "colorscale": {
           "diverging": [
            [
             0,
             "#8e0152"
            ],
            [
             0.1,
             "#c51b7d"
            ],
            [
             0.2,
             "#de77ae"
            ],
            [
             0.3,
             "#f1b6da"
            ],
            [
             0.4,
             "#fde0ef"
            ],
            [
             0.5,
             "#f7f7f7"
            ],
            [
             0.6,
             "#e6f5d0"
            ],
            [
             0.7,
             "#b8e186"
            ],
            [
             0.8,
             "#7fbc41"
            ],
            [
             0.9,
             "#4d9221"
            ],
            [
             1,
             "#276419"
            ]
           ],
           "sequential": [
            [
             0,
             "#0d0887"
            ],
            [
             0.1111111111111111,
             "#46039f"
            ],
            [
             0.2222222222222222,
             "#7201a8"
            ],
            [
             0.3333333333333333,
             "#9c179e"
            ],
            [
             0.4444444444444444,
             "#bd3786"
            ],
            [
             0.5555555555555556,
             "#d8576b"
            ],
            [
             0.6666666666666666,
             "#ed7953"
            ],
            [
             0.7777777777777778,
             "#fb9f3a"
            ],
            [
             0.8888888888888888,
             "#fdca26"
            ],
            [
             1,
             "#f0f921"
            ]
           ],
           "sequentialminus": [
            [
             0,
             "#0d0887"
            ],
            [
             0.1111111111111111,
             "#46039f"
            ],
            [
             0.2222222222222222,
             "#7201a8"
            ],
            [
             0.3333333333333333,
             "#9c179e"
            ],
            [
             0.4444444444444444,
             "#bd3786"
            ],
            [
             0.5555555555555556,
             "#d8576b"
            ],
            [
             0.6666666666666666,
             "#ed7953"
            ],
            [
             0.7777777777777778,
             "#fb9f3a"
            ],
            [
             0.8888888888888888,
             "#fdca26"
            ],
            [
             1,
             "#f0f921"
            ]
           ]
          },
          "colorway": [
           "#636efa",
           "#EF553B",
           "#00cc96",
           "#ab63fa",
           "#FFA15A",
           "#19d3f3",
           "#FF6692",
           "#B6E880",
           "#FF97FF",
           "#FECB52"
          ],
          "font": {
           "color": "#2a3f5f"
          },
          "geo": {
           "bgcolor": "white",
           "lakecolor": "white",
           "landcolor": "#E5ECF6",
           "showlakes": true,
           "showland": true,
           "subunitcolor": "white"
          },
          "hoverlabel": {
           "align": "left"
          },
          "hovermode": "closest",
          "mapbox": {
           "style": "light"
          },
          "paper_bgcolor": "white",
          "plot_bgcolor": "#E5ECF6",
          "polar": {
           "angularaxis": {
            "gridcolor": "white",
            "linecolor": "white",
            "ticks": ""
           },
           "bgcolor": "#E5ECF6",
           "radialaxis": {
            "gridcolor": "white",
            "linecolor": "white",
            "ticks": ""
           }
          },
          "scene": {
           "xaxis": {
            "backgroundcolor": "#E5ECF6",
            "gridcolor": "white",
            "gridwidth": 2,
            "linecolor": "white",
            "showbackground": true,
            "ticks": "",
            "zerolinecolor": "white"
           },
           "yaxis": {
            "backgroundcolor": "#E5ECF6",
            "gridcolor": "white",
            "gridwidth": 2,
            "linecolor": "white",
            "showbackground": true,
            "ticks": "",
            "zerolinecolor": "white"
           },
           "zaxis": {
            "backgroundcolor": "#E5ECF6",
            "gridcolor": "white",
            "gridwidth": 2,
            "linecolor": "white",
            "showbackground": true,
            "ticks": "",
            "zerolinecolor": "white"
           }
          },
          "shapedefaults": {
           "line": {
            "color": "#2a3f5f"
           }
          },
          "ternary": {
           "aaxis": {
            "gridcolor": "white",
            "linecolor": "white",
            "ticks": ""
           },
           "baxis": {
            "gridcolor": "white",
            "linecolor": "white",
            "ticks": ""
           },
           "bgcolor": "#E5ECF6",
           "caxis": {
            "gridcolor": "white",
            "linecolor": "white",
            "ticks": ""
           }
          },
          "title": {
           "x": 0.05
          },
          "xaxis": {
           "automargin": true,
           "gridcolor": "white",
           "linecolor": "white",
           "ticks": "",
           "title": {
            "standoff": 15
           },
           "zerolinecolor": "white",
           "zerolinewidth": 2
          },
          "yaxis": {
           "automargin": true,
           "gridcolor": "white",
           "linecolor": "white",
           "ticks": "",
           "title": {
            "standoff": 15
           },
           "zerolinecolor": "white",
           "zerolinewidth": 2
          }
         }
        },
        "updatemenus": [
         {
          "buttons": [
           {
            "args": [
             {
              "visible": [
               true,
               true
              ]
             },
             {
              "title": "Bandara dan Maskapai"
             }
            ],
            "label": "Both",
            "method": "update"
           },
           {
            "args": [
             {
              "visible": [
               true,
               false
              ]
             },
             {
              "title": "Bandara"
             }
            ],
            "label": "Bandara",
            "method": "update"
           },
           {
            "args": [
             {
              "visible": [
               false,
               true
              ]
             },
             {
              "title": "Maskapai"
             }
            ],
            "label": "Maskapai",
            "method": "update"
           }
          ],
          "direction": "left",
          "type": "buttons"
         }
        ]
       }
      }
     },
     "metadata": {},
     "output_type": "display_data"
    }
   ],
   "source": [
    "fig = go.Figure(data=[\n",
    "                        go.Bar(name='Bandara',x=data1.index,y=data1.values),\n",
    "                        go.Bar(name='Maskapai',x=data2.index,y=data2.values)\n",
    "                    ])\n",
    "\n",
    "fig.update_layout(updatemenus=[\n",
    "                                dict(type=\"buttons\",direction=\"left\",buttons=list([\n",
    "                                    dict(label=\"Both\",method=\"update\",args=[{\"visible\": [True, True]},{\"title\": \"Bandara dan Maskapai\"}]),\n",
    "                                    dict(label=\"Bandara\",method=\"update\",args=[{\"visible\": [True, False]},{\"title\": \"Bandara\"}]),\n",
    "                                    dict(label=\"Maskapai\",method=\"update\",args=[{\"visible\": [False, True]},{\"title\": \"Maskapai\"}]),\n",
    "                                    ]),\n",
    "                                )\n",
    "                                ])\n",
    "fig.show()"
   ]
  },
  {
   "cell_type": "markdown",
   "metadata": {},
   "source": [
    "**Interpretasi**\n",
    "\n",
    "- Bandara yang paling banyak menerima klaim adalah LAX dengan jumlah lebih dari 9571 pengaduan sejak tahun 2002 hingga 2015.\n",
    "- Maskapai yang paling banyak menerima klaim adalah American Airlines dengan jumlah klaim 23,000 pengaduan dari tahun 2002-2015"
   ]
  },
  {
   "cell_type": "markdown",
   "metadata": {},
   "source": [
    "## 2. Apa saja klaim yang diterima? dimana lokasi pengajuannya? dan bagaimana penyelesaiaannya?"
   ]
  },
  {
   "cell_type": "code",
   "execution_count": 68,
   "metadata": {},
   "outputs": [
    {
     "data": {
      "application/vnd.plotly.v1+json": {
       "config": {
        "plotlyServerURL": "https://plot.ly"
       },
       "data": [
        {
         "branchvalues": "total",
         "domain": {
          "x": [
           0,
           1
          ],
          "y": [
           0,
           1
          ]
         },
         "hovertemplate": "labels=%{label}<br>Close Amount=%{value}<br>parent=%{parent}<br>id=%{id}<extra></extra>",
         "ids": [
          "Property Damage/Bus Station/Approve in Full",
          "Complaint/Checked Baggage/Approve in Full",
          "Employee Loss (MPCECA)/Checked Baggage/Approve in Full",
          "Motor Vehicle/Checked Baggage/Approve in Full",
          "Passenger Property Loss/Checked Baggage/Approve in Full",
          "Passenger Theft/Checked Baggage/Approve in Full",
          "Personal Injury/Checked Baggage/Approve in Full",
          "Property Damage/Checked Baggage/Approve in Full",
          "Unknown/Checked Baggage/Approve in Full",
          "Complaint/Checkpoint/Approve in Full",
          "Employee Loss (MPCECA)/Checkpoint/Approve in Full",
          "Passenger Property Loss/Checkpoint/Approve in Full",
          "Passenger Theft/Checkpoint/Approve in Full",
          "Personal Injury/Checkpoint/Approve in Full",
          "Property Damage/Checkpoint/Approve in Full",
          "Unknown/Checkpoint/Approve in Full",
          "Employee Loss (MPCECA)/Motor Vehicle/Approve in Full",
          "Motor Vehicle/Motor Vehicle/Approve in Full",
          "Passenger Property Loss/Motor Vehicle/Approve in Full",
          "Personal Injury/Motor Vehicle/Approve in Full",
          "Property Damage/Motor Vehicle/Approve in Full",
          "Unknown/Motor Vehicle/Approve in Full",
          "Complaint/Other/Approve in Full",
          "Employee Loss (MPCECA)/Other/Approve in Full",
          "Motor Vehicle/Other/Approve in Full",
          "Passenger Property Loss/Other/Approve in Full",
          "Personal Injury/Other/Approve in Full",
          "Property Damage/Other/Approve in Full",
          "Unknown/Other/Approve in Full",
          "Motor Vehicle/Unknown/Approve in Full",
          "Passenger Property Loss/Unknown/Approve in Full",
          "Passenger Theft/Unknown/Approve in Full",
          "Property Damage/Unknown/Approve in Full",
          "Unknown/Unknown/Approve in Full",
          "Employee Loss (MPCECA)/Checked Baggage/Canceled",
          "Motor Vehicle/Checked Baggage/Canceled",
          "Passenger Property Loss/Checked Baggage/Canceled",
          "Passenger Theft/Checked Baggage/Canceled",
          "Personal Injury/Checked Baggage/Canceled",
          "Property Damage/Checked Baggage/Canceled",
          "Unknown/Checked Baggage/Canceled",
          "Employee Loss (MPCECA)/Checkpoint/Canceled",
          "Passenger Property Loss/Checkpoint/Canceled",
          "Passenger Theft/Checkpoint/Canceled",
          "Personal Injury/Checkpoint/Canceled",
          "Property Damage/Checkpoint/Canceled",
          "Unknown/Checkpoint/Canceled",
          "Motor Vehicle/Motor Vehicle/Canceled",
          "Passenger Property Loss/Motor Vehicle/Canceled",
          "Passenger Theft/Motor Vehicle/Canceled",
          "Personal Injury/Motor Vehicle/Canceled",
          "Property Damage/Motor Vehicle/Canceled",
          "Unknown/Motor Vehicle/Canceled",
          "Employee Loss (MPCECA)/Other/Canceled",
          "Motor Vehicle/Other/Canceled",
          "Passenger Property Loss/Other/Canceled",
          "Personal Injury/Other/Canceled",
          "Property Damage/Other/Canceled",
          "Unknown/Other/Canceled",
          "Passenger Property Loss/Unknown/Canceled",
          "Personal Injury/Unknown/Canceled",
          "Property Damage/Unknown/Canceled",
          "Unknown/Unknown/Canceled",
          "Employee Loss (MPCECA)/Checked Baggage/Closed as a contractor claim",
          "Passenger Property Loss/Checked Baggage/Closed as a contractor claim",
          "Passenger Theft/Checked Baggage/Closed as a contractor claim",
          "Personal Injury/Checked Baggage/Closed as a contractor claim",
          "Property Damage/Checked Baggage/Closed as a contractor claim",
          "Unknown/Checked Baggage/Closed as a contractor claim",
          "Employee Loss (MPCECA)/Checkpoint/Closed as a contractor claim",
          "Passenger Property Loss/Checkpoint/Closed as a contractor claim",
          "Passenger Theft/Checkpoint/Closed as a contractor claim",
          "Personal Injury/Checkpoint/Closed as a contractor claim",
          "Property Damage/Checkpoint/Closed as a contractor claim",
          "Unknown/Checkpoint/Closed as a contractor claim",
          "Passenger Property Loss/Other/Closed as a contractor claim",
          "Unknown/Other/Closed as a contractor claim",
          "Property Damage/Unknown/Closed as a contractor claim",
          "Unknown/Unknown/Closed as a contractor claim",
          "Passenger Property Loss/Bus Station/Deny",
          "Property Damage/Bus Station/Deny",
          "Complaint/Checked Baggage/Deny",
          "Employee Loss (MPCECA)/Checked Baggage/Deny",
          "Motor Vehicle/Checked Baggage/Deny",
          "Passenger Property Loss/Checked Baggage/Deny",
          "Passenger Theft/Checked Baggage/Deny",
          "Personal Injury/Checked Baggage/Deny",
          "Property Damage/Checked Baggage/Deny",
          "Unknown/Checked Baggage/Deny",
          "Complaint/Checkpoint/Deny",
          "Employee Loss (MPCECA)/Checkpoint/Deny",
          "Motor Vehicle/Checkpoint/Deny",
          "Passenger Property Loss/Checkpoint/Deny",
          "Passenger Theft/Checkpoint/Deny",
          "Personal Injury/Checkpoint/Deny",
          "Property Damage/Checkpoint/Deny",
          "Unknown/Checkpoint/Deny",
          "Employee Loss (MPCECA)/Motor Vehicle/Deny",
          "Motor Vehicle/Motor Vehicle/Deny",
          "Passenger Property Loss/Motor Vehicle/Deny",
          "Personal Injury/Motor Vehicle/Deny",
          "Property Damage/Motor Vehicle/Deny",
          "Wrongful Death/Motor Vehicle/Deny",
          "Employee Loss (MPCECA)/Other/Deny",
          "Motor Vehicle/Other/Deny",
          "Passenger Property Loss/Other/Deny",
          "Passenger Theft/Other/Deny",
          "Personal Injury/Other/Deny",
          "Property Damage/Other/Deny",
          "Unknown/Other/Deny",
          "Wrongful Death/Other/Deny",
          "Complaint/Unknown/Deny",
          "Employee Loss (MPCECA)/Unknown/Deny",
          "Passenger Property Loss/Unknown/Deny",
          "Personal Injury/Unknown/Deny",
          "Property Damage/Unknown/Deny",
          "Unknown/Unknown/Deny",
          "Passenger Property Loss/Checked Baggage/In Process",
          "Personal Injury/Checked Baggage/In Process",
          "Property Damage/Checked Baggage/In Process",
          "Employee Loss (MPCECA)/Checkpoint/In Process",
          "Passenger Property Loss/Checkpoint/In Process",
          "Personal Injury/Checkpoint/In Process",
          "Property Damage/Checkpoint/In Process",
          "Motor Vehicle/Motor Vehicle/In Process",
          "Personal Injury/Other/In Process",
          "Passenger Property Loss/Checked Baggage/Insufficient",
          "Personal Injury/Checked Baggage/Insufficient",
          "Property Damage/Checked Baggage/Insufficient",
          "Unknown/Checked Baggage/Insufficient",
          "Passenger Property Loss/Checkpoint/Insufficient",
          "Personal Injury/Checkpoint/Insufficient",
          "Property Damage/Checkpoint/Insufficient",
          "Unknown/Checkpoint/Insufficient",
          "Motor Vehicle/Motor Vehicle/Insufficient",
          "Property Damage/Motor Vehicle/Insufficient",
          "Passenger Property Loss/Other/Insufficient",
          "Personal Injury/Other/Insufficient",
          "Property Damage/Other/Insufficient",
          "Unknown/Other/Insufficient",
          "Passenger Property Loss/Unknown/Insufficient",
          "Property Damage/Unknown/Insufficient",
          "Unknown/Unknown/Insufficient",
          "Bus Terminal/Checked Baggage/Settle",
          "Employee Loss (MPCECA)/Checked Baggage/Settle",
          "Motor Vehicle/Checked Baggage/Settle",
          "Passenger Property Loss/Checked Baggage/Settle",
          "Passenger Theft/Checked Baggage/Settle",
          "Personal Injury/Checked Baggage/Settle",
          "Property Damage/Checked Baggage/Settle",
          "Unknown/Checked Baggage/Settle",
          "Employee Loss (MPCECA)/Checkpoint/Settle",
          "Motor Vehicle/Checkpoint/Settle",
          "Passenger Property Loss/Checkpoint/Settle",
          "Passenger Theft/Checkpoint/Settle",
          "Personal Injury/Checkpoint/Settle",
          "Property Damage/Checkpoint/Settle",
          "Unknown/Checkpoint/Settle",
          "Employee Loss (MPCECA)/Motor Vehicle/Settle",
          "Motor Vehicle/Motor Vehicle/Settle",
          "Passenger Property Loss/Motor Vehicle/Settle",
          "Personal Injury/Motor Vehicle/Settle",
          "Property Damage/Motor Vehicle/Settle",
          "Employee Loss (MPCECA)/Other/Settle",
          "Passenger Property Loss/Other/Settle",
          "Personal Injury/Other/Settle",
          "Property Damage/Other/Settle",
          "Unknown/Other/Settle",
          "Passenger Property Loss/Unknown/Settle",
          "Property Damage/Unknown/Settle",
          "Unknown/Unknown/Settle",
          "Passenger Property Loss/Bus Station/Unknown",
          "Property Damage/Bus Station/Unknown",
          "Complaint/Checked Baggage/Unknown",
          "Employee Loss (MPCECA)/Checked Baggage/Unknown",
          "Motor Vehicle/Checked Baggage/Unknown",
          "Passenger Property Loss/Checked Baggage/Unknown",
          "Personal Injury/Checked Baggage/Unknown",
          "Property Damage/Checked Baggage/Unknown",
          "Unknown/Checked Baggage/Unknown",
          "Complaint/Checkpoint/Unknown",
          "Compliment/Checkpoint/Unknown",
          "Employee Loss (MPCECA)/Checkpoint/Unknown",
          "Motor Vehicle/Checkpoint/Unknown",
          "Passenger Property Loss/Checkpoint/Unknown",
          "Personal Injury/Checkpoint/Unknown",
          "Property Damage/Checkpoint/Unknown",
          "Unknown/Checkpoint/Unknown",
          "Employee Loss (MPCECA)/Motor Vehicle/Unknown",
          "Motor Vehicle/Motor Vehicle/Unknown",
          "Personal Injury/Motor Vehicle/Unknown",
          "Property Damage/Motor Vehicle/Unknown",
          "Complaint/Other/Unknown",
          "Employee Loss (MPCECA)/Other/Unknown",
          "Motor Vehicle/Other/Unknown",
          "Passenger Property Loss/Other/Unknown",
          "Personal Injury/Other/Unknown",
          "Property Damage/Other/Unknown",
          "Wrongful Death/Other/Unknown",
          "Passenger Property Loss/Unknown/Unknown",
          "Personal Injury/Unknown/Unknown",
          "Property Damage/Unknown/Unknown",
          "Unknown/Unknown/Unknown",
          "Passenger Property Loss/Bus Station",
          "Property Damage/Bus Station",
          "Bus Terminal/Checked Baggage",
          "Complaint/Checked Baggage",
          "Employee Loss (MPCECA)/Checked Baggage",
          "Motor Vehicle/Checked Baggage",
          "Passenger Property Loss/Checked Baggage",
          "Passenger Theft/Checked Baggage",
          "Personal Injury/Checked Baggage",
          "Property Damage/Checked Baggage",
          "Unknown/Checked Baggage",
          "Complaint/Checkpoint",
          "Compliment/Checkpoint",
          "Employee Loss (MPCECA)/Checkpoint",
          "Motor Vehicle/Checkpoint",
          "Passenger Property Loss/Checkpoint",
          "Passenger Theft/Checkpoint",
          "Personal Injury/Checkpoint",
          "Property Damage/Checkpoint",
          "Unknown/Checkpoint",
          "Employee Loss (MPCECA)/Motor Vehicle",
          "Motor Vehicle/Motor Vehicle",
          "Passenger Property Loss/Motor Vehicle",
          "Passenger Theft/Motor Vehicle",
          "Personal Injury/Motor Vehicle",
          "Property Damage/Motor Vehicle",
          "Unknown/Motor Vehicle",
          "Wrongful Death/Motor Vehicle",
          "Complaint/Other",
          "Employee Loss (MPCECA)/Other",
          "Motor Vehicle/Other",
          "Passenger Property Loss/Other",
          "Passenger Theft/Other",
          "Personal Injury/Other",
          "Property Damage/Other",
          "Unknown/Other",
          "Wrongful Death/Other",
          "Complaint/Unknown",
          "Employee Loss (MPCECA)/Unknown",
          "Motor Vehicle/Unknown",
          "Passenger Property Loss/Unknown",
          "Passenger Theft/Unknown",
          "Personal Injury/Unknown",
          "Property Damage/Unknown",
          "Unknown/Unknown",
          "Bus Terminal",
          "Complaint",
          "Compliment",
          "Employee Loss (MPCECA)",
          "Motor Vehicle",
          "Passenger Property Loss",
          "Passenger Theft",
          "Personal Injury",
          "Property Damage",
          "Unknown",
          "Wrongful Death"
         ],
         "labels": [
          "Approve in Full",
          "Approve in Full",
          "Approve in Full",
          "Approve in Full",
          "Approve in Full",
          "Approve in Full",
          "Approve in Full",
          "Approve in Full",
          "Approve in Full",
          "Approve in Full",
          "Approve in Full",
          "Approve in Full",
          "Approve in Full",
          "Approve in Full",
          "Approve in Full",
          "Approve in Full",
          "Approve in Full",
          "Approve in Full",
          "Approve in Full",
          "Approve in Full",
          "Approve in Full",
          "Approve in Full",
          "Approve in Full",
          "Approve in Full",
          "Approve in Full",
          "Approve in Full",
          "Approve in Full",
          "Approve in Full",
          "Approve in Full",
          "Approve in Full",
          "Approve in Full",
          "Approve in Full",
          "Approve in Full",
          "Approve in Full",
          "Canceled",
          "Canceled",
          "Canceled",
          "Canceled",
          "Canceled",
          "Canceled",
          "Canceled",
          "Canceled",
          "Canceled",
          "Canceled",
          "Canceled",
          "Canceled",
          "Canceled",
          "Canceled",
          "Canceled",
          "Canceled",
          "Canceled",
          "Canceled",
          "Canceled",
          "Canceled",
          "Canceled",
          "Canceled",
          "Canceled",
          "Canceled",
          "Canceled",
          "Canceled",
          "Canceled",
          "Canceled",
          "Canceled",
          "Closed as a contractor claim",
          "Closed as a contractor claim",
          "Closed as a contractor claim",
          "Closed as a contractor claim",
          "Closed as a contractor claim",
          "Closed as a contractor claim",
          "Closed as a contractor claim",
          "Closed as a contractor claim",
          "Closed as a contractor claim",
          "Closed as a contractor claim",
          "Closed as a contractor claim",
          "Closed as a contractor claim",
          "Closed as a contractor claim",
          "Closed as a contractor claim",
          "Closed as a contractor claim",
          "Closed as a contractor claim",
          "Deny",
          "Deny",
          "Deny",
          "Deny",
          "Deny",
          "Deny",
          "Deny",
          "Deny",
          "Deny",
          "Deny",
          "Deny",
          "Deny",
          "Deny",
          "Deny",
          "Deny",
          "Deny",
          "Deny",
          "Deny",
          "Deny",
          "Deny",
          "Deny",
          "Deny",
          "Deny",
          "Deny",
          "Deny",
          "Deny",
          "Deny",
          "Deny",
          "Deny",
          "Deny",
          "Deny",
          "Deny",
          "Deny",
          "Deny",
          "Deny",
          "Deny",
          "Deny",
          "Deny",
          "In Process",
          "In Process",
          "In Process",
          "In Process",
          "In Process",
          "In Process",
          "In Process",
          "In Process",
          "In Process",
          "Insufficient",
          "Insufficient",
          "Insufficient",
          "Insufficient",
          "Insufficient",
          "Insufficient",
          "Insufficient",
          "Insufficient",
          "Insufficient",
          "Insufficient",
          "Insufficient",
          "Insufficient",
          "Insufficient",
          "Insufficient",
          "Insufficient",
          "Insufficient",
          "Insufficient",
          "Settle",
          "Settle",
          "Settle",
          "Settle",
          "Settle",
          "Settle",
          "Settle",
          "Settle",
          "Settle",
          "Settle",
          "Settle",
          "Settle",
          "Settle",
          "Settle",
          "Settle",
          "Settle",
          "Settle",
          "Settle",
          "Settle",
          "Settle",
          "Settle",
          "Settle",
          "Settle",
          "Settle",
          "Settle",
          "Settle",
          "Settle",
          "Settle",
          "Unknown",
          "Unknown",
          "Unknown",
          "Unknown",
          "Unknown",
          "Unknown",
          "Unknown",
          "Unknown",
          "Unknown",
          "Unknown",
          "Unknown",
          "Unknown",
          "Unknown",
          "Unknown",
          "Unknown",
          "Unknown",
          "Unknown",
          "Unknown",
          "Unknown",
          "Unknown",
          "Unknown",
          "Unknown",
          "Unknown",
          "Unknown",
          "Unknown",
          "Unknown",
          "Unknown",
          "Unknown",
          "Unknown",
          "Unknown",
          "Unknown",
          "Unknown",
          "Bus Station",
          "Bus Station",
          "Checked Baggage",
          "Checked Baggage",
          "Checked Baggage",
          "Checked Baggage",
          "Checked Baggage",
          "Checked Baggage",
          "Checked Baggage",
          "Checked Baggage",
          "Checked Baggage",
          "Checkpoint",
          "Checkpoint",
          "Checkpoint",
          "Checkpoint",
          "Checkpoint",
          "Checkpoint",
          "Checkpoint",
          "Checkpoint",
          "Checkpoint",
          "Motor Vehicle",
          "Motor Vehicle",
          "Motor Vehicle",
          "Motor Vehicle",
          "Motor Vehicle",
          "Motor Vehicle",
          "Motor Vehicle",
          "Motor Vehicle",
          "Other",
          "Other",
          "Other",
          "Other",
          "Other",
          "Other",
          "Other",
          "Other",
          "Other",
          "Unknown",
          "Unknown",
          "Unknown",
          "Unknown",
          "Unknown",
          "Unknown",
          "Unknown",
          "Unknown",
          "Bus Terminal",
          "Complaint",
          "Compliment",
          "Employee Loss (MPCECA)",
          "Motor Vehicle",
          "Passenger Property Loss",
          "Passenger Theft",
          "Personal Injury",
          "Property Damage",
          "Unknown",
          "Wrongful Death"
         ],
         "name": "",
         "parents": [
          "Property Damage/Bus Station",
          "Complaint/Checked Baggage",
          "Employee Loss (MPCECA)/Checked Baggage",
          "Motor Vehicle/Checked Baggage",
          "Passenger Property Loss/Checked Baggage",
          "Passenger Theft/Checked Baggage",
          "Personal Injury/Checked Baggage",
          "Property Damage/Checked Baggage",
          "Unknown/Checked Baggage",
          "Complaint/Checkpoint",
          "Employee Loss (MPCECA)/Checkpoint",
          "Passenger Property Loss/Checkpoint",
          "Passenger Theft/Checkpoint",
          "Personal Injury/Checkpoint",
          "Property Damage/Checkpoint",
          "Unknown/Checkpoint",
          "Employee Loss (MPCECA)/Motor Vehicle",
          "Motor Vehicle/Motor Vehicle",
          "Passenger Property Loss/Motor Vehicle",
          "Personal Injury/Motor Vehicle",
          "Property Damage/Motor Vehicle",
          "Unknown/Motor Vehicle",
          "Complaint/Other",
          "Employee Loss (MPCECA)/Other",
          "Motor Vehicle/Other",
          "Passenger Property Loss/Other",
          "Personal Injury/Other",
          "Property Damage/Other",
          "Unknown/Other",
          "Motor Vehicle/Unknown",
          "Passenger Property Loss/Unknown",
          "Passenger Theft/Unknown",
          "Property Damage/Unknown",
          "Unknown/Unknown",
          "Employee Loss (MPCECA)/Checked Baggage",
          "Motor Vehicle/Checked Baggage",
          "Passenger Property Loss/Checked Baggage",
          "Passenger Theft/Checked Baggage",
          "Personal Injury/Checked Baggage",
          "Property Damage/Checked Baggage",
          "Unknown/Checked Baggage",
          "Employee Loss (MPCECA)/Checkpoint",
          "Passenger Property Loss/Checkpoint",
          "Passenger Theft/Checkpoint",
          "Personal Injury/Checkpoint",
          "Property Damage/Checkpoint",
          "Unknown/Checkpoint",
          "Motor Vehicle/Motor Vehicle",
          "Passenger Property Loss/Motor Vehicle",
          "Passenger Theft/Motor Vehicle",
          "Personal Injury/Motor Vehicle",
          "Property Damage/Motor Vehicle",
          "Unknown/Motor Vehicle",
          "Employee Loss (MPCECA)/Other",
          "Motor Vehicle/Other",
          "Passenger Property Loss/Other",
          "Personal Injury/Other",
          "Property Damage/Other",
          "Unknown/Other",
          "Passenger Property Loss/Unknown",
          "Personal Injury/Unknown",
          "Property Damage/Unknown",
          "Unknown/Unknown",
          "Employee Loss (MPCECA)/Checked Baggage",
          "Passenger Property Loss/Checked Baggage",
          "Passenger Theft/Checked Baggage",
          "Personal Injury/Checked Baggage",
          "Property Damage/Checked Baggage",
          "Unknown/Checked Baggage",
          "Employee Loss (MPCECA)/Checkpoint",
          "Passenger Property Loss/Checkpoint",
          "Passenger Theft/Checkpoint",
          "Personal Injury/Checkpoint",
          "Property Damage/Checkpoint",
          "Unknown/Checkpoint",
          "Passenger Property Loss/Other",
          "Unknown/Other",
          "Property Damage/Unknown",
          "Unknown/Unknown",
          "Passenger Property Loss/Bus Station",
          "Property Damage/Bus Station",
          "Complaint/Checked Baggage",
          "Employee Loss (MPCECA)/Checked Baggage",
          "Motor Vehicle/Checked Baggage",
          "Passenger Property Loss/Checked Baggage",
          "Passenger Theft/Checked Baggage",
          "Personal Injury/Checked Baggage",
          "Property Damage/Checked Baggage",
          "Unknown/Checked Baggage",
          "Complaint/Checkpoint",
          "Employee Loss (MPCECA)/Checkpoint",
          "Motor Vehicle/Checkpoint",
          "Passenger Property Loss/Checkpoint",
          "Passenger Theft/Checkpoint",
          "Personal Injury/Checkpoint",
          "Property Damage/Checkpoint",
          "Unknown/Checkpoint",
          "Employee Loss (MPCECA)/Motor Vehicle",
          "Motor Vehicle/Motor Vehicle",
          "Passenger Property Loss/Motor Vehicle",
          "Personal Injury/Motor Vehicle",
          "Property Damage/Motor Vehicle",
          "Wrongful Death/Motor Vehicle",
          "Employee Loss (MPCECA)/Other",
          "Motor Vehicle/Other",
          "Passenger Property Loss/Other",
          "Passenger Theft/Other",
          "Personal Injury/Other",
          "Property Damage/Other",
          "Unknown/Other",
          "Wrongful Death/Other",
          "Complaint/Unknown",
          "Employee Loss (MPCECA)/Unknown",
          "Passenger Property Loss/Unknown",
          "Personal Injury/Unknown",
          "Property Damage/Unknown",
          "Unknown/Unknown",
          "Passenger Property Loss/Checked Baggage",
          "Personal Injury/Checked Baggage",
          "Property Damage/Checked Baggage",
          "Employee Loss (MPCECA)/Checkpoint",
          "Passenger Property Loss/Checkpoint",
          "Personal Injury/Checkpoint",
          "Property Damage/Checkpoint",
          "Motor Vehicle/Motor Vehicle",
          "Personal Injury/Other",
          "Passenger Property Loss/Checked Baggage",
          "Personal Injury/Checked Baggage",
          "Property Damage/Checked Baggage",
          "Unknown/Checked Baggage",
          "Passenger Property Loss/Checkpoint",
          "Personal Injury/Checkpoint",
          "Property Damage/Checkpoint",
          "Unknown/Checkpoint",
          "Motor Vehicle/Motor Vehicle",
          "Property Damage/Motor Vehicle",
          "Passenger Property Loss/Other",
          "Personal Injury/Other",
          "Property Damage/Other",
          "Unknown/Other",
          "Passenger Property Loss/Unknown",
          "Property Damage/Unknown",
          "Unknown/Unknown",
          "Bus Terminal/Checked Baggage",
          "Employee Loss (MPCECA)/Checked Baggage",
          "Motor Vehicle/Checked Baggage",
          "Passenger Property Loss/Checked Baggage",
          "Passenger Theft/Checked Baggage",
          "Personal Injury/Checked Baggage",
          "Property Damage/Checked Baggage",
          "Unknown/Checked Baggage",
          "Employee Loss (MPCECA)/Checkpoint",
          "Motor Vehicle/Checkpoint",
          "Passenger Property Loss/Checkpoint",
          "Passenger Theft/Checkpoint",
          "Personal Injury/Checkpoint",
          "Property Damage/Checkpoint",
          "Unknown/Checkpoint",
          "Employee Loss (MPCECA)/Motor Vehicle",
          "Motor Vehicle/Motor Vehicle",
          "Passenger Property Loss/Motor Vehicle",
          "Personal Injury/Motor Vehicle",
          "Property Damage/Motor Vehicle",
          "Employee Loss (MPCECA)/Other",
          "Passenger Property Loss/Other",
          "Personal Injury/Other",
          "Property Damage/Other",
          "Unknown/Other",
          "Passenger Property Loss/Unknown",
          "Property Damage/Unknown",
          "Unknown/Unknown",
          "Passenger Property Loss/Bus Station",
          "Property Damage/Bus Station",
          "Complaint/Checked Baggage",
          "Employee Loss (MPCECA)/Checked Baggage",
          "Motor Vehicle/Checked Baggage",
          "Passenger Property Loss/Checked Baggage",
          "Personal Injury/Checked Baggage",
          "Property Damage/Checked Baggage",
          "Unknown/Checked Baggage",
          "Complaint/Checkpoint",
          "Compliment/Checkpoint",
          "Employee Loss (MPCECA)/Checkpoint",
          "Motor Vehicle/Checkpoint",
          "Passenger Property Loss/Checkpoint",
          "Personal Injury/Checkpoint",
          "Property Damage/Checkpoint",
          "Unknown/Checkpoint",
          "Employee Loss (MPCECA)/Motor Vehicle",
          "Motor Vehicle/Motor Vehicle",
          "Personal Injury/Motor Vehicle",
          "Property Damage/Motor Vehicle",
          "Complaint/Other",
          "Employee Loss (MPCECA)/Other",
          "Motor Vehicle/Other",
          "Passenger Property Loss/Other",
          "Personal Injury/Other",
          "Property Damage/Other",
          "Wrongful Death/Other",
          "Passenger Property Loss/Unknown",
          "Personal Injury/Unknown",
          "Property Damage/Unknown",
          "Unknown/Unknown",
          "Passenger Property Loss",
          "Property Damage",
          "Bus Terminal",
          "Complaint",
          "Employee Loss (MPCECA)",
          "Motor Vehicle",
          "Passenger Property Loss",
          "Passenger Theft",
          "Personal Injury",
          "Property Damage",
          "Unknown",
          "Complaint",
          "Compliment",
          "Employee Loss (MPCECA)",
          "Motor Vehicle",
          "Passenger Property Loss",
          "Passenger Theft",
          "Personal Injury",
          "Property Damage",
          "Unknown",
          "Employee Loss (MPCECA)",
          "Motor Vehicle",
          "Passenger Property Loss",
          "Passenger Theft",
          "Personal Injury",
          "Property Damage",
          "Unknown",
          "Wrongful Death",
          "Complaint",
          "Employee Loss (MPCECA)",
          "Motor Vehicle",
          "Passenger Property Loss",
          "Passenger Theft",
          "Personal Injury",
          "Property Damage",
          "Unknown",
          "Wrongful Death",
          "Complaint",
          "Employee Loss (MPCECA)",
          "Motor Vehicle",
          "Passenger Property Loss",
          "Passenger Theft",
          "Personal Injury",
          "Property Damage",
          "Unknown",
          "",
          "",
          "",
          "",
          "",
          "",
          "",
          "",
          "",
          "",
          ""
         ],
         "type": "treemap",
         "values": [
          400,
          75,
          15454.77,
          212.48,
          2057673.21,
          11225.130000000001,
          4662.41,
          1587447.13,
          206013.61000000002,
          222.6,
          6203.76,
          839524.24,
          2682.65,
          60159.41,
          1826240.19,
          50719.36,
          1733.67,
          193206.93,
          2664.92,
          6647.73,
          18464.21,
          6655.95,
          50.75,
          30,
          1305.81,
          9324.09,
          7715.59,
          20797.52,
          40745.8,
          1759.9099999999999,
          1533.02,
          198,
          2771.61,
          1475.71,
          0,
          0,
          10185.29,
          0,
          0,
          1388.05,
          4283.84,
          0,
          2980.36,
          108.9,
          0,
          3680.3,
          1338.44,
          0,
          0,
          0,
          0,
          0,
          0,
          0,
          0,
          0,
          0,
          0,
          360,
          0,
          0,
          0,
          0,
          0,
          0,
          0,
          0,
          0,
          0,
          0,
          0,
          0,
          0,
          0,
          0,
          0,
          0,
          0,
          0,
          0,
          0,
          0,
          995.9,
          0,
          220939.72,
          3106,
          0,
          130671.88,
          48691.62,
          0,
          697.47,
          0,
          82672.65,
          0,
          0,
          45025.34,
          11158.35,
          0,
          1603.58,
          0,
          0,
          0,
          0,
          410.61,
          0,
          6579,
          0,
          800,
          4150,
          6181.1,
          0,
          0,
          0,
          0,
          0,
          0,
          0,
          0,
          0,
          0,
          0,
          0,
          0,
          0,
          0,
          0,
          0,
          0,
          0,
          0,
          0,
          0,
          0,
          0,
          0,
          0,
          0,
          0,
          0,
          0,
          0,
          0,
          0,
          9.95,
          15915.7,
          24.95,
          2842185.8,
          32273.3,
          13608.41,
          1071633.44,
          287476.83,
          5779.63,
          50,
          470738.4,
          3421.78,
          96897.94,
          1124845.39,
          60989.82,
          250,
          32299.87,
          9.95,
          2559.7,
          5002.91,
          843.94,
          19177.79,
          4035.68,
          16812.27,
          56861.28,
          815.83,
          901.87,
          4066.06,
          0,
          0,
          0,
          0,
          0,
          0,
          0,
          0,
          0,
          0,
          0,
          0,
          0,
          0,
          0,
          0,
          0,
          0,
          0,
          0,
          0,
          0,
          0,
          0,
          0,
          0,
          0,
          0,
          0,
          0,
          0,
          0,
          0,
          400,
          9.95,
          75,
          32366.37,
          237.43,
          5130984.02,
          46604.43,
          18270.82,
          2791140.5,
          546465.9,
          222.6,
          0,
          12680.86,
          50,
          1395915.65,
          6213.33,
          157057.35,
          2999791.22,
          124205.97,
          1983.67,
          227110.38,
          2674.87,
          0,
          9207.43,
          23467.12,
          6655.95,
          0,
          50.75,
          1284.55,
          1305.81,
          35080.88,
          0,
          12551.27,
          41759.79,
          104148.18000000001,
          0,
          0,
          0,
          1759.9099999999999,
          2348.85,
          198,
          0,
          3673.48,
          5541.7699999999995,
          9.95,
          348.35,
          0,
          48315.45,
          230463.53,
          6567004.27,
          53015.76,
          197086.87,
          5860232.11,
          787017.77,
          0
         ]
        }
       ],
       "layout": {
        "legend": {
         "tracegroupgap": 0
        },
        "margin": {
         "t": 60
        },
        "template": {
         "data": {
          "bar": [
           {
            "error_x": {
             "color": "#2a3f5f"
            },
            "error_y": {
             "color": "#2a3f5f"
            },
            "marker": {
             "line": {
              "color": "#E5ECF6",
              "width": 0.5
             },
             "pattern": {
              "fillmode": "overlay",
              "size": 10,
              "solidity": 0.2
             }
            },
            "type": "bar"
           }
          ],
          "barpolar": [
           {
            "marker": {
             "line": {
              "color": "#E5ECF6",
              "width": 0.5
             },
             "pattern": {
              "fillmode": "overlay",
              "size": 10,
              "solidity": 0.2
             }
            },
            "type": "barpolar"
           }
          ],
          "carpet": [
           {
            "aaxis": {
             "endlinecolor": "#2a3f5f",
             "gridcolor": "white",
             "linecolor": "white",
             "minorgridcolor": "white",
             "startlinecolor": "#2a3f5f"
            },
            "baxis": {
             "endlinecolor": "#2a3f5f",
             "gridcolor": "white",
             "linecolor": "white",
             "minorgridcolor": "white",
             "startlinecolor": "#2a3f5f"
            },
            "type": "carpet"
           }
          ],
          "choropleth": [
           {
            "colorbar": {
             "outlinewidth": 0,
             "ticks": ""
            },
            "type": "choropleth"
           }
          ],
          "contour": [
           {
            "colorbar": {
             "outlinewidth": 0,
             "ticks": ""
            },
            "colorscale": [
             [
              0,
              "#0d0887"
             ],
             [
              0.1111111111111111,
              "#46039f"
             ],
             [
              0.2222222222222222,
              "#7201a8"
             ],
             [
              0.3333333333333333,
              "#9c179e"
             ],
             [
              0.4444444444444444,
              "#bd3786"
             ],
             [
              0.5555555555555556,
              "#d8576b"
             ],
             [
              0.6666666666666666,
              "#ed7953"
             ],
             [
              0.7777777777777778,
              "#fb9f3a"
             ],
             [
              0.8888888888888888,
              "#fdca26"
             ],
             [
              1,
              "#f0f921"
             ]
            ],
            "type": "contour"
           }
          ],
          "contourcarpet": [
           {
            "colorbar": {
             "outlinewidth": 0,
             "ticks": ""
            },
            "type": "contourcarpet"
           }
          ],
          "heatmap": [
           {
            "colorbar": {
             "outlinewidth": 0,
             "ticks": ""
            },
            "colorscale": [
             [
              0,
              "#0d0887"
             ],
             [
              0.1111111111111111,
              "#46039f"
             ],
             [
              0.2222222222222222,
              "#7201a8"
             ],
             [
              0.3333333333333333,
              "#9c179e"
             ],
             [
              0.4444444444444444,
              "#bd3786"
             ],
             [
              0.5555555555555556,
              "#d8576b"
             ],
             [
              0.6666666666666666,
              "#ed7953"
             ],
             [
              0.7777777777777778,
              "#fb9f3a"
             ],
             [
              0.8888888888888888,
              "#fdca26"
             ],
             [
              1,
              "#f0f921"
             ]
            ],
            "type": "heatmap"
           }
          ],
          "heatmapgl": [
           {
            "colorbar": {
             "outlinewidth": 0,
             "ticks": ""
            },
            "colorscale": [
             [
              0,
              "#0d0887"
             ],
             [
              0.1111111111111111,
              "#46039f"
             ],
             [
              0.2222222222222222,
              "#7201a8"
             ],
             [
              0.3333333333333333,
              "#9c179e"
             ],
             [
              0.4444444444444444,
              "#bd3786"
             ],
             [
              0.5555555555555556,
              "#d8576b"
             ],
             [
              0.6666666666666666,
              "#ed7953"
             ],
             [
              0.7777777777777778,
              "#fb9f3a"
             ],
             [
              0.8888888888888888,
              "#fdca26"
             ],
             [
              1,
              "#f0f921"
             ]
            ],
            "type": "heatmapgl"
           }
          ],
          "histogram": [
           {
            "marker": {
             "pattern": {
              "fillmode": "overlay",
              "size": 10,
              "solidity": 0.2
             }
            },
            "type": "histogram"
           }
          ],
          "histogram2d": [
           {
            "colorbar": {
             "outlinewidth": 0,
             "ticks": ""
            },
            "colorscale": [
             [
              0,
              "#0d0887"
             ],
             [
              0.1111111111111111,
              "#46039f"
             ],
             [
              0.2222222222222222,
              "#7201a8"
             ],
             [
              0.3333333333333333,
              "#9c179e"
             ],
             [
              0.4444444444444444,
              "#bd3786"
             ],
             [
              0.5555555555555556,
              "#d8576b"
             ],
             [
              0.6666666666666666,
              "#ed7953"
             ],
             [
              0.7777777777777778,
              "#fb9f3a"
             ],
             [
              0.8888888888888888,
              "#fdca26"
             ],
             [
              1,
              "#f0f921"
             ]
            ],
            "type": "histogram2d"
           }
          ],
          "histogram2dcontour": [
           {
            "colorbar": {
             "outlinewidth": 0,
             "ticks": ""
            },
            "colorscale": [
             [
              0,
              "#0d0887"
             ],
             [
              0.1111111111111111,
              "#46039f"
             ],
             [
              0.2222222222222222,
              "#7201a8"
             ],
             [
              0.3333333333333333,
              "#9c179e"
             ],
             [
              0.4444444444444444,
              "#bd3786"
             ],
             [
              0.5555555555555556,
              "#d8576b"
             ],
             [
              0.6666666666666666,
              "#ed7953"
             ],
             [
              0.7777777777777778,
              "#fb9f3a"
             ],
             [
              0.8888888888888888,
              "#fdca26"
             ],
             [
              1,
              "#f0f921"
             ]
            ],
            "type": "histogram2dcontour"
           }
          ],
          "mesh3d": [
           {
            "colorbar": {
             "outlinewidth": 0,
             "ticks": ""
            },
            "type": "mesh3d"
           }
          ],
          "parcoords": [
           {
            "line": {
             "colorbar": {
              "outlinewidth": 0,
              "ticks": ""
             }
            },
            "type": "parcoords"
           }
          ],
          "pie": [
           {
            "automargin": true,
            "type": "pie"
           }
          ],
          "scatter": [
           {
            "fillpattern": {
             "fillmode": "overlay",
             "size": 10,
             "solidity": 0.2
            },
            "type": "scatter"
           }
          ],
          "scatter3d": [
           {
            "line": {
             "colorbar": {
              "outlinewidth": 0,
              "ticks": ""
             }
            },
            "marker": {
             "colorbar": {
              "outlinewidth": 0,
              "ticks": ""
             }
            },
            "type": "scatter3d"
           }
          ],
          "scattercarpet": [
           {
            "marker": {
             "colorbar": {
              "outlinewidth": 0,
              "ticks": ""
             }
            },
            "type": "scattercarpet"
           }
          ],
          "scattergeo": [
           {
            "marker": {
             "colorbar": {
              "outlinewidth": 0,
              "ticks": ""
             }
            },
            "type": "scattergeo"
           }
          ],
          "scattergl": [
           {
            "marker": {
             "colorbar": {
              "outlinewidth": 0,
              "ticks": ""
             }
            },
            "type": "scattergl"
           }
          ],
          "scattermapbox": [
           {
            "marker": {
             "colorbar": {
              "outlinewidth": 0,
              "ticks": ""
             }
            },
            "type": "scattermapbox"
           }
          ],
          "scatterpolar": [
           {
            "marker": {
             "colorbar": {
              "outlinewidth": 0,
              "ticks": ""
             }
            },
            "type": "scatterpolar"
           }
          ],
          "scatterpolargl": [
           {
            "marker": {
             "colorbar": {
              "outlinewidth": 0,
              "ticks": ""
             }
            },
            "type": "scatterpolargl"
           }
          ],
          "scatterternary": [
           {
            "marker": {
             "colorbar": {
              "outlinewidth": 0,
              "ticks": ""
             }
            },
            "type": "scatterternary"
           }
          ],
          "surface": [
           {
            "colorbar": {
             "outlinewidth": 0,
             "ticks": ""
            },
            "colorscale": [
             [
              0,
              "#0d0887"
             ],
             [
              0.1111111111111111,
              "#46039f"
             ],
             [
              0.2222222222222222,
              "#7201a8"
             ],
             [
              0.3333333333333333,
              "#9c179e"
             ],
             [
              0.4444444444444444,
              "#bd3786"
             ],
             [
              0.5555555555555556,
              "#d8576b"
             ],
             [
              0.6666666666666666,
              "#ed7953"
             ],
             [
              0.7777777777777778,
              "#fb9f3a"
             ],
             [
              0.8888888888888888,
              "#fdca26"
             ],
             [
              1,
              "#f0f921"
             ]
            ],
            "type": "surface"
           }
          ],
          "table": [
           {
            "cells": {
             "fill": {
              "color": "#EBF0F8"
             },
             "line": {
              "color": "white"
             }
            },
            "header": {
             "fill": {
              "color": "#C8D4E3"
             },
             "line": {
              "color": "white"
             }
            },
            "type": "table"
           }
          ]
         },
         "layout": {
          "annotationdefaults": {
           "arrowcolor": "#2a3f5f",
           "arrowhead": 0,
           "arrowwidth": 1
          },
          "autotypenumbers": "strict",
          "coloraxis": {
           "colorbar": {
            "outlinewidth": 0,
            "ticks": ""
           }
          },
          "colorscale": {
           "diverging": [
            [
             0,
             "#8e0152"
            ],
            [
             0.1,
             "#c51b7d"
            ],
            [
             0.2,
             "#de77ae"
            ],
            [
             0.3,
             "#f1b6da"
            ],
            [
             0.4,
             "#fde0ef"
            ],
            [
             0.5,
             "#f7f7f7"
            ],
            [
             0.6,
             "#e6f5d0"
            ],
            [
             0.7,
             "#b8e186"
            ],
            [
             0.8,
             "#7fbc41"
            ],
            [
             0.9,
             "#4d9221"
            ],
            [
             1,
             "#276419"
            ]
           ],
           "sequential": [
            [
             0,
             "#0d0887"
            ],
            [
             0.1111111111111111,
             "#46039f"
            ],
            [
             0.2222222222222222,
             "#7201a8"
            ],
            [
             0.3333333333333333,
             "#9c179e"
            ],
            [
             0.4444444444444444,
             "#bd3786"
            ],
            [
             0.5555555555555556,
             "#d8576b"
            ],
            [
             0.6666666666666666,
             "#ed7953"
            ],
            [
             0.7777777777777778,
             "#fb9f3a"
            ],
            [
             0.8888888888888888,
             "#fdca26"
            ],
            [
             1,
             "#f0f921"
            ]
           ],
           "sequentialminus": [
            [
             0,
             "#0d0887"
            ],
            [
             0.1111111111111111,
             "#46039f"
            ],
            [
             0.2222222222222222,
             "#7201a8"
            ],
            [
             0.3333333333333333,
             "#9c179e"
            ],
            [
             0.4444444444444444,
             "#bd3786"
            ],
            [
             0.5555555555555556,
             "#d8576b"
            ],
            [
             0.6666666666666666,
             "#ed7953"
            ],
            [
             0.7777777777777778,
             "#fb9f3a"
            ],
            [
             0.8888888888888888,
             "#fdca26"
            ],
            [
             1,
             "#f0f921"
            ]
           ]
          },
          "colorway": [
           "#636efa",
           "#EF553B",
           "#00cc96",
           "#ab63fa",
           "#FFA15A",
           "#19d3f3",
           "#FF6692",
           "#B6E880",
           "#FF97FF",
           "#FECB52"
          ],
          "font": {
           "color": "#2a3f5f"
          },
          "geo": {
           "bgcolor": "white",
           "lakecolor": "white",
           "landcolor": "#E5ECF6",
           "showlakes": true,
           "showland": true,
           "subunitcolor": "white"
          },
          "hoverlabel": {
           "align": "left"
          },
          "hovermode": "closest",
          "mapbox": {
           "style": "light"
          },
          "paper_bgcolor": "white",
          "plot_bgcolor": "#E5ECF6",
          "polar": {
           "angularaxis": {
            "gridcolor": "white",
            "linecolor": "white",
            "ticks": ""
           },
           "bgcolor": "#E5ECF6",
           "radialaxis": {
            "gridcolor": "white",
            "linecolor": "white",
            "ticks": ""
           }
          },
          "scene": {
           "xaxis": {
            "backgroundcolor": "#E5ECF6",
            "gridcolor": "white",
            "gridwidth": 2,
            "linecolor": "white",
            "showbackground": true,
            "ticks": "",
            "zerolinecolor": "white"
           },
           "yaxis": {
            "backgroundcolor": "#E5ECF6",
            "gridcolor": "white",
            "gridwidth": 2,
            "linecolor": "white",
            "showbackground": true,
            "ticks": "",
            "zerolinecolor": "white"
           },
           "zaxis": {
            "backgroundcolor": "#E5ECF6",
            "gridcolor": "white",
            "gridwidth": 2,
            "linecolor": "white",
            "showbackground": true,
            "ticks": "",
            "zerolinecolor": "white"
           }
          },
          "shapedefaults": {
           "line": {
            "color": "#2a3f5f"
           }
          },
          "ternary": {
           "aaxis": {
            "gridcolor": "white",
            "linecolor": "white",
            "ticks": ""
           },
           "baxis": {
            "gridcolor": "white",
            "linecolor": "white",
            "ticks": ""
           },
           "bgcolor": "#E5ECF6",
           "caxis": {
            "gridcolor": "white",
            "linecolor": "white",
            "ticks": ""
           }
          },
          "title": {
           "x": 0.05
          },
          "xaxis": {
           "automargin": true,
           "gridcolor": "white",
           "linecolor": "white",
           "ticks": "",
           "title": {
            "standoff": 15
           },
           "zerolinecolor": "white",
           "zerolinewidth": 2
          },
          "yaxis": {
           "automargin": true,
           "gridcolor": "white",
           "linecolor": "white",
           "ticks": "",
           "title": {
            "standoff": 15
           },
           "zerolinecolor": "white",
           "zerolinewidth": 2
          }
         }
        },
        "treemapcolorway": [
         "rgb(228,26,28)",
         "rgb(55,126,184)",
         "rgb(77,175,74)",
         "rgb(152,78,163)",
         "rgb(255,127,0)",
         "rgb(255,255,51)",
         "rgb(166,86,40)",
         "rgb(247,129,191)",
         "rgb(153,153,153)"
        ]
       }
      }
     },
     "metadata": {},
     "output_type": "display_data"
    }
   ],
   "source": [
    "fig = px.treemap(data, path=['Claim Type','Claim Site','Disposition'],values='Close Amount',color_discrete_sequence=px.colors.qualitative.Set1)\n",
    "fig.show()"
   ]
  },
  {
   "cell_type": "markdown",
   "metadata": {},
   "source": [
    "**Interpretasi**\n",
    "\n",
    "- Berdasarkan total nilai klaim yang diberikan, TSA paling banyak menerima klaim kehilangan dan kerusakan barang yang disampaikan di checked baggage dan checkpoint\n",
    "- Untuk kerusakan properti, persentase penyelesaiannya paling banyak adalah dengan pemberian klaim secara full, sedangkan untuk kehilangan barang hanya pengajuan yang dilakukan di checkpoint yang diberikan dalan jumlah penuh.\n",
    "- Selain kehilangan dan kerusakan properti ada juga klaim untuk personal injury, kendaraan bermotor, pencurian, dan kehilangan pegawai."
   ]
  },
  {
   "cell_type": "markdown",
   "metadata": {},
   "source": [
    "Visualisasi selanjutnya akan dilakukan di Tableau. Oleh karena itu, dataset akan dieksport ke dalam format .csv terlebih dahulu"
   ]
  },
  {
   "cell_type": "markdown",
   "metadata": {},
   "source": [
    "# Export Dataset"
   ]
  },
  {
   "cell_type": "markdown",
   "metadata": {},
   "source": [
    "Data yang sudah dibersihkan dieksport ke dalam format .csv untuk analisis lebih lanjut menggunakan Tableau"
   ]
  },
  {
   "cell_type": "code",
   "execution_count": 69,
   "metadata": {},
   "outputs": [],
   "source": [
    "data.to_csv('D:\\Purwadhika\\Capstone Project Modul 2\\TSA Claims Ready.csv') "
   ]
  },
  {
   "cell_type": "markdown",
   "metadata": {},
   "source": [
    "# Kesimpulan\n",
    "\n",
    "\n",
    "1. Dari tahun 2002-2015 tercatat ada 202,260 pengajuan klaim yang diterima oleh petugas bandara di seluruh dunia, dengan jumlah pengajuan paling banyak pada tahun 2004 sebanyak 29,099 klaim.\n",
    "2. Bandara yang paling banyak menerima klaim adalah LAX dengan jumlah 9,571 klaim.\n",
    "3. Sedangkan maskapai yang paling banyak menerima klaim adalah American Airlines dengan jumlah 23,000.\n",
    "4. Pengajuan-pengajuan klaim tersebut paling banyak terkait dengan kehilangan properti dan diajukan di pengecekan bagasi.\n",
    "5. Secara keseluruhan, frekuensi pengajuan klaim terus mengalami penurunan meskipun pada tahun 2004 jumlahnya sempat meningkat sehingga menyebabkan claim amount dan close amount nya juga meningkat.\n",
    "6. Akan tetapi, penurunan jumlah klaim secara signifikan pada tahun 2010 meningkatkan closing rate (Rata-rata penyelesaian tagihan claim) nya dari kisaran 7-25% pada tahun-tahun sebelumnya menjadi >40% pada tahun-tahun setelahnya."
   ]
  },
  {
   "cell_type": "markdown",
   "metadata": {},
   "source": [
    "# Rekomendasi\n",
    "\n",
    "1. Untuk mengurangi frekuensi kejadian yang menyababkan klaim, yang dapat berdampak pada kerugian yang harus ditanggung maskapai dan bandara, maka maskapai dan bandara dapat meningkatkan keamanan penanganan barang penumpang sejak check-in hingga pengambilan bagasi supaya peluang kerusakan dan kehilangan barang penumpang dapat berkurang.\n",
    "2. Selain itu, maskapai/bandara dapat juga mengatasi masalah ini dengan menyediakan asuransi perjalanan yang dapat melindungi isi bagasi penumpang yang tidak terbatas pada barang berharga seperti perhiasan, komputer, kamera, mata uang, dsb saja tapi juga mencakup perlindungan untuk pakaian, tas, peralatan olahraga, peralatan musik, atau dekorasi rumah juga.\n",
    "3. Sementara layanan pengaduan klaim sebaiknya difokuskan pada dua titik saja, yaitu di _Checked Baggage_ dan _Checkpoint_, supaya pelayanan yang diberikan kepada penumpang dapat maksimal sehingga apabila ada kejadian yang menyebabkan klaim, penumpang mendapatkan penyelasaian yang memuaskan seperti _Approval In Full_ dan mengurangi peluang pengajuan _Deny_ akibat kurang bukti/informasi."
   ]
  }
 ],
 "metadata": {
  "kernelspec": {
   "display_name": "Python 3.10.4 64-bit",
   "language": "python",
   "name": "python3"
  },
  "language_info": {
   "codemirror_mode": {
    "name": "ipython",
    "version": 3
   },
   "file_extension": ".py",
   "mimetype": "text/x-python",
   "name": "python",
   "nbconvert_exporter": "python",
   "pygments_lexer": "ipython3",
   "version": "3.10.4"
  },
  "orig_nbformat": 4,
  "vscode": {
   "interpreter": {
    "hash": "d02e8e2c05f9b21cfe179d6a8c98da5e98e777072e46709003bd54d105fce132"
   }
  }
 },
 "nbformat": 4,
 "nbformat_minor": 2
}
